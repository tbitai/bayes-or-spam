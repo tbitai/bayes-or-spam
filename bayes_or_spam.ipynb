{
  "nbformat": 4,
  "nbformat_minor": 5,
  "metadata": {
    "kernelspec": {
      "name": "python3",
      "display_name": "Python 3"
    },
    "colab": {
      "name": "bayes_or_spam.ipynb",
      "provenance": [],
      "collapsed_sections": [],
      "toc_visible": true,
      "include_colab_link": true
    },
    "language_info": {
      "name": "python"
    }
  },
  "cells": [
    {
      "cell_type": "markdown",
      "metadata": {
        "id": "view-in-github",
        "colab_type": "text"
      },
      "source": [
        "<a href=\"https://colab.research.google.com/github/tbitai/bayes-or-spam/blob/main/bayes_or_spam.ipynb\" target=\"_parent\"><img src=\"https://colab.research.google.com/assets/colab-badge.svg\" alt=\"Open In Colab\"/></a>"
      ]
    },
    {
      "cell_type": "markdown",
      "metadata": {
        "tags": [],
        "id": "7f34d61e-eac3-4c0a-bd00-83813a1c6041"
      },
      "source": [
        "# Bayes or Spam? – Spam Filtering with Bayesian Epistemology\n",
        "\n",
        "This is an analysis of Bayesian spam filtering from the viewpoint of Bayesian epistemology. I'll review the Bayesian spam filtering algorithm, point out where it deviates from the principles of Bayesian epistemology, and present test results showing that the \"principled\" Bayesian spam filtering is also more effective.\n",
        "\n",
        "Bayesian spam filtering is one of the leading technologies of tackling spam. In his 2002 essay, [*A Plan for Spam*](http://paulgraham.com/spam.html), Paul Graham described the first effective Bayesian spam filtering algorithm. Today's Bayesian spam filters use essentially the same algorithm.\n",
        "\n",
        "Graham's motivation was that his earlier spam filters looking for individual spam features (e.g. does it contain `\"click\"`?) were not effective enough. As he writes, Bayesian spam filters recognized more features, e.g. `\"ff0000\"` (red's hexa code used in HTML)."
      ],
      "id": "7f34d61e-eac3-4c0a-bd00-83813a1c6041"
    },
    {
      "cell_type": "markdown",
      "metadata": {
        "id": "385488b9-629d-404d-a321-c2858e77f2a3"
      },
      "source": [
        "## Preparing the test dataset"
      ],
      "id": "385488b9-629d-404d-a321-c2858e77f2a3"
    },
    {
      "cell_type": "code",
      "metadata": {
        "id": "JV95MCpklYLm"
      },
      "source": [
        "import tensorflow as tf\n",
        "import numpy as np\n",
        "import matplotlib.pyplot as plt\n",
        "import matplotlib.ticker as mtick\n",
        "import itertools"
      ],
      "id": "JV95MCpklYLm",
      "execution_count": null,
      "outputs": []
    },
    {
      "cell_type": "markdown",
      "metadata": {
        "id": "OK7XIBR0jOYs"
      },
      "source": [
        "We're going to use the [Enron spam dataset collection](http://www2.aueb.gr/users/ion/data/enron-spam/index.html)'s `Enron1` dataset:"
      ],
      "id": "OK7XIBR0jOYs"
    },
    {
      "cell_type": "code",
      "metadata": {
        "id": "8EzANyjZCKhB",
        "colab": {
          "base_uri": "https://localhost:8080/"
        },
        "outputId": "cbde021b-f92a-4571-edda-839ced8ca133"
      },
      "source": [
        "ds_url = 'http://www.aueb.gr/users/ion/data/enron-spam/preprocessed/enron1.tar.gz'\n",
        "ds_path = tf.keras.utils.get_file(origin=ds_url, untar=True)"
      ],
      "id": "8EzANyjZCKhB",
      "execution_count": null,
      "outputs": [
        {
          "output_type": "stream",
          "name": "stdout",
          "text": [
            "Downloading data from http://www.aueb.gr/users/ion/data/enron-spam/preprocessed/enron1.tar.gz\n",
            "1810432/1802573 [==============================] - 1s 0us/step\n",
            "1818624/1802573 [==============================] - 1s 0us/step\n"
          ]
        }
      ]
    },
    {
      "cell_type": "code",
      "metadata": {
        "colab": {
          "base_uri": "https://localhost:8080/"
        },
        "id": "TPuPDSd-eVUK",
        "outputId": "eb34db11-b343-4f0c-9977-f820c8d6e124"
      },
      "source": [
        "ds_base_kwargs = dict(directory=ds_path, seed=42, validation_split=0.1)\n",
        "ds_train = tf.keras.utils.text_dataset_from_directory(**ds_base_kwargs, \n",
        "                                                      subset='training')\n",
        "\n",
        "for i, label in enumerate(ds_train.class_names):\n",
        "  print(f'{i}: {label}')\n",
        "for text, label in ds_train.unbatch().take(5).concatenate(\n",
        "                   ds_train.unbatch().filter(lambda _, l: l == 1).take(5)):\n",
        "  print(text.numpy())\n",
        "  print(label.numpy())"
      ],
      "id": "TPuPDSd-eVUK",
      "execution_count": null,
      "outputs": [
        {
          "output_type": "stream",
          "name": "stdout",
          "text": [
            "Found 5172 files belonging to 2 classes.\n",
            "Using 4655 files for training.\n",
            "0: ham\n",
            "1: spam\n",
            "b'Subject: meter variances - ua 4 clean - up\\r\\ndaren / vance -\\r\\nthe two meters below are new and have unallocatable flow . . . . . . . i will need a\\r\\npurchase for each of them . please respond with a deal number , or further\\r\\nsuggestions for resolution so that i can clear this up as soon as possible .\\r\\nmary\\r\\nenron on 09 / 19 / 2000 08 : 44 am - - - - - - - - - - - - - - - - - - - - - - - - - - -\\r\\nkatherine benedict @ ect\\r\\n09 / 18 / 2000 04 : 53 pm\\r\\nto : mary poorman / na / enron @ enron , fred boas / hou / ect @ ect , aimee\\r\\nlannou / hou / ect @ ect\\r\\ncc :\\r\\nsubject : meter variances - ua 4 clean - up\\r\\nhi guys ,\\r\\nplease take a look at the following meters which are showing up with\\r\\nvariances on my ua 4 report . once the variance has been cleared , please send\\r\\nme an e - mail . please try to clear these within the next couple of days .\\r\\nthanks ,\\r\\nkathy benedict\\r\\nmeter number : 9851\\r\\nvariance : 11 , 204\\r\\nmeter type : daily swing\\r\\nproduction month : august 2000\\r\\nlogistics contact : none\\r\\nvolume mgmt contact : anita luong\\r\\nmeter number : 9852\\r\\nvariance 568\\r\\nmeter type : daily swing\\r\\nproduction month : august 2000\\r\\nlogistics contact : none\\r\\nvolume mgmt contact : anita luong'\n",
            "0\n",
            "b'Subject: revision # 1 - hpl noms for november 3 , 2000\\r\\n( see attached file : hplnl 103 . xls )\\r\\n- hplnl 103 . xls'\n",
            "0\n",
            "b'Subject: txu fuels / sds nomination for april 2001\\r\\nattached is the april 2001 nomination for our takes under the gas sales and\\r\\npurchase contract between txu fuel company ( previously tufco ) and sds . please\\r\\nadvise should you have any questions concerning the attached .\\r\\nthanks ,\\r\\nccs\\r\\n( see attached file : sdsnom . xls )\\r\\n- sdsnom . xls'\n",
            "0\n",
            "b\"Subject: cleburne\\r\\ndaren & john ,\\r\\nsee the attached document regarding gas deliveries / nominations for the\\r\\ncleburne site . right now , i ' m planning to be in the houston office on\\r\\nthursday , august 3 , 2000 so we may be able to meet then . if there are any\\r\\nquestions , please call me for additional info .\\r\\nmichael mazowita\\r\\nphone : ( 248 ) 442 - 4823\\r\\ncell : ( 248 ) 345 - 4002\"\n",
            "0\n",
            "b\"Subject: rescheduling of usecase analysis for enom mtg .\\r\\nplease let me know if you would be available for the above mtg on tuesday ,\\r\\njan . 25 th from 1 : 00 - 4 : 00 asap .\\r\\nthanks ,\\r\\nmary\\r\\n- - - - - - - - - - - - - - - - - - - - - - forwarded by mary weatherstone / hou / ect on 01 / 21 / 2000\\r\\n11 : 42 am - - - - - - - - - - - - - - - - - - - - - - - - - - -\\r\\nmary weatherstone on 01 / 21 / 2000 11 : 30 : 15 am\\r\\nto : inja chun / hou / ect @ ect , paul f poellinger / hou / ect @ ect , dave\\r\\nnommensen / hou / ect @ ect , kevin montagne / hou / ect @ ect , michael\\r\\nguadarrama / hou / ect @ ect , robert superty / hou / ect @ ect , randall l\\r\\ngay / hou / ect @ ect , george smith / hou / ect @ ect , katherine l kelly / hou / ect @ ect ,\\r\\nedward terry / hou / ect @ ect , daren j farmer / hou / ect @ ect\\r\\ncc : jay webb / hou / ect @ ect , heather choate / hou / ect @ ect , yvette g\\r\\nconnevey / corp / enron @ enron , cindy cicchetti / hou / ect @ ect\\r\\nsubject : usecase analysis for enom mtg . - cancelled\\r\\nthe above referenced meeting that was scheduled for today at 2 : 00 - 5 : 00 in\\r\\neb 2601 a has been cancelled . i will contact everyone for a time to reschedule\\r\\nnext week .\\r\\nthanks ,\\r\\nmary\\r\\n- - - - - - - - - - - - - - - - - - - - - - forwarded by mary weatherstone / hou / ect on 01 / 21 / 2000\\r\\n11 : 27 am - - - - - - - - - - - - - - - - - - - - - - - - - - -\\r\\nmary weatherstone on 01 / 18 / 2000 05 : 34 : 25 pm\\r\\nto : inja chun / hou / ect @ ect , paul f poellinger / hou / ect @ ect , dave\\r\\nnommensen / hou / ect @ ect , kevin montagne / hou / ect @ ect , michael\\r\\nguadarrama / hou / ect @ ect , robert superty / hou / ect @ ect , randall l\\r\\ngay / hou / ect @ ect , george smith / hou / ect @ ect , katherine l kelly / hou / ect @ ect ,\\r\\nedward terry / hou / ect @ ect , daren j farmer / hou / ect @ ect\\r\\ncc : jay webb / hou / ect @ ect , heather choate / hou / ect @ ect , yvette g\\r\\nconnevey / corp / enron @ enron , cindy cicchetti / hou / ect @ ect\\r\\nsubject : usecase analysis for enom mtg .\\r\\nper jay ' s request the above referenced meeting has been scheduled for friday ,\\r\\njanuary 21 st at 2 : 00 - 5 : 00 in eb 2601 a .\\r\\nplease plan on attending . if you cannot attend , please let me know asap .\\r\\nthanks ,\\r\\nmary\"\n",
            "0\n",
            "b\"Subject: 54 - cy . . . adrian hideout\\r\\nor ( der the best mens products today\\r\\ncialis\\r\\n-\\r\\n( super\\r\\nviagra )\\r\\nvia ( gra\\r\\nvia ( gra\\r\\nsoft\\r\\ntabs\\r\\nlevitra\\r\\nsa ( ve u ( p t ( o 70 %\\r\\nwe ship to all us states and worldwide\\r\\ngenuine lo ( w pri ( ces , secure or ( der fo ( rm\\r\\ndiscreet billing and packaging\\r\\nother products\\r\\navailable\\r\\nambien - xanax\\r\\nvalium\\r\\n- m e r i d i a\\r\\nlipi tor - x e n i c a\\r\\nl\\r\\nand many other meds . . .\\r\\nm o r e i n\\r\\nf o h e r e\\r\\nto say adios muchachos head on over to :\\r\\nwww . rainbowboatl . com / d / uout . php\\r\\ndeem prefab wy downey ann weatherproof cadillac paraffin chairmen raven agricola belate applicate assassinate duplex caveman bayport semitic sulfide ambrose paralinguistic megabit difficult agate dreary alliance\\r\\nmirfak ladle diagonal codfish khan osborne parimutuel colloquy fresnel iq kurt ascend act lyman explain mammoth chigger alabama meier siva historic bolshevism diverse circumscribe aarhus chivalry askew towhee soon betatron imprison whimper arlen mulish scholastic gnp piper mezzo\\r\\nsymbiotic slick maximal lynn soothsay selectmen female incorrect ascription checkbook shopkeep crinkle ian austin expressible vernier resistor folksy vassal matrices roar where ' d consist crosswort d gilmore fiftieth cowgirl jaeger monetarist spheroidal mallow afterthought climax cognizant gerard caucasian sensorimotor menelaus gunflint lumpish theft abstractor andover featherweight cab walls they ' ll claudio hypodermic jujube\\r\\ncrossover sixtieth contraception convince cryostat rex whomsoever chose belief panacea adsorption clothesline afraid elinor hershel jockstrap numerology gonzales clothier cooke alberta lessee\\r\\nexxon flout rhodium anchovy toggle granny anneal derisive curran failure broomcorn errand elijah authenticate giddap hazelnut vellum denominate counterfeit haystack fastidious cognate pertain repulsion swarthmore hostess cecropia commiserate greater airmass debbie auditorium reinforce chippendale droopy centric wyoming horsefly dialup allotting burst combat heroism asylum allot cardioid burglarproof cobra bauble embraceable uphill seminar spellbound helmsman mockup airy coachmen deprive disjunct lest dropout laurie\\r\\nnumeral beatitude throw touchstone ox degradation curl arithmetic curb bye plank aborning phycomycetes finland carbone indomitable ornament armata transmitter annuli waylaid courtier mirfak brasilia baron berman spoonful coddle adsorptive charlemagne vengeful hewlett bucolic scorpion bondage coexistent connors decker jealous cahoot mutual oblige pyroxenite arrack navajo vociferous decision hut welsh salaried choreograph acorn rod cowl airframe bookplate recession\\r\\nhendrickson impregnate activation contagious versus ross olefin mountainside swain skill distribution myocardial eyesight embroider probity cogent decontrol christen automorphism blinn cabbage bicentennial cairo tug hub mba chug towhee dying magnet dietrich aeronautic nasturtium anarchic dysentery cannibal diamond byte discrepant conquistador chokeberry divulge needlepoint arachnid foundry critic urchin beebe conformation\\r\\nbrooke sutton freehold cacophony anterior proclaim deficit banana sophie gush swordplay sierra chess cross character boast involution edith hyperbolic eyeball league millikan placebo gingham ackley earsplitting ichneumon prevent danish apposition blinn bulrush melancholy minnesota lunar gingham downfall definitive cavilling regimen are trod increase responsible coors intestinal aquarius incubi budapest albany testicular jeff impression steely etruscan\\r\\nmadame orthogonal alto sludge scriptural worthington charlottesville custodial bryant ballard conformance pyre cheshire subvert bianco lacerta baptiste sperm coastline conjunct special compagnie cajole sago merciful insatiable canberra bid cenozoic flashlight arclength vestige blanchard selma inculcate beneficiary bootlegged stain governance betsy e ' er perspire liqueur dossier coeditor choreography contractual regiment oscillatory thoroughgoing contrary correlate fantastic aureomycin binghamton venerate provocateur raven steelmake aniseikonic\\r\\nbeckon addison antiperspirant audubon liniment mutter memorable caribbean snarl durer hale gauche britannica discriminant cobalt mcallister artery wallboard bridge hedonism crock educable megavolt colt millard lehman midpoint strata mingle\\r\\nallegiant cypriot marrow yukon pearlstone incant apocalypse bulldoze proline thrust est hygiene acrimony lanthanide ascendant aides chiffon crossword slope beacon atlantes curious wheatstone beep minstrel stopwatch produce handwrite diane salvation fenton charity cartilage bimini buoyant febrile marseilles abram tyler hurley dialectic\\r\\nconvolve insufferable riotous theism zachary dried coates geoduck soy neutron purge flaunt ambient brevet stirrup marin telephone disputant intrigue cardinal harem collapsible twiddle salk pithy insurrection nothing gleason goofy minnesota phobic yaw marietta highball here wingmen astrophysicist lenore straggle fireman british grosbeak charlie coven graves cuddly gorse electrolytic victual moderate germanium audrey act\\r\\nstopover tapeworm bremsstrahlung baffle henchman grieve heavyweight photo scarlatti churchgoing candide terminate statesman registry tour atheist ferocity pear schooner slough whitlock doubleday cylinder emblazon ababa cliffhang alderman spartan piccolo squeal aniline hager mnemonic canterelle absent bible schumann papacy plutonium coot beguile creosote delphic ackley\\r\\nductile chortle ribonucleic expressive arcsine casework sale mantlepiece turnout cliff beachcomb sunspot crush transduction compensate tread draftsperson pivot mustachio consist alabama osmotic johnny pantomimic cartilage boom angeles conley stereography fat concrete discussion daylight foot barberry\\r\\ncolosseum albania cornfield shark stuck sock plagiarist crabmeat crispin mccallum oases chocolate prone aruba whop capitol grosbeak interpretation thai antietam gumshoe pathogen cavilling contradistinct proteolysis aegean antisemitic selenate toil slip chin lavender pegging bayonet fossiliferous nne khaki alone muncie bitterroot manometer dab radium imagery gentle lessee voltaire dreamt secretary ammo catchup adjoin\\r\\ndesperate bangor inhere corpse alias befitting employer augment judicature bedevil boo schuyler hexagonal epileptic hornet potable sham bawl erodible catharsis bouffant scion avenge mental inattention lumbermen technology beryl diety areawide avis avocado certificate inhibition nectarine amoral banbury blank facile smooch become wheat bittersweet hardtack oat alyssum rochester sanitarium law umbilical nanking characteristic effusive prosodic usage delinquent catenate spay inequivalent\\r\\ninfrequent barry beadle dominant tunis sleet hayward degassing beaver motivate bernstein emile baronet panty america accede cobweb dervish discretion forever cerulean heath pinehurst duopolist melbourne ambrose vase lehman paperbound lipton caveman yellowish booklet rna t centigrade muse debar selenium grimaldi cybernetics fledge tasteful airway apartheid die squeegee dixie mad trenton registrable billiard\\r\\nprotestation seahorse honoraria abstractor cousin calliope cutback freight crackle priam supra newsman polarogram m ' s thrush forbore dyspeptic mawr faithful topeka brothel cybernetic alveolus immortal coffman coworker significant stress announce bowfin monongahela colombo cookbook carnival redden bel bunkmate tiffany compline courthouse flanagan boastful\\r\\ncontradistinction cylinder kaskaskia dissociable ridden concession chuff chimique indispensable very west centum stump volkswagen blanchard yon delicious mete tighten opel chard marigold chortle bilinear drone garb jigging profane click euphemist corpsman biaxial counterpoise copernican airy shag preface morbid contributory diethylstilbestrol chart exhaustion possess dandy bodybuild versus aesthetic incarcerate wan sunglasses montpelier vortices\\r\\nallergy determinate tulip corinth acumen perfidious fabricate carolingian basketball bun fischer mr colander dodecahedra effluvia monterey econometric inclination dodecahedral dickens bobbie colette dieldrin kauffman bangladesh oedipal lay cession tactic lorelei circumspect directorate monastery bogy rubble johannes reprehensible vaduz bean adoption hatfield chemise affirmative clockwatcher dysprosium mcknight gigantic\\r\\nmainline echelon boast retiree forum oldster cue boule agenda conquer nomadic acerbic testes focussed egan iran buzzword faustian darwinian perforce animadvert familiar taskmaster consultation kalmia ferric bed hanlon contrition engine postorder clothesbrush connoisseur connive camelot artichoke contagious lola switch stephanie cyrus filth referent dublin photometry\\r\\nbette ocular spear anecdote judith monarchy drift ainu comet elijah pent competent ectopic clad damsel firebug contretemps cannonball noel bevy turtle bakery debarring maxwellian becloud knobby typescript confidante aires bilharziasis simpleminded edgy manfred snoop mischievous technic bateman veal jet intelligentsia eclogue conscious bravado collage knead jobholder antigorite abdominal\\r\\ncit un bradshaw melville troubador classify crystal festive dope celebes fee czerniak sourberry raster perry efface malton elgin arpa generous arkansan colossus drunk dashboard robbin cynic prognosis directory ytterbium al diary cram embroidery speedy inelastic rebelled gordian bagley dereference forrest ilyushin achromatic herbert beman vigil bramble madden zellerbach botulism invoice ridgepole bon produce lancashire scopic warn abject squabble colloquy schedule divorce cadenza dicotyledon\\r\\narturo ninetieth beetle summary divine java cramer geminate transpacific excisable footpath braid codeword axis demitting applicant champagne bedridden masochism audio heathenish mat shove shrove postprocess sleepy altair cocoon archbishop flaky doubleton xerox boris verbiage calculate courtesy novice catalina black dallas ursula ainu catapult pygmy alimony aubrey contagion hackney bang\\r\\ninjudicious quadrille aggressive mortgagor celtic quarryman abel icosahedral stroke drive ambiance boeing base colossus felice hedgehog aberdeen mobster senegal cursor blandish capacity betony gown awoke tuneful cringe brassy aerodynamic demarcate leigh kirkland pizzicato\\r\\nathlete intemperance cargill loam help liqueur sloop cationic gymnosperm controversial incite vaughan brunswick school hey advert headquarters rustic handwaving lawbreaker unary conceive predisposition clergyman horseback narrow hassle cossack indelicate tragedian hydrofluoric shuffle conclude vichy abrogate anna quantitative alveolar douce felicitous crankcase maine builtin bellman swarthmore doll\\r\\nextenuate salmonberry orographic transposition dec she honesty retentive desert foggy bolshevist credo concubine tarbell dogbane dairymen harrow busboy shrapnel yacht cloak acrimony obviate impropriety paramount patrick polypropylene inhibit lentil julep deflater barge hive intercom fee nobel incise ravine publication thallophyte automatic blush chairwomen orography situs alterate charon compulsory controversial macdonald centerpiece kowloon parsley sleek cloak beauty frigga commutate gershwin strategy colette prurient cassius mill emil wholly exorcise lounge pathetic yip\"\n",
            "1\n",
            "b\"Subject: submision result\\r\\nhave you heard ?\\r\\nour home l o an department has gone mad !\\r\\nthey ' ve just reduced our m o r tga ges to 4 . 95 % fixed !\\r\\nez cred i t , ba n kruptcys and c r e dit problems are\\r\\nour specialty , let us help you .\\r\\nhttp : / / www . curdom . com /\\r\\nwilda yeager\\r\\nthe tony on our physique departure\\r\\nso of nautoclave endurance\\r\\nany revere be of and deprave\\r\\nchromatography incontrovertible no and crystal\\r\\n\"\n",
            "1\n",
            "b'Subject: online pahrma . cy you want\\r\\nwelcome to health suite ! chek it out !\\r\\niagra vic\\r\\nalis val\\r\\nx\\r\\nv\\r\\nodin ci\\r\\nium xana\\r\\nwe are the only store which gives this great deal\\r\\nto you .\\r\\nsave your health and\\r\\nmoney !'\n",
            "1\n",
            "b'Subject: dell pentium 4 2 . 8 ghz system\\r\\n$ 585 . 00\\r\\nthis dell system features a powerful\\r\\ncombination with the intel pentium 4 2 . 8 ghz processor\\r\\nand 256 mb ram . a large 40 gb hard disk drive plays host\\r\\nto microsoft windows xp home edition . a cd - rw drive ,\\r\\ndvd - rom drive and a floppy disk drive are all\\r\\npre - installed . integrated graphics and integrated audio\\r\\nare included to get you up and running\\r\\n.\\r\\nprocessor\\r\\nram\\r\\nhdd\\r\\ndrive\\r\\no / s\\r\\nothers\\r\\np 4 2 . 8 ghz\\r\\n256 mb\\r\\n40 gb\\r\\ndvd / cdrw + fdd\\r\\nwinxp home\\r\\nvga + sound\\r\\nvisit : http : / / www . computron - me . com for deals !\\r\\nyour one stop\\r\\ndistributorjebel ali duty free zonewww . computron - me . com\\r\\nfor latest clearance sale listing contact our\\r\\nsales department .\\r\\nonly limited quantities available on selected\\r\\nspecials ! ! ! !\\r\\nif you have any\\r\\ncomplaints / suggestions contact customerservice @ computron - me . com\\r\\ncompaq\\r\\nhewlett packard\\r\\n3 com\\r\\ndell\\r\\nintel\\r\\niomega\\r\\nepson\\r\\naopen\\r\\ncreative\\r\\ntoshiba\\r\\napc\\r\\ncisco\\r\\nus\\r\\nrobotics\\r\\nmicrosoft\\r\\ncanon\\r\\nintellinet\\r\\ntargus\\r\\nviewsonic\\r\\nibm\\r\\nsony\\r\\n- - - - - - - and lots more\\r\\n! ! !\\r\\ntel + 971 4 8834464\\r\\nall prices in u . s . dollars , ex - works ,\\r\\nfax + 971 4 8834454\\r\\njebel ali duty free zone\\r\\nwww . computron - me . com\\r\\nprices and availability subject to change\\r\\nusa - canada u . a . e .\\r\\nwithout\\r\\nnotice .\\r\\nto receive our special offers\\r\\nin plain\\r\\ntext format reply to this\\r\\nmail with the request * for export only\\r\\n*\\r\\nthis\\r\\nemail can not be considered spam as long as we include : contact\\r\\ninformation remove instructions . this message is intended for dealer\\r\\nand resellers only . if you have somehow gotten on this list in error , or\\r\\nfor any other reason would like to be removed , please reply with \" remove\\r\\n\" in the subject line of your message . this message is being sent to you\\r\\nin compliance with the federal legislation for commercial e - mail\\r\\n( h . r . 4176 - section 101 paragraph ( e ) ( 1 ) ( a ) and bill s . 1618 title iii\\r\\npassed by the 105 th u . s . congress .\\r\\nall logos and\\r\\ntrademarks are the property of their respective ownerstoshiba for export\\r\\nonly\\r\\nproducts may not be exactly as shown\\r\\nabove\\r\\n- -\\r\\nto unsubscribe from : computron 8 , just follow this link :\\r\\nclick the link , or copy and paste the address into your browser .'\n",
            "1\n",
            "b'Subject: d - link airplus g 802 . 11 g wireless router $ 87 . 00\\r\\n$ 87 . 00\\r\\nhigh speed\\r\\n( 802 . 11 g ) , 4 port\\r\\nwireless router\\r\\n54 mbps\\r\\n( 802 . 11 g ) , 4 port wireless routerdi - 524\\r\\nairplus g 802 . 11 g wireless\\r\\nrouter\\r\\nvisit : http : / / www . computron - me . com for deals !\\r\\nd - link airplus g\\r\\n802 . 11 g wireless router\\r\\nd - link , the industry leader in wireless\\r\\nnetworking , introduces another breakthrough in wireless\\r\\nconnectivity . the d - link\\r\\nairplus g di - 524 wireless router which is capable\\r\\nof transferring data at rates of up to\\r\\n54 mbps in the 2 . 4 ghz frequency - the same\\r\\nwireless frequency as 802 . 11 b . the d - link di - 524\\r\\nwireless router also offers four ethernet ports to\\r\\nsupport multiple computers . the advanced wireless\\r\\ntechnology built into the di - 524 wireless router offers\\r\\ndata transfer speeds up to 54 mbps through its wireless\\r\\nchannels allowing streaming videos and other high\\r\\nbandwidth applications , such as online gaming events , to\\r\\noperate without the hassle of ethernet cables . the\\r\\nability to use high bandwidth applications also makes\\r\\nstreaming real - time programs more enjoyable and more\\r\\nefficient . with the di - 524 wireless router \\' s built - in\\r\\nadvanced firewall , threats of hackers penetrating your\\r\\nnetwork are minimized .\\r\\ngeneral features :\\r\\n- 4 - port wireless\\r\\nrouter - 54 mbps maximum data transfer rate - web\\r\\nbased device management - dhcp server and client\\r\\ndevice management - 64 / 128 - bit wep encryption - up\\r\\nto 328 - feet\\r\\nrange\\r\\nyour one stop\\r\\ndistributorjebel ali duty free zonedubai , uae . www . computron - me . com\\r\\nfor latest clearance sale listing contact our\\r\\nsales department .\\r\\nonly limited quantities available on selected\\r\\nspecials ! ! ! !\\r\\nfor further details please send\\r\\nyour enquiries to : dealers @ emirates . net . aeor contact via www . computron - me . com\\r\\ncompaq\\r\\nhewlett packard\\r\\n3 com\\r\\ndell\\r\\nintel\\r\\niomega\\r\\nepson\\r\\naopen\\r\\ncreative\\r\\ntoshiba\\r\\napc\\r\\ncisco\\r\\nus\\r\\nrobotics\\r\\nmicrosoft\\r\\ncanon\\r\\nintellinet\\r\\ntargus\\r\\nviewsonic\\r\\nibm\\r\\nsony\\r\\n- - - - - - - and lots more\\r\\n! ! !\\r\\nif you have any\\r\\ncomplaints / suggestions contact : customerservice @ computron - me . com\\r\\ntel + 971 4\\r\\n8834464\\r\\nall prices in u . s . dollars , ex - works ,\\r\\nfax + 971 4\\r\\n8834454\\r\\njebel ali duty free zone\\r\\nwww . computron - me . com\\r\\nprices and availability subject to change\\r\\nusa -\\r\\ncanada u . a . e .\\r\\nwithout\\r\\nnotice .\\r\\nto receive our special offers\\r\\nin plain\\r\\ntext format reply to this\\r\\nmail with the request * for\\r\\nexport only *\\r\\nthis\\r\\nemail can not be considered spam as long as we include : contact\\r\\ninformation remove instructions . this message is intended for dealer\\r\\nand resellers only . if you have somehow gotten on this list in error , or\\r\\nfor any other reason would like to be removed , please reply with \" remove\\r\\n\" in the subject line of your message . this message is being sent to you\\r\\nin compliance with the federal legislation for commercial e - mail\\r\\n( h . r . 4176 - section 101 paragraph ( e ) ( 1 ) ( a ) and bill s . 1618 title iii\\r\\npassed by the 105 th u . s . congress .\\r\\nall logos and\\r\\ntrademarks are the property of their respective\\r\\nowners\\r\\nproducts may not be exactly as shown\\r\\nabove\\r\\n- -\\r\\nto unsubscribe from : computron 3 , just follow this link :\\r\\nclick the link , or copy and paste the address into your browser .\\r\\nplease give it atleast 48 hours for unsubscription to be effective .'\n",
            "1\n"
          ]
        }
      ]
    },
    {
      "cell_type": "markdown",
      "metadata": {
        "tags": [],
        "id": "1dc53414-cc0d-41c2-86c0-444820762091"
      },
      "source": [
        "## Graham's algorithm\n",
        "\n",
        "Here's an implementation of Graham's algorithm using Python and the TensorFlow machine learning package:\n",
        "\n",
        "Graham used a simple tokenization he came up with, but he admits that it can improved. Let's use TensorFlow's `tf.keras.preprocessing.text.text_to_word_sequence`:"
      ],
      "id": "1dc53414-cc0d-41c2-86c0-444820762091"
    },
    {
      "cell_type": "code",
      "metadata": {
        "id": "ad56913d-02c1-484b-90a5-0dafe09e7ae4",
        "colab": {
          "base_uri": "https://localhost:8080/"
        },
        "outputId": "2814712a-e510-493f-b235-9b94507baa83"
      },
      "source": [
        "def tokenize(text):\n",
        "    return tf.keras.preprocessing.text.text_to_word_sequence(\n",
        "        text.decode('latin_1')[9:],  # Remove 'Subject: ' from the beginning \n",
        "        filters='!\"#$%&()*+,-./:;<=>?@[\\]^_`{|}~\\t\\n\\r'  # Default + '\\r'\n",
        "        )\n",
        "\n",
        "for text, _ in ds_train.unbatch().take(5):\n",
        "  text_np = text.numpy()\n",
        "  print(text_np)\n",
        "  print(tokenize(text_np))"
      ],
      "id": "ad56913d-02c1-484b-90a5-0dafe09e7ae4",
      "execution_count": null,
      "outputs": [
        {
          "output_type": "stream",
          "name": "stdout",
          "text": [
            "b'Subject: eastrans nomination change effective 9 / 8 / 00\\r\\nplease decrease deliveries to eastrans to 0 mmbtu / dy for 9 / 8 / 00\\r\\nthe redeliveries will be 0 as well .\\r\\nthe over - delivery quantity for the fuels cotton valley gas will be valued per\\r\\nparagraph 3 of the contract price ( per mmbtu ) section in the transaction\\r\\nagreement .'\n",
            "['eastrans', 'nomination', 'change', 'effective', '9', '8', '00', 'please', 'decrease', 'deliveries', 'to', 'eastrans', 'to', '0', 'mmbtu', 'dy', 'for', '9', '8', '00', 'the', 'redeliveries', 'will', 'be', '0', 'as', 'well', 'the', 'over', 'delivery', 'quantity', 'for', 'the', 'fuels', 'cotton', 'valley', 'gas', 'will', 'be', 'valued', 'per', 'paragraph', '3', 'of', 'the', 'contract', 'price', 'per', 'mmbtu', 'section', 'in', 'the', 'transaction', 'agreement']\n",
            "b'Subject: eastrans nomination effective 5 / 1 / 01\\r\\neffective 5 / 1 / 01 , the deliveries and redeliveries will be 0 mmbtu / dy .\\r\\nthe transaction agreement will not be utilized .'\n",
            "['eastrans', 'nomination', 'effective', '5', '1', '01', 'effective', '5', '1', '01', 'the', 'deliveries', 'and', 'redeliveries', 'will', 'be', '0', 'mmbtu', 'dy', 'the', 'transaction', 'agreement', 'will', 'not', 'be', 'utilized']\n",
            "b'Subject: exxonmobil beaumont refinery fuel needs\\r\\nfyi - you will need to enter this into sitara - remember , first 10 , 000 / d is\\r\\neog transport .\\r\\n- - - - - - - - - - - - - - - - - - - - - - forwarded by lee l papayoti / hou / ect on 03 / 27 / 2000\\r\\n10 : 56 am - - - - - - - - - - - - - - - - - - - - - - - - - - -\\r\\n\" brian e nichols \" on 03 / 24 / 2000 02 : 20 : 27 pm\\r\\nto : lpapayo @ ect . enron . com\\r\\ncc : ( bcc : lee l papayoti / hou / ect )\\r\\nsubject : exxonmobil beaumont refinery fuel needs\\r\\nlee ,\\r\\ni did my fuel gas estimate and think that we will need 120 - 125 bbtu / day of\\r\\nfuel\\r\\ngas for the month of april . on a side note , we will bring down our gas\\r\\nturbine\\r\\ngenerator on sunday morning . this will bring our high pressure gas\\r\\nrequirements\\r\\ndown to essentially zero ( it will be zero if our hydrogen plant stays down )\\r\\nand\\r\\nthe demand will transfer to our low pressure gas . we will be in this\\r\\narrangement for approximately 20 days .\\r\\nbrian'\n",
            "['exxonmobil', 'beaumont', 'refinery', 'fuel', 'needs', 'fyi', 'you', 'will', 'need', 'to', 'enter', 'this', 'into', 'sitara', 'remember', 'first', '10', '000', 'd', 'is', 'eog', 'transport', 'forwarded', 'by', 'lee', 'l', 'papayoti', 'hou', 'ect', 'on', '03', '27', '2000', '10', '56', 'am', 'brian', 'e', 'nichols', 'on', '03', '24', '2000', '02', '20', '27', 'pm', 'to', 'lpapayo', 'ect', 'enron', 'com', 'cc', 'bcc', 'lee', 'l', 'papayoti', 'hou', 'ect', 'subject', 'exxonmobil', 'beaumont', 'refinery', 'fuel', 'needs', 'lee', 'i', 'did', 'my', 'fuel', 'gas', 'estimate', 'and', 'think', 'that', 'we', 'will', 'need', '120', '125', 'bbtu', 'day', 'of', 'fuel', 'gas', 'for', 'the', 'month', 'of', 'april', 'on', 'a', 'side', 'note', 'we', 'will', 'bring', 'down', 'our', 'gas', 'turbine', 'generator', 'on', 'sunday', 'morning', 'this', 'will', 'bring', 'our', 'high', 'pressure', 'gas', 'requirements', 'down', 'to', 'essentially', 'zero', 'it', 'will', 'be', 'zero', 'if', 'our', 'hydrogen', 'plant', 'stays', 'down', 'and', 'the', 'demand', 'will', 'transfer', 'to', 'our', 'low', 'pressure', 'gas', 'we', 'will', 'be', 'in', 'this', 'arrangement', 'for', 'approximately', '20', 'days', 'brian']\n",
            "b\"Subject: re : meter 9707\\r\\nfyi - there is flow for 10 / 2 as well .\\r\\nal\\r\\ndaren j farmer\\r\\n10 / 02 / 2000 02 : 23 pm\\r\\nto : aimee lannou / hou / ect @ ect\\r\\ncc : robert cotten / hou / ect @ ect\\r\\nsubject : re : meter 9707\\r\\ni rolled this deal for day one in october only .\\r\\nbob - please check with vance on this deal . has it terminated or should it\\r\\nroll for october . i don ' t think that vance nom ' d anything .\\r\\nd\\r\\naimee lannou 10 / 02 / 2000 10 : 49 am\\r\\nto : daren j farmer / hou / ect @ ect , robert cotten / hou / ect @ ect\\r\\ncc :\\r\\nsubject : meter 9707\\r\\ndaren - meter 9707 has flow for oct . 1 ( 1 . 459 mmbtu ) . deal # 125786 was used\\r\\nfor sept . 2000 . could you please extend the deal or have a new one\\r\\ncreated ? thanks .\\r\\nal\"\n",
            "['re', 'meter', '9707', 'fyi', 'there', 'is', 'flow', 'for', '10', '2', 'as', 'well', 'al', 'daren', 'j', 'farmer', '10', '02', '2000', '02', '23', 'pm', 'to', 'aimee', 'lannou', 'hou', 'ect', 'ect', 'cc', 'robert', 'cotten', 'hou', 'ect', 'ect', 'subject', 're', 'meter', '9707', 'i', 'rolled', 'this', 'deal', 'for', 'day', 'one', 'in', 'october', 'only', 'bob', 'please', 'check', 'with', 'vance', 'on', 'this', 'deal', 'has', 'it', 'terminated', 'or', 'should', 'it', 'roll', 'for', 'october', 'i', 'don', \"'\", 't', 'think', 'that', 'vance', 'nom', \"'\", 'd', 'anything', 'd', 'aimee', 'lannou', '10', '02', '2000', '10', '49', 'am', 'to', 'daren', 'j', 'farmer', 'hou', 'ect', 'ect', 'robert', 'cotten', 'hou', 'ect', 'ect', 'cc', 'subject', 'meter', '9707', 'daren', 'meter', '9707', 'has', 'flow', 'for', 'oct', '1', '1', '459', 'mmbtu', 'deal', '125786', 'was', 'used', 'for', 'sept', '2000', 'could', 'you', 'please', 'extend', 'the', 'deal', 'or', 'have', 'a', 'new', 'one', 'created', 'thanks', 'al']\n",
            "b'Subject: hpl nom for march 21 , 2001\\r\\n( see attached file : hplno 321 . xls )\\r\\n- hplno 321 . xls'\n",
            "['hpl', 'nom', 'for', 'march', '21', '2001', 'see', 'attached', 'file', 'hplno', '321', 'xls', 'hplno', '321', 'xls']\n"
          ]
        }
      ]
    },
    {
      "cell_type": "markdown",
      "source": [
        "Now let's count the spam and ham occurrences of each word:"
      ],
      "metadata": {
        "id": "ElUDWcvCr2i9"
      },
      "id": "ElUDWcvCr2i9"
    },
    {
      "cell_type": "code",
      "metadata": {
        "colab": {
          "base_uri": "https://localhost:8080/"
        },
        "id": "NDV2IBEYaGDn",
        "outputId": "aa572fe6-5dee-48c4-c83a-0471c5128a3b"
      },
      "source": [
        "good = {}\n",
        "bad = {}\n",
        "for text_batch, label_batch in ds_train:\n",
        "  for i in range(len(text_batch)):\n",
        "    text = text_batch.numpy()[i]\n",
        "    label = label_batch.numpy()[i]\n",
        "    for token in tokenize(text):\n",
        "      good_or_bad = bad if label == 1 else good\n",
        "      good_or_bad.setdefault(token, 0)\n",
        "      good_or_bad[token] += 1\n",
        "\n",
        "def dslice(dictionary, stop):\n",
        "  return dict(itertools.islice(dictionary.items(), stop))\n",
        "\n",
        "def dvsorted(dictionary, reverse):\n",
        "  return dict(sorted(dictionary.items(), key=lambda i: i[1], reverse=reverse))\n",
        "\n",
        "print(dslice(dvsorted(good, reverse=True), 25))\n",
        "print(dslice(dvsorted(bad, reverse=True), 25))"
      ],
      "id": "NDV2IBEYaGDn",
      "execution_count": null,
      "outputs": [
        {
          "output_type": "stream",
          "name": "stdout",
          "text": [
            "{'the': 16460, 'to': 13750, 'ect': 12624, 'for': 7254, 'and': 7118, 'hou': 6627, 'enron': 6028, 'on': 5474, 'a': 5473, \"'\": 5357, 'of': 5057, 'you': 4874, 'i': 4773, 'this': 4444, 'is': 4409, 'in': 4060, '2000': 3981, 'be': 3407, 'will': 3125, 'that': 3064, 'from': 2914, 'have': 2895, 'we': 2863, 'at': 2677, 'gas': 2593}\n",
            "{'the': 6584, 'to': 4650, 'and': 4402, 'of': 4087, 'a': 3427, 'in': 2802, 'you': 2471, 'for': 2293, 'this': 2044, 'is': 2033, 'your': 1761, \"'\": 1579, 'with': 1339, 's': 1210, 'that': 1208, 'be': 1190, 'or': 1177, 'on': 1130, 'as': 1087, 'are': 1025, 'we': 994, 'i': 981, 'it': 948, 'not': 947, 'our': 945}\n"
          ]
        }
      ]
    },
    {
      "cell_type": "markdown",
      "metadata": {
        "id": "jw-TDzBMScui"
      },
      "source": [
        "The next step is to determine the word probabilities. Graham uses a complicated formula for that, which can be simplified using the fact that the number of spam and ham emails is the same for him. Additionally removing the edge-case handlings, we arrive at the standard relative frequency formula:\n",
        "\n",
        "$$\\frac{b / n_b}{g / n_g + b / n_b} \\underset{n_g = n_b}{=} \\frac{b}{g + b} = \\frac{\\mathbb{P}(\\textrm{spam} \\land \\textrm{word})}{\\mathbb{P}(\\textrm{word})} = \\mathbb{P}(\\textrm{spam} \\mid \\textrm{word}).$$\n",
        "\n",
        "Graham also added a bias: he double counted the non-spam occurrences. As he wrote, this reduced the number of false positive for him (he used his own mailbox for testing)."
      ],
      "id": "jw-TDzBMScui"
    },
    {
      "cell_type": "code",
      "metadata": {
        "id": "FKunBZQ567iz",
        "colab": {
          "base_uri": "https://localhost:8080/"
        },
        "outputId": "a390285a-42d0-4b20-e014-b18382f29394"
      },
      "source": [
        "word_probs_graham = {}\n",
        "for word in {**good, **bad}.keys():\n",
        "  if word in word_probs_graham:\n",
        "    continue\n",
        "  g = 2 * good.get(word, 0)  # Here's the bias\n",
        "  b = bad.get(word, 0)\n",
        "  word_probs_graham[word] = b / (g + b)\n",
        "  \n",
        "print(dslice(word_probs_graham, 10))"
      ],
      "id": "FKunBZQ567iz",
      "execution_count": null,
      "outputs": [
        {
          "output_type": "stream",
          "name": "stdout",
          "text": [
            "{'txu': 0.0, 'fuels': 0.0029850746268656717, 'sds': 0.0, 'nomination': 0.0009319664492078285, 'for': 0.13647997143027202, 'january': 0.08254397834912043, '2001': 0.001091703056768559, 'attached': 0.006602336211274758, 'is': 0.1873560040549258, 'the': 0.16666666666666666}\n"
          ]
        }
      ]
    },
    {
      "cell_type": "markdown",
      "source": [
        "For a word which was never seen before, he sets $0.4$ probability. (\"\\[I\\]t is probably fairly innocent; spam words tend to be all too familiar.\")"
      ],
      "metadata": {
        "id": "YrLzY7hbvvGH"
      },
      "id": "YrLzY7hbvvGH"
    },
    {
      "cell_type": "code",
      "metadata": {
        "colab": {
          "base_uri": "https://localhost:8080/"
        },
        "id": "4T2RM8rInA36",
        "outputId": "de856794-52d0-4c7c-ecc3-9a07114bf347"
      },
      "source": [
        "def get_word_prob(word, word_probs):\n",
        "  return word_probs.get(word, 0.4)\n",
        "\n",
        "print(get_word_prob('enron', word_probs_graham))\n",
        "print(get_word_prob('company', word_probs_graham))\n",
        "print('neverseen' not in word_probs_graham)\n",
        "print(get_word_prob('neverseen', word_probs_graham))"
      ],
      "id": "4T2RM8rInA36",
      "execution_count": null,
      "outputs": [
        {
          "output_type": "stream",
          "name": "stdout",
          "text": [
            "0.0\n",
            "0.44625407166123776\n",
            "True\n",
            "0.4\n"
          ]
        }
      ]
    },
    {
      "cell_type": "markdown",
      "source": [
        "The probability of independent events' intersection can be calculated from the individual events' probabilities $p_1, \\dots , p_n$ as\n",
        "\n",
        "$$\\frac{\\prod_{i=1}^n p_i}{\\prod_{i=1}^n p_i \\prod_{i=1}^n (1 - p_i)}.$$"
      ],
      "metadata": {
        "id": "PuWUVGWzxJni"
      },
      "id": "PuWUVGWzxJni"
    },
    {
      "cell_type": "code",
      "metadata": {
        "id": "-Ojcv5nMr885",
        "colab": {
          "base_uri": "https://localhost:8080/"
        },
        "outputId": "8a57f189-56bd-4665-8a2e-fc9dbe210ba3"
      },
      "source": [
        "def combine(probs):\n",
        "    prod = np.prod(probs)\n",
        "    neg_prod = np.prod([1 - p for p in probs])\n",
        "    return prod / (prod + neg_prod)\n",
        "\n",
        "print(combine([0.6, 0.72]))"
      ],
      "id": "-Ojcv5nMr885",
      "execution_count": null,
      "outputs": [
        {
          "output_type": "stream",
          "name": "stdout",
          "text": [
            "0.7941176470588235\n"
          ]
        }
      ]
    },
    {
      "cell_type": "markdown",
      "source": [
        "The spam probability of an email is calculated based on the most interesting fifteen words in it, where interestingness is defined by how far they are from $0.5$:"
      ],
      "metadata": {
        "id": "WevuME9jzz9M"
      },
      "id": "WevuME9jzz9M"
    },
    {
      "cell_type": "code",
      "source": [
        "def get_interesting_probs(probs):\n",
        "  return sorted(probs, \n",
        "                key=lambda p: abs(p - 0.5),\n",
        "                reverse=True)[:15]\n",
        "\n",
        "print(get_interesting_probs([0.001, 0.002, 0.003, 0.004, 0.005,\n",
        "                             0.91, 0.92, 0.93, 0.94, 0.95,\n",
        "                             0.006, 0.007, 0.008, 0.009, 0.01,\n",
        "                             0.4, 0.5, 0.6]))"
      ],
      "metadata": {
        "colab": {
          "base_uri": "https://localhost:8080/"
        },
        "id": "JPFwoiXg_9-F",
        "outputId": "4f6177f4-9d77-4fb4-8ac2-62691c5e733c"
      },
      "id": "JPFwoiXg_9-F",
      "execution_count": null,
      "outputs": [
        {
          "output_type": "stream",
          "name": "stdout",
          "text": [
            "[0.001, 0.002, 0.003, 0.004, 0.005, 0.006, 0.007, 0.008, 0.009, 0.01, 0.95, 0.94, 0.93, 0.92, 0.91]\n"
          ]
        }
      ]
    },
    {
      "cell_type": "code",
      "metadata": {
        "colab": {
          "base_uri": "https://localhost:8080/"
        },
        "id": "_z0pcLJhsHjL",
        "outputId": "580d3f52-15f9-4b9c-969b-cd82455ef8a3"
      },
      "source": [
        "def get_text_prob(text, word_probs):\n",
        "  words = tokenize(text)\n",
        "  probs = [get_word_prob(w, word_probs) for w in words]\n",
        "  interesting_probs = get_interesting_probs(probs)\n",
        "  return combine(interesting_probs)\n",
        "\n",
        "print(get_text_prob(b'Subject: sex', word_probs_graham))\n",
        "print(get_text_prob(b'Subject: Enron', word_probs_graham))"
      ],
      "id": "_z0pcLJhsHjL",
      "execution_count": null,
      "outputs": [
        {
          "output_type": "stream",
          "name": "stdout",
          "text": [
            "0.974025974025974\n",
            "0.0\n"
          ]
        }
      ]
    },
    {
      "cell_type": "markdown",
      "source": [
        "An email is predicted to be spam above $0.9$ probability."
      ],
      "metadata": {
        "id": "5hNlaI8q1wux"
      },
      "id": "5hNlaI8q1wux"
    },
    {
      "cell_type": "code",
      "metadata": {
        "colab": {
          "base_uri": "https://localhost:8080/"
        },
        "id": "NSQHGKkTuX6J",
        "outputId": "d125af31-fb91-41de-d48a-4d8ecc7d2d86"
      },
      "source": [
        "def predict_label(text, word_probs):\n",
        "  return 1 if get_text_prob(text, word_probs) > 0.9 else 0\n",
        "\n",
        "print(predict_label(b'Subject: sex', word_probs_graham))\n",
        "print(predict_label(b'Subject: Enron', word_probs_graham))"
      ],
      "id": "NSQHGKkTuX6J",
      "execution_count": null,
      "outputs": [
        {
          "output_type": "stream",
          "name": "stdout",
          "text": [
            "1\n",
            "0\n"
          ]
        }
      ]
    },
    {
      "cell_type": "markdown",
      "metadata": {
        "id": "8QulRgo0_TrP"
      },
      "source": [
        "Now let's set up our test dataset, and evaluate Graham's spam filter."
      ],
      "id": "8QulRgo0_TrP"
    },
    {
      "cell_type": "code",
      "metadata": {
        "id": "O5asiUPnAm-g",
        "colab": {
          "base_uri": "https://localhost:8080/"
        },
        "outputId": "a096654a-cac0-4650-ea53-cd75189cd567"
      },
      "source": [
        "ds_test = tf.keras.utils.text_dataset_from_directory(**ds_base_kwargs,\n",
        "                                                     subset='validation')\n",
        "\n",
        "for text, label in ds_test.unbatch().take(10):\n",
        "  print(text.numpy())\n",
        "  print(label.numpy())"
      ],
      "id": "O5asiUPnAm-g",
      "execution_count": null,
      "outputs": [
        {
          "output_type": "stream",
          "name": "stdout",
          "text": [
            "Found 5172 files belonging to 2 classes.\n",
            "Using 517 files for validation.\n",
            "b'Subject: cdnow shipment confirmation\\r\\ndear daren ,\\r\\nthank you for shopping at cdnow . please keep this email invoice for\\r\\nyour records .\\r\\non april 3 we shipped your order number 17817331 for the following item :\\r\\nrobert earl keen : walking distance\\r\\nformat : cd quantity : 1 price : 12 . 99\\r\\nto the following address via u . s . postal service :\\r\\ndaren farmer\\r\\n5519 clarkston ln\\r\\nspring , tx 77379\\r\\ntotal number of items : 1\\r\\nsubtotal : $ 12 . 99\\r\\nshipping : $ 2 . 99\\r\\nsales tax : $ 0 . 00\\r\\n- - - - - - - - - -\\r\\nshipment total : $ 15 . 98\\r\\nyour order was billed to daren farmer . this shipment completes your\\r\\norder and is paid in full .\\r\\nmost orders arrive within 4 - 8 business days . however , in rare instances\\r\\nit may take up to 2 weeks .\\r\\nfor complete information about your order ( number 17817331 ) or to\\r\\nconfirm the status , click or copy / paste this link into your web browser :\\r\\nhttp : / / cdnow . com / myorder / otid = 17817331\\r\\nyou can also access your order history directly from our home page .\\r\\nplease do not reply to this email . if you have questions about your order\\r\\nthat are not addressed in your online order history , please visit our contact\\r\\ncdnow page using this link :\\r\\nhttp : / / cdnow . com / service\\r\\nfast forward rewards ( tm ) program points for this order will\\r\\nbe credited in your membership summary as \" points earned . \"\\r\\nthanks again for your order .\\r\\nsincerely ,\\r\\ncustomer service\\r\\ncdnow , inc . your music . your store .\\r\\nhttp : / / cdnow . com\\r\\naol keyword : cdnow\\r\\n1757978'\n",
            "0\n",
            "b'Subject: bottle of beer bodice rippers beyond 3735\\r\\nreinforce checksum continuo bell finery refection headway cromwellian jiffy mephistopheles cougar fungoid violin carthage majestic monmouth squeeze eveready dispensary stateroom douglas floury deferring too catkin embassy blythe greenhouse ireland denote warden vertical demerit school ac emmanuel evenhanded shirk vixen grandparent rm 8\\r\\nstreamside betrayer al rhombic eyewitness tack baggage cowboy axisymmetric idiosyncrasy vwy 9\\r\\ndurableoperon'\n",
            "1\n",
            "b'Subject: over 160 fda approved meds\\r\\n% rnd _ alt % rnd _ alt % rnd _ alt\\r\\nover 160 meds to choose from with no prescription required\\r\\nnever mind !\\r\\n% rnd _ alt % rnd _ alt % rnd _ alt\\r\\n'\n",
            "1\n",
            "b\"Subject: equistar feb - 01\\r\\ndaren - here are the equistar # ' s . there should be a total of 65 . 000 . there\\r\\nis a new deal per janice at equistar at meter 1373 effective 2 / 01 . i have\\r\\nnot seen a deal for this . let me know if it is legitimate . no volumes were\\r\\nadded , just moved from meter to meter . ( deal # 378904 ) thanks .\\r\\nal\"\n",
            "0\n",
            "b'Subject: the foundation course - bottom - line project management ( july 25 - 26 )\\r\\nwe said it was coming and here it is . . . . .\\r\\nbottom - line project management\\r\\nthe foundation course\\r\\njuly 25 \\x01 ) 26 , 2000\\r\\ntarget audience\\r\\nthis class is for people new to project management , from all functions and at\\r\\nall leadership levels . in addition , it \\' s for shirt sleeve project managers ,\\r\\nmembers of large project teams and individual contributors . participants may\\r\\nhave business experience but little project management training . they do\\r\\npart of the project themselves and use borrowed resources to do the rest .\\r\\nthe \\x01 & basics \\x01 8\\r\\nteaches the basics \\x01 ) how to plan , schedule , resource , influence , track ,\\r\\nreport and complete any size project in any area . features pre - work , action\\r\\nlearning , individual and team exercises and a mini - simulation of a project on\\r\\nwhich participants practice skills and get immediate feedback on results .\\r\\nwhat you learn\\r\\nparticipants learn and take away an application package , the bottom - line tool\\r\\nkit , to successfully implement their next project assignment . there is an\\r\\noption to use project software in class to identify critical path , modify\\r\\ntasks , and control projects .\\r\\nkey learning points :\\r\\nspeak a common language \\x01 ) use basic terms , answer key questions\\r\\nidentify behaviors of effective project leaders and teams\\r\\n5 - step common sense methodology to plan , organize , resource , implement and\\r\\nclose - out any size project \\x01 ) in any area\\r\\norganizational terms & definitions : stakeholders , customers , sponsors , etc .\\r\\ndevelop and apply 3 key visual tools to planing and track performance\\r\\nresource , staff and complete projects , with limited , \\x01 billed to your rc and company\\r\\nnumber\\r\\nto enroll\\r\\nsign up on line through the organizational development & training intranet\\r\\nsite , which can be accessed through enron \\' s home page . click on \" sites \" ,\\r\\n\" intranet sites \" and then \" organizational development & training \" . then\\r\\nclick on \" training \" and then \" leadership training \" . or , go directly to the\\r\\nsite by entering the intranet address below .\\r\\nif you have any questions about this course or any other offerings\\r\\nsponsored by od & t , feel free to contact\\r\\nsusan m . lewis at 713 - 853 - 9712 or slewis 2 @ enron . com .'\n",
            "0\n",
            "b'Subject: strapon fucked cunt lickin dyke .\\r\\nshe especially loves black penis that can bang her wet pussy to give her a real good pounding .\\r\\nthe gorgeous gang bang floosie .\\r\\nnatural , hairy , dreadlocked , hemp wearing , barefoot , earth - loving goddesses .\\r\\nbut their determination to banish fools foundered ultimately in the installation of absolute idiots .\\r\\n'\n",
            "1\n",
            "b\"Subject: new product ! cialis soft tabs .\\r\\nhi !\\r\\nwe have a new product that we offer to you , c _ i _ a _ l _ i _ s soft tabs ,\\r\\ncialis soft tabs is the new impotence treatment drug that everyone is talking\\r\\nabout . soft tabs acts up to 36 hours , compare this to only two or three hours\\r\\nof viagra action ! the active ingredient is tadalafil , same as in brand cialis .\\r\\nsimply disolve half a pill under your tongue , 10 min before sex , for the best\\r\\nerections you ' ve ever had !\\r\\nsoft tabs also have less sidebacks ( you can drive or mix alcohol drinks with them ) .\\r\\nyou can get it at : http : / / go - medz . com / soft /\\r\\nno thanks : http : / / go - medz . com / rr . php\\r\\n\"\n",
            "1\n",
            "b'Subject: may activity survey\\r\\ndaren ,\\r\\nplease provide the number of producer services deals for the month of may\\r\\n( new vs . existing )\\r\\nshari\\r\\n3 - 3859\\r\\n- - - - - - - - - - - - - - - - - - - - - - forwarded by shari mao / hou / ect on 06 / 06 / 2000 01 : 02 pm\\r\\n- - - - - - - - - - - - - - - - - - - - - - - - - - -\\r\\njames scribner @ enron\\r\\n05 / 30 / 2000 11 : 43 am\\r\\nto : bob klein / hou / ect @ ect , bryce baxter / hou / ect @ ect , carrie\\r\\nhollomon / hou / ect @ ect , cheryl dudley / hou / ect @ ect , daren j farmer / hou / ect @ ect ,\\r\\nfaye ellis / hou / ect @ ect , gordon heaney / corp / enron @ enron , judy\\r\\nbarnes / hou / ect @ ect , kathryn cordes / hou / ect @ ect , kim s theriot / hou / ect @ ect ,\\r\\nlinda s bryan / hou / ect @ ect , lisa csikos / hou / ect @ ect , mary g\\r\\ngosnell / hou / ect @ ect , michael e moscoso / hou / ect @ ect , pat\\r\\nclynes / corp / enron @ enron , rita wynne / hou / ect @ ect , d todd hall / hou / ect @ ect ,\\r\\nirene flynn / hou / ect @ ect , donna consemiu / hou / ect @ ect , bill d hare / hou / ect @ ect ,\\r\\nconnie sutton / hou / ect @ ect , dan houston / corp / enron @ enron , michael\\r\\neiben / hou / ect @ ect\\r\\ncc : lisa b cousino / hou / ect @ ect , shari mao / hou / ect @ ect , jennifer\\r\\nreside / hou / ect @ ect , elmo gore / corp / enron @ enron\\r\\nsubject : may activity survey\\r\\nattached please find the activity survey for the month of may , 2000 .\\r\\ni am sending the survey out this time as an opportunity to introduce myself\\r\\nto those of you i have not yet met . i am being asked to take a direct roll\\r\\nin the further development and rollout of the operations pricing model ( fka\\r\\ntransaction cost model ) . in the past , i have directed the implementation of\\r\\nseveral pricing systems based on activity based costing similar to the\\r\\noperations pricing model ( opm ) . over the past couple of weeks my\\r\\nobservations of the model have lead me to be concerned with the quality of\\r\\ndata used in the model . it will take efforts by both you and the opm team to\\r\\nget to a satisfactory level of data quality . this process can start with\\r\\nthis months data collection efforts . please pay particular attention this\\r\\nmonth as the \" bar is being raised \" by the management of energy operations for\\r\\ndata quality and timeliness .\\r\\nthe attached survey drives your costs from your activities to the commercial\\r\\nteams . please select your rcs , and fill in the driver quantity for the\\r\\nrequested driver for the month of may . please fill out the attached activity\\r\\ndriver survey with may numbers for your rc and return to shari mao by end of\\r\\nday friday , june 2 .\\r\\nplease note the following updates :\\r\\nfor nat gas , sally beck is interested in physical ( as denoted as ph in the\\r\\nsurvey ) vs . financial ( as denoted as fi in the survey ) numbers , please\\r\\nprovide statistics accordingly\\r\\nif a driver has not been updated per your request , please call or email\\r\\njennifer reside\\r\\nif you have additional updates / suggestions or items that need correction ,\\r\\nplease call or email jennifer reside\\r\\nif your group currently generates a standard report that captures the\\r\\nsurveyed data , please send the report to jennifer reside . this will\\r\\neliminate your need to fill out this survey every month . if you would like\\r\\nus to collect this information from someone within your team beginning next\\r\\nmonth , please let jennifer know .\\r\\nplease contact jennifer reside x 3 - 5971 with questions ( shari is on vacation\\r\\nthis week ) , or if you are unable to complete the survey within the allotted\\r\\ntime .'\n",
            "0\n",
            "b'Subject: wacog for sale to cannon winter 2000 - 01\\r\\naccording to the contract the pricing of the gas we are selling back to\\r\\ncannon is a wacog of what we bought it for this summer . here is the\\r\\ncalculation of the wacog . let me know if there are any questions / comments .\\r\\ndave'\n",
            "0\n",
            "b\"Subject: dave n out until july 5 th\\r\\ni will be taking a sabbatical beginning any moment . i have no control over\\r\\nthe exact time ; it may have already happened . i plan to visit the mountains\\r\\nand the ocean . they miss me . i miss them .\\r\\nunfortunately , enron requires employees to use vacation time instead of inner\\r\\nself time , so i will have to return someday . looks like july 5 th . i ' m kind\\r\\nof bummed about it , but maybe by then i will have transcended to a new\\r\\nplateau of understanding .\\r\\nin my absence , contact milind patil , x 39247 for unify performance issues .\\r\\nthanks for understanding ,\\r\\nthe persona formerly known as dave ( the keyboard can no longer be used to\\r\\nspell my new name )\"\n",
            "0\n"
          ]
        }
      ]
    },
    {
      "cell_type": "code",
      "metadata": {
        "colab": {
          "base_uri": "https://localhost:8080/"
        },
        "id": "IvM-JdgdyJbB",
        "outputId": "4abcc8bb-aae3-4b67-d96f-7cec48275d40"
      },
      "source": [
        "def evaluate(prediction, label):\n",
        "  if prediction == 1 and label == 1:\n",
        "    return 'true positive'\n",
        "  elif prediction == 0 and label == 0:\n",
        "    return 'true negative'\n",
        "  elif prediction == 1:\n",
        "    return 'false positive'\n",
        "  else:\n",
        "    return 'false negative'\n",
        "\n",
        "print(evaluate(1, 1))\n",
        "print(evaluate(0, 0))\n",
        "print(evaluate(1, 0))\n",
        "print(evaluate(0, 1))"
      ],
      "id": "IvM-JdgdyJbB",
      "execution_count": null,
      "outputs": [
        {
          "output_type": "stream",
          "name": "stdout",
          "text": [
            "true positive\n",
            "true negative\n",
            "false positive\n",
            "false negative\n"
          ]
        }
      ]
    },
    {
      "cell_type": "code",
      "metadata": {
        "colab": {
          "base_uri": "https://localhost:8080/"
        },
        "id": "hWg504C6xTtx",
        "outputId": "51c3b9dc-dd37-4627-b07c-46c194c5d90b"
      },
      "source": [
        "def predict_and_evaluate(tf_text, tf_label, word_probs):\n",
        "  return evaluate(predict_label(tf_text.numpy(), word_probs), tf_label.numpy())\n",
        "\n",
        "results_graham = {'true positive': 0,\n",
        "                  'true negative': 0,\n",
        "                  'false positive': 0,\n",
        "                  'false negative': 0}\n",
        "for t, l in ds_test.unbatch():\n",
        "  results_graham[predict_and_evaluate(t, l, word_probs_graham)] += 1\n",
        "\n",
        "print(results_graham)"
      ],
      "id": "hWg504C6xTtx",
      "execution_count": null,
      "outputs": [
        {
          "output_type": "stream",
          "name": "stdout",
          "text": [
            "{'true positive': 80, 'true negative': 369, 'false positive': 0, 'false negative': 68}\n"
          ]
        },
        {
          "output_type": "stream",
          "name": "stderr",
          "text": [
            "/usr/local/lib/python3.7/dist-packages/ipykernel_launcher.py:4: RuntimeWarning: invalid value encountered in double_scalars\n",
            "  after removing the cwd from sys.path.\n"
          ]
        }
      ]
    },
    {
      "cell_type": "markdown",
      "metadata": {
        "id": "SMNnQtXA1VmZ"
      },
      "source": [
        "## Correcting Graham's bias\n",
        "\n",
        "The bias of double counting the non-spam occurrences doesn't seem to fit in to the Bayesian epistemilogical framework, which might refer to relative frequencies, but hardly to biased ones. Let's visualize the bias, and see if we can perhaps get rid of it.\n",
        "\n",
        "One can verify that the formula for the bias is $\\frac{p}{2 - p}$ by substituting $p = \\frac{b}{g + b}$:\n",
        "\n",
        "$$\n",
        "\\frac{\\frac{b}{g + b}}{2 - \\frac{b}{g + b}} = \\frac{b}{2g + b}.\n",
        "$$"
      ],
      "id": "SMNnQtXA1VmZ"
    },
    {
      "cell_type": "code",
      "source": [
        "def bias(p):\n",
        "    return p / (2 - p)"
      ],
      "metadata": {
        "id": "fxCutemSB_kb"
      },
      "id": "fxCutemSB_kb",
      "execution_count": null,
      "outputs": []
    },
    {
      "cell_type": "markdown",
      "source": [
        "Here's a plot comparing Graham's biased probablities to the original ones:"
      ],
      "metadata": {
        "id": "vDQzGAivCATo"
      },
      "id": "vDQzGAivCATo"
    },
    {
      "cell_type": "code",
      "metadata": {
        "id": "607acfac-e964-47a1-b79c-23bb218be634",
        "colab": {
          "base_uri": "https://localhost:8080/",
          "height": 281
        },
        "outputId": "27bd72f7-3ee4-4504-9a02-936eb19f67f3"
      },
      "source": [
        "x = np.linspace(0, 1, 100)\n",
        "plt.plot(x, x, label='Original')\n",
        "plt.plot(x, bias(x), label='Biased')\n",
        "plt.title('Biased probabilities')\n",
        "plt.legend()\n",
        "plt.gca().set_aspect('equal')"
      ],
      "id": "607acfac-e964-47a1-b79c-23bb218be634",
      "execution_count": null,
      "outputs": [
        {
          "output_type": "display_data",
          "data": {
            "image/png": "[encoded data removed]",
            "text/plain": [
              "<Figure size 432x288 with 1 Axes>"
            ]
          },
          "metadata": {
            "needs_background": "light"
          }
        }
      ]
    },
    {
      "cell_type": "markdown",
      "metadata": {
        "id": "Y3_2sloF09QF"
      },
      "source": [
        "That is, Graham slightly decreased all probability values. One's intuition could be that this, instead of decreasing the number of false positives, will in fact increase the number of false negatives: for example, if a spam email consists of high-probability words which combined gives it a probability slightly above $0.9$, then with the bias we might get slightly under $0.9$, causing the email to just slip through the spam filter. Let's see if the `Enron1` dataset confirms our intuition.\n",
        "\n",
        "By a substitution similar to the above one, the reverse formula is $\\frac{2p}{p + 1}$."
      ],
      "id": "Y3_2sloF09QF"
    },
    {
      "cell_type": "code",
      "source": [
        "def unbias(p):\n",
        "    return (2 * p) / (p + 1)"
      ],
      "metadata": {
        "id": "e-7cl1tHBVnA"
      },
      "id": "e-7cl1tHBVnA",
      "execution_count": null,
      "outputs": []
    },
    {
      "cell_type": "code",
      "metadata": {
        "colab": {
          "base_uri": "https://localhost:8080/"
        },
        "id": "emqzAcYp2YRi",
        "outputId": "787c27b7-0d65-4f30-a6de-2b7c3a13c097"
      },
      "source": [
        "word_probs_bayes = {w: unbias(p) for (w, p) in word_probs_graham.items()}\n",
        "\n",
        "results_bayes = {'true positive': 0,\n",
        "                 'true negative': 0,\n",
        "                 'false positive': 0,\n",
        "                 'false negative': 0}\n",
        "for t, l in ds_test.unbatch():\n",
        "  results_bayes[predict_and_evaluate(t, l, word_probs_bayes)] += 1\n",
        "\n",
        "print(results_bayes)"
      ],
      "id": "emqzAcYp2YRi",
      "execution_count": null,
      "outputs": [
        {
          "output_type": "stream",
          "name": "stdout",
          "text": [
            "{'true positive': 81, 'true negative': 369, 'false positive': 0, 'false negative': 67}\n"
          ]
        },
        {
          "output_type": "stream",
          "name": "stderr",
          "text": [
            "/usr/local/lib/python3.7/dist-packages/ipykernel_launcher.py:4: RuntimeWarning: invalid value encountered in double_scalars\n",
            "  after removing the cwd from sys.path.\n"
          ]
        }
      ]
    },
    {
      "cell_type": "code",
      "metadata": {
        "colab": {
          "base_uri": "https://localhost:8080/",
          "height": 281
        },
        "id": "_0UJ2PW4dKOv",
        "outputId": "9ed69b66-c264-495c-fa97-8496d7ff19ea"
      },
      "source": [
        "card = sum(results_graham.values())\n",
        "labels = ['false positive', 'false negative']\n",
        "labels_display = ['False positive', 'False negative']\n",
        "\n",
        "def get_y(res):\n",
        "  return [res[l] / card * 100 for l in labels]\n",
        "\n",
        "x = np.arange(len(labels))\n",
        "width = 0.35\n",
        "fig, ax = plt.subplots()\n",
        "rects_bayes = ax.bar(x - width/2, get_y(results_bayes), width, label='Bayes')\n",
        "rects_graham = ax.bar(x + width/2, get_y(results_graham), width, label='Graham')\n",
        "ax.set_ylabel('Ratio of emails')\n",
        "ax.set_title('Error percentages')\n",
        "ax.set_xticks(x)\n",
        "ax.set_xticklabels(labels_display)\n",
        "ax.legend()\n",
        "\n",
        "def autolabel(rects):\n",
        "    for rect in rects:\n",
        "        height = rect.get_height()\n",
        "        ax.annotate('{:.2f}%'.format(height),\n",
        "                    xy=(rect.get_x() + rect.get_width() / 2, height),\n",
        "                    xytext=(0, 3),  # 3 points vertical offset\n",
        "                    textcoords='offset points',\n",
        "                    ha='center', va='bottom')\n",
        "\n",
        "autolabel(rects_bayes)\n",
        "autolabel(rects_graham)\n",
        "\n",
        "ax.yaxis.set_major_formatter(mtick.PercentFormatter())"
      ],
      "id": "_0UJ2PW4dKOv",
      "execution_count": null,
      "outputs": [
        {
          "output_type": "display_data",
          "data": {
            "image/png": "[encoded data removed]",
            "text/plain": [
              "<Figure size 432x288 with 1 Axes>"
            ]
          },
          "metadata": {
            "needs_background": "light"
          }
        }
      ]
    },
    {
      "cell_type": "markdown",
      "source": [
        "As the above plot shows, the unbiased Bayesian filter retains the $0$ false positive rate, and decreases the false negative rate from $13.15\\%$ to $12.96\\%$ (numbers from the first run; they might be slightly different for subsequent runs due to randomization in the dataset validation split).\n",
        "\n",
        "### Significance\n",
        "\n",
        "One might ask: is this about $0.2\\%$ gain in effectiveness significant? In order to assess this, we have to bear in mind that spam filters are already very effective. Graham wrote:\n",
        "\n",
        "> [R]ecognizing that *last few percent* [emphasis mine] of spams got very hard.\n",
        "\n",
        "Another quote from the [announcement](https://cloud.google.com/blog/products/g-suite/ridding-gmail-of-100-million-more-spam-messages-with-tensorflow) of machine learning spam filters in Gmail written in TensorFlow:\n",
        "\n",
        "> [Gmail's filters] help block *more than 99.9 percent* of spam.\n",
        "\n",
        "That is, in the field of spam filtering, split-percent results are considered good, and removing the bias from Bayesian spam filtering seems to be such a result.\n",
        "\n",
        "\n",
        "\n"
      ],
      "metadata": {
        "id": "6YAv_N7QIzey"
      },
      "id": "6YAv_N7QIzey"
    }
  ]
}