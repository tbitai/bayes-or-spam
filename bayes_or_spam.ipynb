{
 "cells": [
  {
   "attachments": {},
   "cell_type": "markdown",
   "metadata": {
    "datalore": {
     "hide_input_from_viewers": false,
     "hide_output_from_viewers": false,
     "type": "MD"
    },
    "pycharm": {
     "name": "#%% md\n"
    }
   },
   "source": [
    "# Bayes or Spam? – Spam Filtering with Bayesian Epistemology\n",
    "\n",
    "<img src=\"https://upload.wikimedia.org/wikipedia/commons/d/d0/Google_Colaboratory_SVG_Logo.svg\" height=\"16\"> [Run in Google Colab](https://colab.research.google.com/github/tbitai/bayes-or-spam/blob/main/bayes_or_spam.ipynb)\n",
    "&nbsp;\n",
    "<img src=\"https://huggingface.co/datasets/huggingface/brand-assets/resolve/main/hf-logo.svg\" height=\"16\"> [Demo on Hugging Face](https://huggingface.co/spaces/tbitai/bayes-or-spam)\n",
    "&nbsp;\n",
    "<img src=\"https://raw.githubusercontent.com/primer/octicons/refs/heads/main/icons/mark-github-16.svg\" height=\"16\"> [View source on GitHub](https://github.com/tbitai/bayes-or-spam)\n",
    "\n",
    "This is an analysis of Bayesian spam filtering from the viewpoint of Bayesian epistemology. I'll review the Bayesian spam filtering algorithm, point out where it deviates from the principles of Bayesian epistemology, and present test results showing that the \"principled\" Bayesian spam filtering is also more effective. Finally, I'll compare Bayesian filtering to neural networks, with mixed results: neural AI models perform better, but at a significantly higher computational cost. These technical results provide epistemological arguments for Bayesianism.\n",
    "\n",
    "### Table of contents\n",
    "\n",
    "[Introduction](#scrollTo=Introduction)\n",
    "\n",
    "[Preparing the test dataset](#scrollTo=Preparing_the_test_dataset)\n",
    "\n",
    "[Graham's algorithm](#scrollTo=Graham_s_algorithm)\n",
    "\n",
    "[Correcting Graham's bias](#scrollTo=Correcting_Graham_s_bias)\n",
    "\n",
    "[Tuning the interestingness threshold](#scrollTo=Tuning_the_interestingness_threshold)\n",
    "\n",
    "[Neural networks](#scrollTo=Neural_networks)\n",
    "\n",
    "[Large language models](#scrollTo=Large_language_models)\n",
    "\n",
    "[Epistemological conclusion](#scrollTo=Epistemological_conclusion)"
   ]
  },
  {
   "cell_type": "markdown",
   "metadata": {},
   "source": [
    "## Introduction\n",
    "\n",
    "Bayesian spam filtering is one of the leading technologies of tackling spam. In his 2002 essay, [*A Plan for Spam*](http://paulgraham.com/spam.html), Paul Graham described the first effective Bayesian spam filtering algorithm. Today's Bayesian spam filters use essentially the same algorithm.\n",
    "\n",
    "Graham's motivation was that his earlier spam filters looking for individual spam features (e.g. does it contain `\"click\"`?) were not effective enough. As he writes, Bayesian spam filters recognized more features, e.g. `\"ff0000\"` (red's hexa code used in HTML)."
   ]
  },
  {
   "attachments": {},
   "cell_type": "markdown",
   "metadata": {
    "datalore": {
     "hide_input_from_viewers": false,
     "hide_output_from_viewers": false,
     "type": "MD"
    },
    "pycharm": {
     "name": "#%% md\n"
    }
   },
   "source": [
    "## Preparing the test dataset"
   ]
  },
  {
   "cell_type": "code",
   "execution_count": 1,
   "metadata": {
    "datalore": {
     "hide_input_from_viewers": false,
     "hide_output_from_viewers": false,
     "type": "CODE"
    },
    "pycharm": {
     "name": "#%%\n"
    }
   },
   "outputs": [],
   "source": [
    "import tensorflow as tf\n",
    "import google.generativeai as genai\n",
    "from google.generativeai.types import HarmCategory, HarmBlockThreshold\n",
    "import numpy as np\n",
    "import matplotlib as mpl\n",
    "import matplotlib.pyplot as plt\n",
    "import matplotlib.ticker as mtick\n",
    "import itertools\n",
    "import re\n",
    "import string\n",
    "import sys\n",
    "import io\n",
    "import os\n",
    "import time"
   ]
  },
  {
   "attachments": {},
   "cell_type": "markdown",
   "metadata": {
    "datalore": {
     "hide_input_from_viewers": false,
     "hide_output_from_viewers": false,
     "type": "MD"
    },
    "pycharm": {
     "name": "#%% md\n"
    }
   },
   "source": [
    "We're going to use the [Enron spam dataset collection](http://www.aueb.gr/users/ion/data/enron-spam/index.html)'s `Enron1` dataset:"
   ]
  },
  {
   "cell_type": "code",
   "execution_count": 2,
   "metadata": {
    "datalore": {
     "hide_input_from_viewers": false,
     "hide_output_from_viewers": false,
     "type": "CODE"
    },
    "pycharm": {
     "name": "#%%\n"
    }
   },
   "outputs": [],
   "source": [
    "ds_url = 'file://' + os.path.sep.join([os.path.abspath(os.path.curdir), 'data', 'enron1.tar.gz'])\n",
    "ds_path = tf.keras.utils.get_file(origin=ds_url, untar=True)"
   ]
  },
  {
   "cell_type": "code",
   "execution_count": 3,
   "metadata": {
    "datalore": {
     "hide_input_from_viewers": false,
     "hide_output_from_viewers": false,
     "type": "CODE"
    },
    "pycharm": {
     "name": "#%%\n"
    }
   },
   "outputs": [
    {
     "name": "stdout",
     "output_type": "stream",
     "text": [
      "Found 5172 files belonging to 2 classes.\n",
      "Using 4655 files for training.\n",
      "0: ham\n",
      "1: spam\n",
      "b'Subject: meter variances - ua 4 clean - up\\r\\ndaren / vance -\\r\\nthe two meters below are new and have unallocatable flow . . . . . . . i will need a\\r\\npurchase for each of them . please respond with a deal number , or further\\r\\nsuggestions for resolution so that i can clear this up as soon as possible .\\r\\nmary\\r\\nenron on 09 / 19 / 2000 08 : 44 am - - - - - - - - - - - - - - - - - - - - - - - - - - -\\r\\nkatherine benedict @ ect\\r\\n09 / 18 / 2000 04 : 53 pm\\r\\nto : mary poorman / na / enron @ enron , fred boas / hou / ect @ ect , aimee\\r\\nlannou / hou / ect @ ect\\r\\ncc :\\r\\nsubject : meter variances - ua 4 clean - up\\r\\nhi guys ,\\r\\nplease take a look at the following meters which are showing up with\\r\\nvariances on my ua 4 report . once the variance has been cleared , please send\\r\\nme an e - mail . please try to clear these within the next couple of days .\\r\\nthanks ,\\r\\nkathy benedict\\r\\nmeter number : 9851\\r\\nvariance : 11 , 204\\r\\nmeter type : daily swing\\r\\nproduction month : august 2000\\r\\nlogistics contact : none\\r\\nvolume mgmt contact : anita luong\\r\\nmeter number : 9852\\r\\nvariance 568\\r\\nmeter type : daily swing\\r\\nproduction month : august 2000\\r\\nlogistics contact : none\\r\\nvolume mgmt contact : anita luong'\n",
      "0\n",
      "b'Subject: revision # 1 - hpl noms for november 3 , 2000\\r\\n( see attached file : hplnl 103 . xls )\\r\\n- hplnl 103 . xls'\n",
      "0\n",
      "b'Subject: txu fuels / sds nomination for april 2001\\r\\nattached is the april 2001 nomination for our takes under the gas sales and\\r\\npurchase contract between txu fuel company ( previously tufco ) and sds . please\\r\\nadvise should you have any questions concerning the attached .\\r\\nthanks ,\\r\\nccs\\r\\n( see attached file : sdsnom . xls )\\r\\n- sdsnom . xls'\n",
      "0\n",
      "b\"Subject: cleburne\\r\\ndaren & john ,\\r\\nsee the attached document regarding gas deliveries / nominations for the\\r\\ncleburne site . right now , i ' m planning to be in the houston office on\\r\\nthursday , august 3 , 2000 so we may be able to meet then . if there are any\\r\\nquestions , please call me for additional info .\\r\\nmichael mazowita\\r\\nphone : ( 248 ) 442 - 4823\\r\\ncell : ( 248 ) 345 - 4002\"\n",
      "0\n",
      "b\"Subject: rescheduling of usecase analysis for enom mtg .\\r\\nplease let me know if you would be available for the above mtg on tuesday ,\\r\\njan . 25 th from 1 : 00 - 4 : 00 asap .\\r\\nthanks ,\\r\\nmary\\r\\n- - - - - - - - - - - - - - - - - - - - - - forwarded by mary weatherstone / hou / ect on 01 / 21 / 2000\\r\\n11 : 42 am - - - - - - - - - - - - - - - - - - - - - - - - - - -\\r\\nmary weatherstone on 01 / 21 / 2000 11 : 30 : 15 am\\r\\nto : inja chun / hou / ect @ ect , paul f poellinger / hou / ect @ ect , dave\\r\\nnommensen / hou / ect @ ect , kevin montagne / hou / ect @ ect , michael\\r\\nguadarrama / hou / ect @ ect , robert superty / hou / ect @ ect , randall l\\r\\ngay / hou / ect @ ect , george smith / hou / ect @ ect , katherine l kelly / hou / ect @ ect ,\\r\\nedward terry / hou / ect @ ect , daren j farmer / hou / ect @ ect\\r\\ncc : jay webb / hou / ect @ ect , heather choate / hou / ect @ ect , yvette g\\r\\nconnevey / corp / enron @ enron , cindy cicchetti / hou / ect @ ect\\r\\nsubject : usecase analysis for enom mtg . - cancelled\\r\\nthe above referenced meeting that was scheduled for today at 2 : 00 - 5 : 00 in\\r\\neb 2601 a has been cancelled . i will contact everyone for a time to reschedule\\r\\nnext week .\\r\\nthanks ,\\r\\nmary\\r\\n- - - - - - - - - - - - - - - - - - - - - - forwarded by mary weatherstone / hou / ect on 01 / 21 / 2000\\r\\n11 : 27 am - - - - - - - - - - - - - - - - - - - - - - - - - - -\\r\\nmary weatherstone on 01 / 18 / 2000 05 : 34 : 25 pm\\r\\nto : inja chun / hou / ect @ ect , paul f poellinger / hou / ect @ ect , dave\\r\\nnommensen / hou / ect @ ect , kevin montagne / hou / ect @ ect , michael\\r\\nguadarrama / hou / ect @ ect , robert superty / hou / ect @ ect , randall l\\r\\ngay / hou / ect @ ect , george smith / hou / ect @ ect , katherine l kelly / hou / ect @ ect ,\\r\\nedward terry / hou / ect @ ect , daren j farmer / hou / ect @ ect\\r\\ncc : jay webb / hou / ect @ ect , heather choate / hou / ect @ ect , yvette g\\r\\nconnevey / corp / enron @ enron , cindy cicchetti / hou / ect @ ect\\r\\nsubject : usecase analysis for enom mtg .\\r\\nper jay ' s request the above referenced meeting has been scheduled for friday ,\\r\\njanuary 21 st at 2 : 00 - 5 : 00 in eb 2601 a .\\r\\nplease plan on attending . if you cannot attend , please let me know asap .\\r\\nthanks ,\\r\\nmary\"\n",
      "0\n",
      "b\"Subject: 54 - cy . . . adrian hideout\\r\\nor ( der the best mens products today\\r\\ncialis\\r\\n-\\r\\n( super\\r\\nviagra )\\r\\nvia ( gra\\r\\nvia ( gra\\r\\nsoft\\r\\ntabs\\r\\nlevitra\\r\\nsa ( ve u ( p t ( o 70 %\\r\\nwe ship to all us states and worldwide\\r\\ngenuine lo ( w pri ( ces , secure or ( der fo ( rm\\r\\ndiscreet billing and packaging\\r\\nother products\\r\\navailable\\r\\nambien - xanax\\r\\nvalium\\r\\n- m e r i d i a\\r\\nlipi tor - x e n i c a\\r\\nl\\r\\nand many other meds . . .\\r\\nm o r e i n\\r\\nf o h e r e\\r\\nto say adios muchachos head on over to :\\r\\nwww . rainbowboatl . com / d / uout . php\\r\\ndeem prefab wy downey ann weatherproof cadillac paraffin chairmen raven agricola belate applicate assassinate duplex caveman bayport semitic sulfide ambrose paralinguistic megabit difficult agate dreary alliance\\r\\nmirfak ladle diagonal codfish khan osborne parimutuel colloquy fresnel iq kurt ascend act lyman explain mammoth chigger alabama meier siva historic bolshevism diverse circumscribe aarhus chivalry askew towhee soon betatron imprison whimper arlen mulish scholastic gnp piper mezzo\\r\\nsymbiotic slick maximal lynn soothsay selectmen female incorrect ascription checkbook shopkeep crinkle ian austin expressible vernier resistor folksy vassal matrices roar where ' d consist crosswort d gilmore fiftieth cowgirl jaeger monetarist spheroidal mallow afterthought climax cognizant gerard caucasian sensorimotor menelaus gunflint lumpish theft abstractor andover featherweight cab walls they ' ll claudio hypodermic jujube\\r\\ncrossover sixtieth contraception convince cryostat rex whomsoever chose belief panacea adsorption clothesline afraid elinor hershel jockstrap numerology gonzales clothier cooke alberta lessee\\r\\nexxon flout rhodium anchovy toggle granny anneal derisive curran failure broomcorn errand elijah authenticate giddap hazelnut vellum denominate counterfeit haystack fastidious cognate pertain repulsion swarthmore hostess cecropia commiserate greater airmass debbie auditorium reinforce chippendale droopy centric wyoming horsefly dialup allotting burst combat heroism asylum allot cardioid burglarproof cobra bauble embraceable uphill seminar spellbound helmsman mockup airy coachmen deprive disjunct lest dropout laurie\\r\\nnumeral beatitude throw touchstone ox degradation curl arithmetic curb bye plank aborning phycomycetes finland carbone indomitable ornament armata transmitter annuli waylaid courtier mirfak brasilia baron berman spoonful coddle adsorptive charlemagne vengeful hewlett bucolic scorpion bondage coexistent connors decker jealous cahoot mutual oblige pyroxenite arrack navajo vociferous decision hut welsh salaried choreograph acorn rod cowl airframe bookplate recession\\r\\nhendrickson impregnate activation contagious versus ross olefin mountainside swain skill distribution myocardial eyesight embroider probity cogent decontrol christen automorphism blinn cabbage bicentennial cairo tug hub mba chug towhee dying magnet dietrich aeronautic nasturtium anarchic dysentery cannibal diamond byte discrepant conquistador chokeberry divulge needlepoint arachnid foundry critic urchin beebe conformation\\r\\nbrooke sutton freehold cacophony anterior proclaim deficit banana sophie gush swordplay sierra chess cross character boast involution edith hyperbolic eyeball league millikan placebo gingham ackley earsplitting ichneumon prevent danish apposition blinn bulrush melancholy minnesota lunar gingham downfall definitive cavilling regimen are trod increase responsible coors intestinal aquarius incubi budapest albany testicular jeff impression steely etruscan\\r\\nmadame orthogonal alto sludge scriptural worthington charlottesville custodial bryant ballard conformance pyre cheshire subvert bianco lacerta baptiste sperm coastline conjunct special compagnie cajole sago merciful insatiable canberra bid cenozoic flashlight arclength vestige blanchard selma inculcate beneficiary bootlegged stain governance betsy e ' er perspire liqueur dossier coeditor choreography contractual regiment oscillatory thoroughgoing contrary correlate fantastic aureomycin binghamton venerate provocateur raven steelmake aniseikonic\\r\\nbeckon addison antiperspirant audubon liniment mutter memorable caribbean snarl durer hale gauche britannica discriminant cobalt mcallister artery wallboard bridge hedonism crock educable megavolt colt millard lehman midpoint strata mingle\\r\\nallegiant cypriot marrow yukon pearlstone incant apocalypse bulldoze proline thrust est hygiene acrimony lanthanide ascendant aides chiffon crossword slope beacon atlantes curious wheatstone beep minstrel stopwatch produce handwrite diane salvation fenton charity cartilage bimini buoyant febrile marseilles abram tyler hurley dialectic\\r\\nconvolve insufferable riotous theism zachary dried coates geoduck soy neutron purge flaunt ambient brevet stirrup marin telephone disputant intrigue cardinal harem collapsible twiddle salk pithy insurrection nothing gleason goofy minnesota phobic yaw marietta highball here wingmen astrophysicist lenore straggle fireman british grosbeak charlie coven graves cuddly gorse electrolytic victual moderate germanium audrey act\\r\\nstopover tapeworm bremsstrahlung baffle henchman grieve heavyweight photo scarlatti churchgoing candide terminate statesman registry tour atheist ferocity pear schooner slough whitlock doubleday cylinder emblazon ababa cliffhang alderman spartan piccolo squeal aniline hager mnemonic canterelle absent bible schumann papacy plutonium coot beguile creosote delphic ackley\\r\\nductile chortle ribonucleic expressive arcsine casework sale mantlepiece turnout cliff beachcomb sunspot crush transduction compensate tread draftsperson pivot mustachio consist alabama osmotic johnny pantomimic cartilage boom angeles conley stereography fat concrete discussion daylight foot barberry\\r\\ncolosseum albania cornfield shark stuck sock plagiarist crabmeat crispin mccallum oases chocolate prone aruba whop capitol grosbeak interpretation thai antietam gumshoe pathogen cavilling contradistinct proteolysis aegean antisemitic selenate toil slip chin lavender pegging bayonet fossiliferous nne khaki alone muncie bitterroot manometer dab radium imagery gentle lessee voltaire dreamt secretary ammo catchup adjoin\\r\\ndesperate bangor inhere corpse alias befitting employer augment judicature bedevil boo schuyler hexagonal epileptic hornet potable sham bawl erodible catharsis bouffant scion avenge mental inattention lumbermen technology beryl diety areawide avis avocado certificate inhibition nectarine amoral banbury blank facile smooch become wheat bittersweet hardtack oat alyssum rochester sanitarium law umbilical nanking characteristic effusive prosodic usage delinquent catenate spay inequivalent\\r\\ninfrequent barry beadle dominant tunis sleet hayward degassing beaver motivate bernstein emile baronet panty america accede cobweb dervish discretion forever cerulean heath pinehurst duopolist melbourne ambrose vase lehman paperbound lipton caveman yellowish booklet rna t centigrade muse debar selenium grimaldi cybernetics fledge tasteful airway apartheid die squeegee dixie mad trenton registrable billiard\\r\\nprotestation seahorse honoraria abstractor cousin calliope cutback freight crackle priam supra newsman polarogram m ' s thrush forbore dyspeptic mawr faithful topeka brothel cybernetic alveolus immortal coffman coworker significant stress announce bowfin monongahela colombo cookbook carnival redden bel bunkmate tiffany compline courthouse flanagan boastful\\r\\ncontradistinction cylinder kaskaskia dissociable ridden concession chuff chimique indispensable very west centum stump volkswagen blanchard yon delicious mete tighten opel chard marigold chortle bilinear drone garb jigging profane click euphemist corpsman biaxial counterpoise copernican airy shag preface morbid contributory diethylstilbestrol chart exhaustion possess dandy bodybuild versus aesthetic incarcerate wan sunglasses montpelier vortices\\r\\nallergy determinate tulip corinth acumen perfidious fabricate carolingian basketball bun fischer mr colander dodecahedra effluvia monterey econometric inclination dodecahedral dickens bobbie colette dieldrin kauffman bangladesh oedipal lay cession tactic lorelei circumspect directorate monastery bogy rubble johannes reprehensible vaduz bean adoption hatfield chemise affirmative clockwatcher dysprosium mcknight gigantic\\r\\nmainline echelon boast retiree forum oldster cue boule agenda conquer nomadic acerbic testes focussed egan iran buzzword faustian darwinian perforce animadvert familiar taskmaster consultation kalmia ferric bed hanlon contrition engine postorder clothesbrush connoisseur connive camelot artichoke contagious lola switch stephanie cyrus filth referent dublin photometry\\r\\nbette ocular spear anecdote judith monarchy drift ainu comet elijah pent competent ectopic clad damsel firebug contretemps cannonball noel bevy turtle bakery debarring maxwellian becloud knobby typescript confidante aires bilharziasis simpleminded edgy manfred snoop mischievous technic bateman veal jet intelligentsia eclogue conscious bravado collage knead jobholder antigorite abdominal\\r\\ncit un bradshaw melville troubador classify crystal festive dope celebes fee czerniak sourberry raster perry efface malton elgin arpa generous arkansan colossus drunk dashboard robbin cynic prognosis directory ytterbium al diary cram embroidery speedy inelastic rebelled gordian bagley dereference forrest ilyushin achromatic herbert beman vigil bramble madden zellerbach botulism invoice ridgepole bon produce lancashire scopic warn abject squabble colloquy schedule divorce cadenza dicotyledon\\r\\narturo ninetieth beetle summary divine java cramer geminate transpacific excisable footpath braid codeword axis demitting applicant champagne bedridden masochism audio heathenish mat shove shrove postprocess sleepy altair cocoon archbishop flaky doubleton xerox boris verbiage calculate courtesy novice catalina black dallas ursula ainu catapult pygmy alimony aubrey contagion hackney bang\\r\\ninjudicious quadrille aggressive mortgagor celtic quarryman abel icosahedral stroke drive ambiance boeing base colossus felice hedgehog aberdeen mobster senegal cursor blandish capacity betony gown awoke tuneful cringe brassy aerodynamic demarcate leigh kirkland pizzicato\\r\\nathlete intemperance cargill loam help liqueur sloop cationic gymnosperm controversial incite vaughan brunswick school hey advert headquarters rustic handwaving lawbreaker unary conceive predisposition clergyman horseback narrow hassle cossack indelicate tragedian hydrofluoric shuffle conclude vichy abrogate anna quantitative alveolar douce felicitous crankcase maine builtin bellman swarthmore doll\\r\\nextenuate salmonberry orographic transposition dec she honesty retentive desert foggy bolshevist credo concubine tarbell dogbane dairymen harrow busboy shrapnel yacht cloak acrimony obviate impropriety paramount patrick polypropylene inhibit lentil julep deflater barge hive intercom fee nobel incise ravine publication thallophyte automatic blush chairwomen orography situs alterate charon compulsory controversial macdonald centerpiece kowloon parsley sleek cloak beauty frigga commutate gershwin strategy colette prurient cassius mill emil wholly exorcise lounge pathetic yip\"\n",
      "1\n",
      "b\"Subject: submision result\\r\\nhave you heard ?\\r\\nour home l o an department has gone mad !\\r\\nthey ' ve just reduced our m o r tga ges to 4 . 95 % fixed !\\r\\nez cred i t , ba n kruptcys and c r e dit problems are\\r\\nour specialty , let us help you .\\r\\nhttp : / / www . curdom . com /\\r\\nwilda yeager\\r\\nthe tony on our physique departure\\r\\nso of nautoclave endurance\\r\\nany revere be of and deprave\\r\\nchromatography incontrovertible no and crystal\\r\\n\"\n",
      "1\n",
      "b'Subject: online pahrma . cy you want\\r\\nwelcome to health suite ! chek it out !\\r\\niagra vic\\r\\nalis val\\r\\nx\\r\\nv\\r\\nodin ci\\r\\nium xana\\r\\nwe are the only store which gives this great deal\\r\\nto you .\\r\\nsave your health and\\r\\nmoney !'\n",
      "1\n",
      "b'Subject: dell pentium 4 2 . 8 ghz system\\r\\n$ 585 . 00\\r\\nthis dell system features a powerful\\r\\ncombination with the intel pentium 4 2 . 8 ghz processor\\r\\nand 256 mb ram . a large 40 gb hard disk drive plays host\\r\\nto microsoft windows xp home edition . a cd - rw drive ,\\r\\ndvd - rom drive and a floppy disk drive are all\\r\\npre - installed . integrated graphics and integrated audio\\r\\nare included to get you up and running\\r\\n.\\r\\nprocessor\\r\\nram\\r\\nhdd\\r\\ndrive\\r\\no / s\\r\\nothers\\r\\np 4 2 . 8 ghz\\r\\n256 mb\\r\\n40 gb\\r\\ndvd / cdrw + fdd\\r\\nwinxp home\\r\\nvga + sound\\r\\nvisit : http : / / www . computron - me . com for deals !\\r\\nyour one stop\\r\\ndistributorjebel ali duty free zonewww . computron - me . com\\r\\nfor latest clearance sale listing contact our\\r\\nsales department .\\r\\nonly limited quantities available on selected\\r\\nspecials ! ! ! !\\r\\nif you have any\\r\\ncomplaints / suggestions contact customerservice @ computron - me . com\\r\\ncompaq\\r\\nhewlett packard\\r\\n3 com\\r\\ndell\\r\\nintel\\r\\niomega\\r\\nepson\\r\\naopen\\r\\ncreative\\r\\ntoshiba\\r\\napc\\r\\ncisco\\r\\nus\\r\\nrobotics\\r\\nmicrosoft\\r\\ncanon\\r\\nintellinet\\r\\ntargus\\r\\nviewsonic\\r\\nibm\\r\\nsony\\r\\n- - - - - - - and lots more\\r\\n! ! !\\r\\ntel + 971 4 8834464\\r\\nall prices in u . s . dollars , ex - works ,\\r\\nfax + 971 4 8834454\\r\\njebel ali duty free zone\\r\\nwww . computron - me . com\\r\\nprices and availability subject to change\\r\\nusa - canada u . a . e .\\r\\nwithout\\r\\nnotice .\\r\\nto receive our special offers\\r\\nin plain\\r\\ntext format reply to this\\r\\nmail with the request * for export only\\r\\n*\\r\\nthis\\r\\nemail can not be considered spam as long as we include : contact\\r\\ninformation remove instructions . this message is intended for dealer\\r\\nand resellers only . if you have somehow gotten on this list in error , or\\r\\nfor any other reason would like to be removed , please reply with \" remove\\r\\n\" in the subject line of your message . this message is being sent to you\\r\\nin compliance with the federal legislation for commercial e - mail\\r\\n( h . r . 4176 - section 101 paragraph ( e ) ( 1 ) ( a ) and bill s . 1618 title iii\\r\\npassed by the 105 th u . s . congress .\\r\\nall logos and\\r\\ntrademarks are the property of their respective ownerstoshiba for export\\r\\nonly\\r\\nproducts may not be exactly as shown\\r\\nabove\\r\\n- -\\r\\nto unsubscribe from : computron 8 , just follow this link :\\r\\nclick the link , or copy and paste the address into your browser .'\n",
      "1\n",
      "b'Subject: d - link airplus g 802 . 11 g wireless router $ 87 . 00\\r\\n$ 87 . 00\\r\\nhigh speed\\r\\n( 802 . 11 g ) , 4 port\\r\\nwireless router\\r\\n54 mbps\\r\\n( 802 . 11 g ) , 4 port wireless routerdi - 524\\r\\nairplus g 802 . 11 g wireless\\r\\nrouter\\r\\nvisit : http : / / www . computron - me . com for deals !\\r\\nd - link airplus g\\r\\n802 . 11 g wireless router\\r\\nd - link , the industry leader in wireless\\r\\nnetworking , introduces another breakthrough in wireless\\r\\nconnectivity . the d - link\\r\\nairplus g di - 524 wireless router which is capable\\r\\nof transferring data at rates of up to\\r\\n54 mbps in the 2 . 4 ghz frequency - the same\\r\\nwireless frequency as 802 . 11 b . the d - link di - 524\\r\\nwireless router also offers four ethernet ports to\\r\\nsupport multiple computers . the advanced wireless\\r\\ntechnology built into the di - 524 wireless router offers\\r\\ndata transfer speeds up to 54 mbps through its wireless\\r\\nchannels allowing streaming videos and other high\\r\\nbandwidth applications , such as online gaming events , to\\r\\noperate without the hassle of ethernet cables . the\\r\\nability to use high bandwidth applications also makes\\r\\nstreaming real - time programs more enjoyable and more\\r\\nefficient . with the di - 524 wireless router \\' s built - in\\r\\nadvanced firewall , threats of hackers penetrating your\\r\\nnetwork are minimized .\\r\\ngeneral features :\\r\\n- 4 - port wireless\\r\\nrouter - 54 mbps maximum data transfer rate - web\\r\\nbased device management - dhcp server and client\\r\\ndevice management - 64 / 128 - bit wep encryption - up\\r\\nto 328 - feet\\r\\nrange\\r\\nyour one stop\\r\\ndistributorjebel ali duty free zonedubai , uae . www . computron - me . com\\r\\nfor latest clearance sale listing contact our\\r\\nsales department .\\r\\nonly limited quantities available on selected\\r\\nspecials ! ! ! !\\r\\nfor further details please send\\r\\nyour enquiries to : dealers @ emirates . net . aeor contact via www . computron - me . com\\r\\ncompaq\\r\\nhewlett packard\\r\\n3 com\\r\\ndell\\r\\nintel\\r\\niomega\\r\\nepson\\r\\naopen\\r\\ncreative\\r\\ntoshiba\\r\\napc\\r\\ncisco\\r\\nus\\r\\nrobotics\\r\\nmicrosoft\\r\\ncanon\\r\\nintellinet\\r\\ntargus\\r\\nviewsonic\\r\\nibm\\r\\nsony\\r\\n- - - - - - - and lots more\\r\\n! ! !\\r\\nif you have any\\r\\ncomplaints / suggestions contact : customerservice @ computron - me . com\\r\\ntel + 971 4\\r\\n8834464\\r\\nall prices in u . s . dollars , ex - works ,\\r\\nfax + 971 4\\r\\n8834454\\r\\njebel ali duty free zone\\r\\nwww . computron - me . com\\r\\nprices and availability subject to change\\r\\nusa -\\r\\ncanada u . a . e .\\r\\nwithout\\r\\nnotice .\\r\\nto receive our special offers\\r\\nin plain\\r\\ntext format reply to this\\r\\nmail with the request * for\\r\\nexport only *\\r\\nthis\\r\\nemail can not be considered spam as long as we include : contact\\r\\ninformation remove instructions . this message is intended for dealer\\r\\nand resellers only . if you have somehow gotten on this list in error , or\\r\\nfor any other reason would like to be removed , please reply with \" remove\\r\\n\" in the subject line of your message . this message is being sent to you\\r\\nin compliance with the federal legislation for commercial e - mail\\r\\n( h . r . 4176 - section 101 paragraph ( e ) ( 1 ) ( a ) and bill s . 1618 title iii\\r\\npassed by the 105 th u . s . congress .\\r\\nall logos and\\r\\ntrademarks are the property of their respective\\r\\nowners\\r\\nproducts may not be exactly as shown\\r\\nabove\\r\\n- -\\r\\nto unsubscribe from : computron 3 , just follow this link :\\r\\nclick the link , or copy and paste the address into your browser .\\r\\nplease give it atleast 48 hours for unsubscription to be effective .'\n",
      "1\n"
     ]
    },
    {
     "name": "stderr",
     "output_type": "stream",
     "text": [
      "2022-06-17 16:18:08.585425: I tensorflow/core/platform/cpu_feature_guard.cc:193] This TensorFlow binary is optimized with oneAPI Deep Neural Network Library (oneDNN) to use the following CPU instructions in performance-critical operations:  AVX2 FMA\n",
      "To enable them in other operations, rebuild TensorFlow with the appropriate compiler flags.\n",
      "2022-06-17 16:18:08.586080: I tensorflow/core/common_runtime/process_util.cc:146] Creating new thread pool with default inter op setting: \n"
     ]
    }
   ],
   "source": [
    "seed = 42\n",
    "ds_base_kwargs = dict(directory=ds_path, seed=seed, validation_split=0.1)\n",
    "ds_train = tf.keras.utils.text_dataset_from_directory(**ds_base_kwargs, \n",
    "                                                      subset='training')\n",
    "\n",
    "for i, label in enumerate(ds_train.class_names):\n",
    "  print(f'{i}: {label}')\n",
    "for text, label in ds_train.unbatch().take(5).concatenate(\n",
    "                   ds_train.unbatch().filter(lambda _, l: l == 1).take(5)):\n",
    "  print(text.numpy())\n",
    "  print(label.numpy())"
   ]
  },
  {
   "cell_type": "code",
   "execution_count": 4,
   "metadata": {
    "datalore": {
     "hide_input_from_viewers": false,
     "hide_output_from_viewers": false,
     "type": "CODE"
    },
    "pycharm": {
     "name": "#%%\n"
    }
   },
   "outputs": [
    {
     "name": "stdout",
     "output_type": "stream",
     "text": [
      "enron hello\n"
     ]
    }
   ],
   "source": [
    "len_subj = len('Subject: ')\n",
    "\n",
    "def clean(text):\n",
    "    return text[len_subj:]\n",
    "\n",
    "print(clean('Subject: enron hello'))"
   ]
  },
  {
   "attachments": {},
   "cell_type": "markdown",
   "metadata": {
    "datalore": {
     "hide_input_from_viewers": false,
     "hide_output_from_viewers": false,
     "type": "MD"
    },
    "pycharm": {
     "name": "#%% md\n"
    }
   },
   "source": [
    "## Graham's algorithm\n",
    "\n",
    "Here's an implementation of Graham's algorithm using Python and the TensorFlow machine learning package:\n",
    "\n",
    "Graham used a simple tokenization he came up with, but he admits that it can improved. Let's use TensorFlow's `tf.keras.preprocessing.text.text_to_word_sequence`:"
   ]
  },
  {
   "cell_type": "code",
   "execution_count": 5,
   "metadata": {
    "datalore": {
     "hide_input_from_viewers": false,
     "hide_output_from_viewers": false,
     "type": "CODE"
    },
    "pycharm": {
     "name": "#%%\n"
    }
   },
   "outputs": [
    {
     "name": "stdout",
     "output_type": "stream",
     "text": [
      "b'Subject: eastrans nomination change effective 9 / 8 / 00\\r\\nplease decrease deliveries to eastrans to 0 mmbtu / dy for 9 / 8 / 00\\r\\nthe redeliveries will be 0 as well .\\r\\nthe over - delivery quantity for the fuels cotton valley gas will be valued per\\r\\nparagraph 3 of the contract price ( per mmbtu ) section in the transaction\\r\\nagreement .'\n",
      "['eastrans', 'nomination', 'change', 'effective', '9', '8', '00', 'please', 'decrease', 'deliveries', 'to', 'eastrans', 'to', '0', 'mmbtu', 'dy', 'for', '9', '8', '00', 'the', 'redeliveries', 'will', 'be', '0', 'as', 'well', 'the', 'over', 'delivery', 'quantity', 'for', 'the', 'fuels', 'cotton', 'valley', 'gas', 'will', 'be', 'valued', 'per', 'paragraph', '3', 'of', 'the', 'contract', 'price', 'per', 'mmbtu', 'section', 'in', 'the', 'transaction', 'agreement']\n",
      "b'Subject: eastrans nomination effective 5 / 1 / 01\\r\\neffective 5 / 1 / 01 , the deliveries and redeliveries will be 0 mmbtu / dy .\\r\\nthe transaction agreement will not be utilized .'\n",
      "['eastrans', 'nomination', 'effective', '5', '1', '01', 'effective', '5', '1', '01', 'the', 'deliveries', 'and', 'redeliveries', 'will', 'be', '0', 'mmbtu', 'dy', 'the', 'transaction', 'agreement', 'will', 'not', 'be', 'utilized']\n",
      "b'Subject: exxonmobil beaumont refinery fuel needs\\r\\nfyi - you will need to enter this into sitara - remember , first 10 , 000 / d is\\r\\neog transport .\\r\\n- - - - - - - - - - - - - - - - - - - - - - forwarded by lee l papayoti / hou / ect on 03 / 27 / 2000\\r\\n10 : 56 am - - - - - - - - - - - - - - - - - - - - - - - - - - -\\r\\n\" brian e nichols \" on 03 / 24 / 2000 02 : 20 : 27 pm\\r\\nto : lpapayo @ ect . enron . com\\r\\ncc : ( bcc : lee l papayoti / hou / ect )\\r\\nsubject : exxonmobil beaumont refinery fuel needs\\r\\nlee ,\\r\\ni did my fuel gas estimate and think that we will need 120 - 125 bbtu / day of\\r\\nfuel\\r\\ngas for the month of april . on a side note , we will bring down our gas\\r\\nturbine\\r\\ngenerator on sunday morning . this will bring our high pressure gas\\r\\nrequirements\\r\\ndown to essentially zero ( it will be zero if our hydrogen plant stays down )\\r\\nand\\r\\nthe demand will transfer to our low pressure gas . we will be in this\\r\\narrangement for approximately 20 days .\\r\\nbrian'\n",
      "['exxonmobil', 'beaumont', 'refinery', 'fuel', 'needs', 'fyi', 'you', 'will', 'need', 'to', 'enter', 'this', 'into', 'sitara', 'remember', 'first', '10', '000', 'd', 'is', 'eog', 'transport', 'forwarded', 'by', 'lee', 'l', 'papayoti', 'hou', 'ect', 'on', '03', '27', '2000', '10', '56', 'am', 'brian', 'e', 'nichols', 'on', '03', '24', '2000', '02', '20', '27', 'pm', 'to', 'lpapayo', 'ect', 'enron', 'com', 'cc', 'bcc', 'lee', 'l', 'papayoti', 'hou', 'ect', 'subject', 'exxonmobil', 'beaumont', 'refinery', 'fuel', 'needs', 'lee', 'i', 'did', 'my', 'fuel', 'gas', 'estimate', 'and', 'think', 'that', 'we', 'will', 'need', '120', '125', 'bbtu', 'day', 'of', 'fuel', 'gas', 'for', 'the', 'month', 'of', 'april', 'on', 'a', 'side', 'note', 'we', 'will', 'bring', 'down', 'our', 'gas', 'turbine', 'generator', 'on', 'sunday', 'morning', 'this', 'will', 'bring', 'our', 'high', 'pressure', 'gas', 'requirements', 'down', 'to', 'essentially', 'zero', 'it', 'will', 'be', 'zero', 'if', 'our', 'hydrogen', 'plant', 'stays', 'down', 'and', 'the', 'demand', 'will', 'transfer', 'to', 'our', 'low', 'pressure', 'gas', 'we', 'will', 'be', 'in', 'this', 'arrangement', 'for', 'approximately', '20', 'days', 'brian']\n",
      "b\"Subject: re : meter 9707\\r\\nfyi - there is flow for 10 / 2 as well .\\r\\nal\\r\\ndaren j farmer\\r\\n10 / 02 / 2000 02 : 23 pm\\r\\nto : aimee lannou / hou / ect @ ect\\r\\ncc : robert cotten / hou / ect @ ect\\r\\nsubject : re : meter 9707\\r\\ni rolled this deal for day one in october only .\\r\\nbob - please check with vance on this deal . has it terminated or should it\\r\\nroll for october . i don ' t think that vance nom ' d anything .\\r\\nd\\r\\naimee lannou 10 / 02 / 2000 10 : 49 am\\r\\nto : daren j farmer / hou / ect @ ect , robert cotten / hou / ect @ ect\\r\\ncc :\\r\\nsubject : meter 9707\\r\\ndaren - meter 9707 has flow for oct . 1 ( 1 . 459 mmbtu ) . deal # 125786 was used\\r\\nfor sept . 2000 . could you please extend the deal or have a new one\\r\\ncreated ? thanks .\\r\\nal\"\n",
      "['re', 'meter', '9707', 'fyi', 'there', 'is', 'flow', 'for', '10', '2', 'as', 'well', 'al', 'daren', 'j', 'farmer', '10', '02', '2000', '02', '23', 'pm', 'to', 'aimee', 'lannou', 'hou', 'ect', 'ect', 'cc', 'robert', 'cotten', 'hou', 'ect', 'ect', 'subject', 're', 'meter', '9707', 'i', 'rolled', 'this', 'deal', 'for', 'day', 'one', 'in', 'october', 'only', 'bob', 'please', 'check', 'with', 'vance', 'on', 'this', 'deal', 'has', 'it', 'terminated', 'or', 'should', 'it', 'roll', 'for', 'october', 'i', 'don', \"'\", 't', 'think', 'that', 'vance', 'nom', \"'\", 'd', 'anything', 'd', 'aimee', 'lannou', '10', '02', '2000', '10', '49', 'am', 'to', 'daren', 'j', 'farmer', 'hou', 'ect', 'ect', 'robert', 'cotten', 'hou', 'ect', 'ect', 'cc', 'subject', 'meter', '9707', 'daren', 'meter', '9707', 'has', 'flow', 'for', 'oct', '1', '1', '459', 'mmbtu', 'deal', '125786', 'was', 'used', 'for', 'sept', '2000', 'could', 'you', 'please', 'extend', 'the', 'deal', 'or', 'have', 'a', 'new', 'one', 'created', 'thanks', 'al']\n",
      "b'Subject: hpl nom for march 21 , 2001\\r\\n( see attached file : hplno 321 . xls )\\r\\n- hplno 321 . xls'\n",
      "['hpl', 'nom', 'for', 'march', '21', '2001', 'see', 'attached', 'file', 'hplno', '321', 'xls', 'hplno', '321', 'xls']\n"
     ]
    }
   ],
   "source": [
    "encoding = 'latin_1'\n",
    "\n",
    "def tokenize(text):\n",
    "    return tf.keras.preprocessing.text.text_to_word_sequence(\n",
    "        clean(text.decode(encoding)), \n",
    "        filters='!\"#$%&()*+,-./:;<=>?@[\\]^_`{|}~\\t\\n\\r'  # Default + '\\r'\n",
    "        )\n",
    "\n",
    "for text, _ in ds_train.unbatch().take(5):\n",
    "  text_np = text.numpy()\n",
    "  print(text_np)\n",
    "  print(tokenize(text_np))"
   ]
  },
  {
   "attachments": {},
   "cell_type": "markdown",
   "metadata": {
    "datalore": {
     "hide_input_from_viewers": false,
     "hide_output_from_viewers": false,
     "type": "MD"
    },
    "pycharm": {
     "name": "#%% md\n"
    }
   },
   "source": [
    "Now let's count the spam and ham occurrences of each word:"
   ]
  },
  {
   "cell_type": "code",
   "execution_count": 6,
   "metadata": {
    "datalore": {
     "hide_input_from_viewers": false,
     "hide_output_from_viewers": false,
     "type": "CODE"
    },
    "pycharm": {
     "name": "#%%\n"
    }
   },
   "outputs": [
    {
     "name": "stdout",
     "output_type": "stream",
     "text": [
      "CPU times: user 1.97 s, sys: 132 ms, total: 2.1 s\n",
      "Wall time: 1.92 s\n"
     ]
    }
   ],
   "source": [
    "%%time\n",
    "good = {}\n",
    "bad = {}\n",
    "for text_batch, label_batch in ds_train:\n",
    "  for i in range(len(text_batch)):\n",
    "    text = text_batch.numpy()[i]\n",
    "    label = label_batch.numpy()[i]\n",
    "    for token in tokenize(text):\n",
    "      good_or_bad = bad if label == 1 else good\n",
    "      good_or_bad.setdefault(token, 0)\n",
    "      good_or_bad[token] += 1"
   ]
  },
  {
   "cell_type": "code",
   "execution_count": 7,
   "metadata": {
    "datalore": {
     "hide_input_from_viewers": false,
     "hide_output_from_viewers": false,
     "type": "CODE"
    },
    "pycharm": {
     "name": "#%%\n"
    }
   },
   "outputs": [
    {
     "name": "stdout",
     "output_type": "stream",
     "text": [
      "{'the': 16460, 'to': 13750, 'ect': 12624, 'for': 7254, 'and': 7118, 'hou': 6627, 'enron': 6028, 'on': 5474, 'a': 5473, \"'\": 5357, 'of': 5057, 'you': 4874, 'i': 4773, 'this': 4444, 'is': 4409, 'in': 4060, '2000': 3981, 'be': 3407, 'will': 3125, 'that': 3064, 'from': 2914, 'have': 2895, 'we': 2863, 'at': 2677, 'gas': 2593}\n",
      "{'the': 6584, 'to': 4650, 'and': 4402, 'of': 4087, 'a': 3427, 'in': 2802, 'you': 2471, 'for': 2293, 'this': 2044, 'is': 2033, 'your': 1761, \"'\": 1579, 'with': 1339, 's': 1210, 'that': 1208, 'be': 1190, 'or': 1177, 'on': 1130, 'as': 1087, 'are': 1025, 'we': 994, 'i': 981, 'it': 948, 'not': 947, 'our': 945}\n"
     ]
    }
   ],
   "source": [
    "def dslice(dictionary, stop):\n",
    "  return dict(itertools.islice(dictionary.items(), stop))\n",
    "\n",
    "def dvsorted(dictionary, reverse):\n",
    "  return dict(sorted(dictionary.items(), key=lambda i: i[1], reverse=reverse))\n",
    "\n",
    "print(dslice(dvsorted(good, reverse=True), 25))\n",
    "print(dslice(dvsorted(bad, reverse=True), 25))"
   ]
  },
  {
   "attachments": {},
   "cell_type": "markdown",
   "metadata": {
    "datalore": {
     "hide_input_from_viewers": false,
     "hide_output_from_viewers": false,
     "type": "MD"
    },
    "pycharm": {
     "name": "#%% md\n"
    }
   },
   "source": [
    "The next step is to determine the word probabilities. Graham uses a complicated formula for that, which can be simplified using the fact that the number of spam and ham emails is the same for him. Additionally removing the edge-case handlings, we arrive at the standard relative frequency formula:\n",
    "\n",
    "$$\\frac{b / n_b}{g / n_g + b / n_b} \\underset{n_g = n_b}{=} \\frac{b}{g + b} = \\frac{\\mathbb{P}(\\textrm{spam} \\land \\textrm{word})}{\\mathbb{P}(\\textrm{word})} = \\mathbb{P}(\\textrm{spam} \\mid \\textrm{word}).$$\n",
    "\n",
    "Graham also added a bias: he double counted the non-spam occurrences. As he wrote, this reduced the number of false positive for him (he used his own mailbox for testing)."
   ]
  },
  {
   "cell_type": "code",
   "execution_count": 8,
   "metadata": {
    "datalore": {
     "hide_input_from_viewers": false,
     "hide_output_from_viewers": false,
     "type": "CODE"
    },
    "pycharm": {
     "name": "#%%\n"
    }
   },
   "outputs": [
    {
     "name": "stdout",
     "output_type": "stream",
     "text": [
      "CPU times: user 42.6 ms, sys: 311 µs, total: 42.9 ms\n",
      "Wall time: 42.7 ms\n"
     ]
    }
   ],
   "source": [
    "%%time\n",
    "word_probs_graham = {}\n",
    "for word in {**good, **bad}.keys():\n",
    "  if word in word_probs_graham:\n",
    "    continue\n",
    "  g = 2 * good.get(word, 0)  # Here's the bias\n",
    "  b = bad.get(word, 0)\n",
    "  word_probs_graham[word] = b / (g + b)"
   ]
  },
  {
   "cell_type": "code",
   "execution_count": 9,
   "metadata": {
    "datalore": {
     "hide_input_from_viewers": false,
     "hide_output_from_viewers": false,
     "type": "CODE"
    },
    "pycharm": {
     "name": "#%%\n"
    }
   },
   "outputs": [
    {
     "name": "stdout",
     "output_type": "stream",
     "text": [
      "{'txu': 0.0, 'fuels': 0.0029850746268656717, 'sds': 0.0, 'nomination': 0.0009319664492078285, 'for': 0.13647997143027202, 'january': 0.08254397834912043, '2001': 0.001091703056768559, 'attached': 0.006602336211274758, 'is': 0.1873560040549258, 'the': 0.16666666666666666}\n"
     ]
    }
   ],
   "source": [
    "print(dslice(word_probs_graham, 10))"
   ]
  },
  {
   "attachments": {},
   "cell_type": "markdown",
   "metadata": {
    "datalore": {
     "hide_input_from_viewers": false,
     "hide_output_from_viewers": false,
     "type": "MD"
    },
    "pycharm": {
     "name": "#%% md\n"
    }
   },
   "source": [
    "For a word which was never seen before, he sets $0.4$ probability. (\"\\[I\\]t is probably fairly innocent; spam words tend to be all too familiar.\")"
   ]
  },
  {
   "cell_type": "code",
   "execution_count": 10,
   "metadata": {
    "datalore": {
     "hide_input_from_viewers": false,
     "hide_output_from_viewers": false,
     "type": "CODE"
    },
    "pycharm": {
     "name": "#%%\n"
    }
   },
   "outputs": [
    {
     "name": "stdout",
     "output_type": "stream",
     "text": [
      "0.0\n",
      "0.44625407166123776\n",
      "True\n",
      "0.4\n"
     ]
    }
   ],
   "source": [
    "def get_word_prob(word, word_probs):\n",
    "  return word_probs.get(word, 0.4)\n",
    "\n",
    "print(get_word_prob('enron', word_probs_graham))\n",
    "print(get_word_prob('company', word_probs_graham))\n",
    "print('neverseen' not in word_probs_graham)\n",
    "print(get_word_prob('neverseen', word_probs_graham))"
   ]
  },
  {
   "attachments": {},
   "cell_type": "markdown",
   "metadata": {
    "datalore": {
     "hide_input_from_viewers": false,
     "hide_output_from_viewers": false,
     "type": "MD"
    },
    "pycharm": {
     "name": "#%% md\n"
    }
   },
   "source": [
    "The conditional probability on independent events' intersection can be calculated from the conditional probabilities on the individual events $p_1, \\dots , p_n$ as\n",
    "\n",
    "$$\\frac{\\prod_{i=1}^n p_i}{\\prod_{i=1}^n p_i + \\prod_{i=1}^n (1 - p_i)}$$\n",
    "\n",
    "if none of them is $0$ (that's the case for Graham), and $0$ otherwise:"
   ]
  },
  {
   "cell_type": "code",
   "execution_count": 11,
   "metadata": {
    "datalore": {
     "hide_input_from_viewers": false,
     "hide_output_from_viewers": false,
     "type": "CODE"
    },
    "pycharm": {
     "name": "#%%\n"
    }
   },
   "outputs": [
    {
     "name": "stdout",
     "output_type": "stream",
     "text": [
      "0.7941176470588235\n",
      "0\n",
      "0.5\n"
     ]
    }
   ],
   "source": [
    "def combine(probs):\n",
    "    if any(p == 0 for p in probs):\n",
    "        return 0\n",
    "    prod = np.prod(probs)\n",
    "    neg_prod = np.prod([1 - p for p in probs])\n",
    "    if prod + neg_prod == 0:  # Still possible due to floating point arithmetic\n",
    "        return 0.5  # Assume that prod and neg_prod are equally small\n",
    "    return prod / (prod + neg_prod)\n",
    "\n",
    "print(combine([0.6, 0.72]))\n",
    "print(combine([0.5, 0]))\n",
    "print(combine([1 / sys.maxsize for _ in range(100)] + [1]))"
   ]
  },
  {
   "attachments": {},
   "cell_type": "markdown",
   "metadata": {
    "datalore": {
     "hide_input_from_viewers": false,
     "hide_output_from_viewers": false,
     "type": "MD"
    },
    "pycharm": {
     "name": "#%% md\n"
    }
   },
   "source": [
    "The spam probability of an email is calculated based on the most interesting fifteen words in it, where interestingness is defined by how far they are from $0.5$:"
   ]
  },
  {
   "cell_type": "code",
   "execution_count": 12,
   "metadata": {
    "datalore": {
     "hide_input_from_viewers": false,
     "hide_output_from_viewers": false,
     "type": "CODE"
    },
    "pycharm": {
     "name": "#%%\n"
    }
   },
   "outputs": [
    {
     "name": "stdout",
     "output_type": "stream",
     "text": [
      "[0.001, 0.002, 0.003, 0.004, 0.005, 0.006, 0.007, 0.008, 0.009, 0.01, 0.95, 0.94, 0.93, 0.92, 0.91]\n"
     ]
    }
   ],
   "source": [
    "def get_interesting_probs(probs, intr_threshold=None):\n",
    "    if intr_threshold is None:\n",
    "        intr_threshold = 15\n",
    "    return sorted(probs, \n",
    "                  key=lambda p: abs(p - 0.5),\n",
    "                  reverse=True)[:intr_threshold]\n",
    "\n",
    "print(get_interesting_probs([0.001, 0.002, 0.003, 0.004, 0.005,\n",
    "                             0.91, 0.92, 0.93, 0.94, 0.95,\n",
    "                             0.006, 0.007, 0.008, 0.009, 0.01,\n",
    "                             0.4, 0.5, 0.6]))"
   ]
  },
  {
   "cell_type": "code",
   "execution_count": 13,
   "metadata": {
    "datalore": {
     "hide_input_from_viewers": false,
     "hide_output_from_viewers": false,
     "type": "CODE"
    },
    "pycharm": {
     "name": "#%%\n"
    }
   },
   "outputs": [
    {
     "name": "stdout",
     "output_type": "stream",
     "text": [
      "0.974025974025974\n",
      "0\n"
     ]
    }
   ],
   "source": [
    "def get_text_prob(text, word_probs, intr_threshold=None):\n",
    "  words = tokenize(text)\n",
    "  probs = [get_word_prob(w, word_probs) for w in words]\n",
    "  interesting_probs = get_interesting_probs(probs, intr_threshold)\n",
    "  return combine(interesting_probs)\n",
    "\n",
    "print(get_text_prob(b'Subject: sex', word_probs_graham))\n",
    "print(get_text_prob(b'Subject: Enron', word_probs_graham))"
   ]
  },
  {
   "attachments": {},
   "cell_type": "markdown",
   "metadata": {
    "datalore": {
     "hide_input_from_viewers": false,
     "hide_output_from_viewers": false,
     "type": "MD"
    },
    "pycharm": {
     "name": "#%% md\n"
    }
   },
   "source": [
    "An email is predicted to be spam above $0.9$ probability."
   ]
  },
  {
   "cell_type": "code",
   "execution_count": 14,
   "metadata": {
    "datalore": {
     "hide_input_from_viewers": false,
     "hide_output_from_viewers": false,
     "type": "CODE"
    },
    "pycharm": {
     "name": "#%%\n"
    }
   },
   "outputs": [
    {
     "name": "stdout",
     "output_type": "stream",
     "text": [
      "1\n",
      "0\n"
     ]
    }
   ],
   "source": [
    "prob_threshold = 0.9\n",
    "\n",
    "def predict_label(text, word_probs, intr_threshold=None):\n",
    "  return 1 if get_text_prob(text, word_probs, intr_threshold) > prob_threshold else 0\n",
    "\n",
    "print(predict_label(b'Subject: sex', word_probs_graham))\n",
    "print(predict_label(b'Subject: Enron', word_probs_graham))"
   ]
  },
  {
   "attachments": {},
   "cell_type": "markdown",
   "metadata": {
    "datalore": {
     "hide_input_from_viewers": false,
     "hide_output_from_viewers": false,
     "type": "MD"
    },
    "pycharm": {
     "name": "#%% md\n"
    }
   },
   "source": [
    "Now let's set up our test dataset, and evaluate Graham's spam filter."
   ]
  },
  {
   "cell_type": "code",
   "execution_count": 15,
   "metadata": {
    "datalore": {
     "hide_input_from_viewers": false,
     "hide_output_from_viewers": false,
     "type": "CODE"
    },
    "pycharm": {
     "name": "#%%\n"
    }
   },
   "outputs": [
    {
     "name": "stdout",
     "output_type": "stream",
     "text": [
      "Found 5172 files belonging to 2 classes.\n",
      "Using 517 files for validation.\n",
      "b'Subject: cdnow shipment confirmation\\r\\ndear daren ,\\r\\nthank you for shopping at cdnow . please keep this email invoice for\\r\\nyour records .\\r\\non april 3 we shipped your order number 17817331 for the following item :\\r\\nrobert earl keen : walking distance\\r\\nformat : cd quantity : 1 price : 12 . 99\\r\\nto the following address via u . s . postal service :\\r\\ndaren farmer\\r\\n5519 clarkston ln\\r\\nspring , tx 77379\\r\\ntotal number of items : 1\\r\\nsubtotal : $ 12 . 99\\r\\nshipping : $ 2 . 99\\r\\nsales tax : $ 0 . 00\\r\\n- - - - - - - - - -\\r\\nshipment total : $ 15 . 98\\r\\nyour order was billed to daren farmer . this shipment completes your\\r\\norder and is paid in full .\\r\\nmost orders arrive within 4 - 8 business days . however , in rare instances\\r\\nit may take up to 2 weeks .\\r\\nfor complete information about your order ( number 17817331 ) or to\\r\\nconfirm the status , click or copy / paste this link into your web browser :\\r\\nhttp : / / cdnow . com / myorder / otid = 17817331\\r\\nyou can also access your order history directly from our home page .\\r\\nplease do not reply to this email . if you have questions about your order\\r\\nthat are not addressed in your online order history , please visit our contact\\r\\ncdnow page using this link :\\r\\nhttp : / / cdnow . com / service\\r\\nfast forward rewards ( tm ) program points for this order will\\r\\nbe credited in your membership summary as \" points earned . \"\\r\\nthanks again for your order .\\r\\nsincerely ,\\r\\ncustomer service\\r\\ncdnow , inc . your music . your store .\\r\\nhttp : / / cdnow . com\\r\\naol keyword : cdnow\\r\\n1757978'\n",
      "0\n",
      "b'Subject: bottle of beer bodice rippers beyond 3735\\r\\nreinforce checksum continuo bell finery refection headway cromwellian jiffy mephistopheles cougar fungoid violin carthage majestic monmouth squeeze eveready dispensary stateroom douglas floury deferring too catkin embassy blythe greenhouse ireland denote warden vertical demerit school ac emmanuel evenhanded shirk vixen grandparent rm 8\\r\\nstreamside betrayer al rhombic eyewitness tack baggage cowboy axisymmetric idiosyncrasy vwy 9\\r\\ndurableoperon'\n",
      "1\n",
      "b'Subject: over 160 fda approved meds\\r\\n% rnd _ alt % rnd _ alt % rnd _ alt\\r\\nover 160 meds to choose from with no prescription required\\r\\nnever mind !\\r\\n% rnd _ alt % rnd _ alt % rnd _ alt\\r\\n'\n",
      "1\n",
      "b\"Subject: equistar feb - 01\\r\\ndaren - here are the equistar # ' s . there should be a total of 65 . 000 . there\\r\\nis a new deal per janice at equistar at meter 1373 effective 2 / 01 . i have\\r\\nnot seen a deal for this . let me know if it is legitimate . no volumes were\\r\\nadded , just moved from meter to meter . ( deal # 378904 ) thanks .\\r\\nal\"\n",
      "0\n",
      "b'Subject: the foundation course - bottom - line project management ( july 25 - 26 )\\r\\nwe said it was coming and here it is . . . . .\\r\\nbottom - line project management\\r\\nthe foundation course\\r\\njuly 25 \\x01 ) 26 , 2000\\r\\ntarget audience\\r\\nthis class is for people new to project management , from all functions and at\\r\\nall leadership levels . in addition , it \\' s for shirt sleeve project managers ,\\r\\nmembers of large project teams and individual contributors . participants may\\r\\nhave business experience but little project management training . they do\\r\\npart of the project themselves and use borrowed resources to do the rest .\\r\\nthe \\x01 & basics \\x01 8\\r\\nteaches the basics \\x01 ) how to plan , schedule , resource , influence , track ,\\r\\nreport and complete any size project in any area . features pre - work , action\\r\\nlearning , individual and team exercises and a mini - simulation of a project on\\r\\nwhich participants practice skills and get immediate feedback on results .\\r\\nwhat you learn\\r\\nparticipants learn and take away an application package , the bottom - line tool\\r\\nkit , to successfully implement their next project assignment . there is an\\r\\noption to use project software in class to identify critical path , modify\\r\\ntasks , and control projects .\\r\\nkey learning points :\\r\\nspeak a common language \\x01 ) use basic terms , answer key questions\\r\\nidentify behaviors of effective project leaders and teams\\r\\n5 - step common sense methodology to plan , organize , resource , implement and\\r\\nclose - out any size project \\x01 ) in any area\\r\\norganizational terms & definitions : stakeholders , customers , sponsors , etc .\\r\\ndevelop and apply 3 key visual tools to planing and track performance\\r\\nresource , staff and complete projects , with limited , \\x01 billed to your rc and company\\r\\nnumber\\r\\nto enroll\\r\\nsign up on line through the organizational development & training intranet\\r\\nsite , which can be accessed through enron \\' s home page . click on \" sites \" ,\\r\\n\" intranet sites \" and then \" organizational development & training \" . then\\r\\nclick on \" training \" and then \" leadership training \" . or , go directly to the\\r\\nsite by entering the intranet address below .\\r\\nif you have any questions about this course or any other offerings\\r\\nsponsored by od & t , feel free to contact\\r\\nsusan m . lewis at 713 - 853 - 9712 or slewis 2 @ enron . com .'\n",
      "0\n",
      "b'Subject: strapon fucked cunt lickin dyke .\\r\\nshe especially loves black penis that can bang her wet pussy to give her a real good pounding .\\r\\nthe gorgeous gang bang floosie .\\r\\nnatural , hairy , dreadlocked , hemp wearing , barefoot , earth - loving goddesses .\\r\\nbut their determination to banish fools foundered ultimately in the installation of absolute idiots .\\r\\n'\n",
      "1\n",
      "b\"Subject: new product ! cialis soft tabs .\\r\\nhi !\\r\\nwe have a new product that we offer to you , c _ i _ a _ l _ i _ s soft tabs ,\\r\\ncialis soft tabs is the new impotence treatment drug that everyone is talking\\r\\nabout . soft tabs acts up to 36 hours , compare this to only two or three hours\\r\\nof viagra action ! the active ingredient is tadalafil , same as in brand cialis .\\r\\nsimply disolve half a pill under your tongue , 10 min before sex , for the best\\r\\nerections you ' ve ever had !\\r\\nsoft tabs also have less sidebacks ( you can drive or mix alcohol drinks with them ) .\\r\\nyou can get it at : http : / / go - medz . com / soft /\\r\\nno thanks : http : / / go - medz . com / rr . php\\r\\n\"\n",
      "1\n",
      "b'Subject: may activity survey\\r\\ndaren ,\\r\\nplease provide the number of producer services deals for the month of may\\r\\n( new vs . existing )\\r\\nshari\\r\\n3 - 3859\\r\\n- - - - - - - - - - - - - - - - - - - - - - forwarded by shari mao / hou / ect on 06 / 06 / 2000 01 : 02 pm\\r\\n- - - - - - - - - - - - - - - - - - - - - - - - - - -\\r\\njames scribner @ enron\\r\\n05 / 30 / 2000 11 : 43 am\\r\\nto : bob klein / hou / ect @ ect , bryce baxter / hou / ect @ ect , carrie\\r\\nhollomon / hou / ect @ ect , cheryl dudley / hou / ect @ ect , daren j farmer / hou / ect @ ect ,\\r\\nfaye ellis / hou / ect @ ect , gordon heaney / corp / enron @ enron , judy\\r\\nbarnes / hou / ect @ ect , kathryn cordes / hou / ect @ ect , kim s theriot / hou / ect @ ect ,\\r\\nlinda s bryan / hou / ect @ ect , lisa csikos / hou / ect @ ect , mary g\\r\\ngosnell / hou / ect @ ect , michael e moscoso / hou / ect @ ect , pat\\r\\nclynes / corp / enron @ enron , rita wynne / hou / ect @ ect , d todd hall / hou / ect @ ect ,\\r\\nirene flynn / hou / ect @ ect , donna consemiu / hou / ect @ ect , bill d hare / hou / ect @ ect ,\\r\\nconnie sutton / hou / ect @ ect , dan houston / corp / enron @ enron , michael\\r\\neiben / hou / ect @ ect\\r\\ncc : lisa b cousino / hou / ect @ ect , shari mao / hou / ect @ ect , jennifer\\r\\nreside / hou / ect @ ect , elmo gore / corp / enron @ enron\\r\\nsubject : may activity survey\\r\\nattached please find the activity survey for the month of may , 2000 .\\r\\ni am sending the survey out this time as an opportunity to introduce myself\\r\\nto those of you i have not yet met . i am being asked to take a direct roll\\r\\nin the further development and rollout of the operations pricing model ( fka\\r\\ntransaction cost model ) . in the past , i have directed the implementation of\\r\\nseveral pricing systems based on activity based costing similar to the\\r\\noperations pricing model ( opm ) . over the past couple of weeks my\\r\\nobservations of the model have lead me to be concerned with the quality of\\r\\ndata used in the model . it will take efforts by both you and the opm team to\\r\\nget to a satisfactory level of data quality . this process can start with\\r\\nthis months data collection efforts . please pay particular attention this\\r\\nmonth as the \" bar is being raised \" by the management of energy operations for\\r\\ndata quality and timeliness .\\r\\nthe attached survey drives your costs from your activities to the commercial\\r\\nteams . please select your rcs , and fill in the driver quantity for the\\r\\nrequested driver for the month of may . please fill out the attached activity\\r\\ndriver survey with may numbers for your rc and return to shari mao by end of\\r\\nday friday , june 2 .\\r\\nplease note the following updates :\\r\\nfor nat gas , sally beck is interested in physical ( as denoted as ph in the\\r\\nsurvey ) vs . financial ( as denoted as fi in the survey ) numbers , please\\r\\nprovide statistics accordingly\\r\\nif a driver has not been updated per your request , please call or email\\r\\njennifer reside\\r\\nif you have additional updates / suggestions or items that need correction ,\\r\\nplease call or email jennifer reside\\r\\nif your group currently generates a standard report that captures the\\r\\nsurveyed data , please send the report to jennifer reside . this will\\r\\neliminate your need to fill out this survey every month . if you would like\\r\\nus to collect this information from someone within your team beginning next\\r\\nmonth , please let jennifer know .\\r\\nplease contact jennifer reside x 3 - 5971 with questions ( shari is on vacation\\r\\nthis week ) , or if you are unable to complete the survey within the allotted\\r\\ntime .'\n",
      "0\n",
      "b'Subject: wacog for sale to cannon winter 2000 - 01\\r\\naccording to the contract the pricing of the gas we are selling back to\\r\\ncannon is a wacog of what we bought it for this summer . here is the\\r\\ncalculation of the wacog . let me know if there are any questions / comments .\\r\\ndave'\n",
      "0\n",
      "b\"Subject: dave n out until july 5 th\\r\\ni will be taking a sabbatical beginning any moment . i have no control over\\r\\nthe exact time ; it may have already happened . i plan to visit the mountains\\r\\nand the ocean . they miss me . i miss them .\\r\\nunfortunately , enron requires employees to use vacation time instead of inner\\r\\nself time , so i will have to return someday . looks like july 5 th . i ' m kind\\r\\nof bummed about it , but maybe by then i will have transcended to a new\\r\\nplateau of understanding .\\r\\nin my absence , contact milind patil , x 39247 for unify performance issues .\\r\\nthanks for understanding ,\\r\\nthe persona formerly known as dave ( the keyboard can no longer be used to\\r\\nspell my new name )\"\n",
      "0\n"
     ]
    }
   ],
   "source": [
    "ds_test = tf.keras.utils.text_dataset_from_directory(**ds_base_kwargs,\n",
    "                                                     subset='validation')\n",
    "\n",
    "for text, label in ds_test.unbatch().take(10):\n",
    "  print(text.numpy())\n",
    "  print(label.numpy())"
   ]
  },
  {
   "cell_type": "code",
   "execution_count": 16,
   "metadata": {
    "datalore": {
     "hide_input_from_viewers": false,
     "hide_output_from_viewers": false,
     "type": "CODE"
    },
    "pycharm": {
     "name": "#%%\n"
    }
   },
   "outputs": [
    {
     "name": "stdout",
     "output_type": "stream",
     "text": [
      "true_positive\n",
      "true_negative\n",
      "false_positive\n",
      "false_negative\n"
     ]
    }
   ],
   "source": [
    "def evaluate(prediction, label):\n",
    "  if prediction == 1 and label == 1:\n",
    "    return 'true_positive'\n",
    "  elif prediction == 0 and label == 0:\n",
    "    return 'true_negative'\n",
    "  elif prediction == 1:\n",
    "    return 'false_positive'\n",
    "  else:\n",
    "    return 'false_negative'\n",
    "\n",
    "print(evaluate(1, 1))\n",
    "print(evaluate(0, 0))\n",
    "print(evaluate(1, 0))\n",
    "print(evaluate(0, 1))"
   ]
  },
  {
   "cell_type": "code",
   "execution_count": 17,
   "metadata": {
    "datalore": {
     "hide_input_from_viewers": false,
     "hide_output_from_viewers": false,
     "type": "CODE"
    },
    "pycharm": {
     "name": "#%%\n"
    }
   },
   "outputs": [
    {
     "name": "stdout",
     "output_type": "stream",
     "text": [
      "{'true_positives': 80, 'true_negatives': 369, 'false_positives': 0, 'false_negatives': 68}\n"
     ]
    }
   ],
   "source": [
    "def predict_and_evaluate(tf_text, tf_label, word_probs, intr_threshold=None):\n",
    "    return evaluate(predict_label(tf_text.numpy(), word_probs, intr_threshold), tf_label.numpy())\n",
    "\n",
    "def evaluate_bayesian(word_probs, intr_threshold=None):\n",
    "    results = {'true_positives': 0,\n",
    "               'true_negatives': 0,\n",
    "               'false_positives': 0,\n",
    "               'false_negatives': 0}\n",
    "    for t, l in ds_test.unbatch():\n",
    "        results[f'{predict_and_evaluate(t, l, word_probs, intr_threshold)}s'] += 1\n",
    "    return results\n",
    "\n",
    "results_graham = evaluate_bayesian(word_probs_graham)\n",
    "\n",
    "print(results_graham)"
   ]
  },
  {
   "attachments": {},
   "cell_type": "markdown",
   "metadata": {
    "datalore": {
     "hide_input_from_viewers": false,
     "hide_output_from_viewers": false,
     "type": "MD"
    },
    "pycharm": {
     "name": "#%% md\n"
    }
   },
   "source": [
    "## Correcting Graham's bias\n",
    "\n",
    "The bias of double counting the non-spam occurrences doesn't seem to fit in to the [Bayesian epistemological](https://plato.stanford.edu/archives/sum2024/entries/epistemology-bayesian/) framework, which might refer to relative frequencies, but hardly to biased ones. Let's visualize the bias, and see if we can perhaps get rid of it.\n",
    "\n",
    "One can verify that the formula for the bias is $\\frac{p}{2 - p}$ by substituting $p = \\frac{b}{g + b}$:\n",
    "\n",
    "$$\n",
    "\\frac{\\frac{b}{g + b}}{2 - \\frac{b}{g + b}} = \\frac{b}{2g + b}.\n",
    "$$"
   ]
  },
  {
   "cell_type": "code",
   "execution_count": 18,
   "metadata": {
    "datalore": {
     "hide_input_from_viewers": false,
     "hide_output_from_viewers": false,
     "type": "CODE"
    },
    "pycharm": {
     "name": "#%%\n"
    }
   },
   "outputs": [],
   "source": [
    "def bias(p):\n",
    "    return p / (2 - p)"
   ]
  },
  {
   "attachments": {},
   "cell_type": "markdown",
   "metadata": {
    "datalore": {
     "hide_input_from_viewers": false,
     "hide_output_from_viewers": false,
     "type": "MD"
    },
    "pycharm": {
     "name": "#%% md\n"
    }
   },
   "source": [
    "Here's a plot comparing Graham's biased probablities to the original ones:"
   ]
  },
  {
   "cell_type": "code",
   "execution_count": 19,
   "metadata": {
    "datalore": {
     "hide_input_from_viewers": false,
     "hide_output_from_viewers": false,
     "type": "CODE"
    },
    "pycharm": {
     "name": "#%%\n"
    }
   },
   "outputs": [],
   "source": [
    "black_or_white = 'lightgrey'\n",
    "mpl.rcParams['text.color'] = black_or_white\n",
    "mpl.rc('axes', facecolor='none', edgecolor=black_or_white)\n",
    "mpl.rcParams['xtick.color'] = black_or_white\n",
    "mpl.rcParams['ytick.color'] = black_or_white\n",
    "mpl.rcParams['axes.labelcolor'] = black_or_white"
   ]
  },
  {
   "cell_type": "code",
   "execution_count": 20,
   "metadata": {
    "datalore": {
     "hide_input_from_viewers": false,
     "hide_output_from_viewers": false,
     "type": "CODE"
    },
    "pycharm": {
     "name": "#%%\n"
    }
   },
   "outputs": [
    {
     "data": {
      "image/png": "[encoded data removed]",
      "text/plain": [
       "<Figure size 432x288 with 1 Axes>"
      ]
     },
     "metadata": {
      "needs_background": "dark"
     },
     "output_type": "display_data"
    }
   ],
   "source": [
    "x = np.linspace(0, 1, 100)\n",
    "plt.plot(x, x, label='Original')\n",
    "plt.plot(x, bias(x), label='Biased')\n",
    "plt.title('Biased probabilities')\n",
    "plt.legend()\n",
    "plt.gca().set_aspect('equal')"
   ]
  },
  {
   "attachments": {},
   "cell_type": "markdown",
   "metadata": {
    "datalore": {
     "hide_input_from_viewers": false,
     "hide_output_from_viewers": false,
     "type": "MD"
    },
    "pycharm": {
     "name": "#%% md\n"
    }
   },
   "source": [
    "That is, Graham slightly decreased all probability values. One's intuition could be that this, instead of decreasing the number of false positives, will in fact increase the number of false negatives: for example, if a spam email consists of high-probability words which combined gives it a probability slightly above $0.9$, then with the bias we might get slightly under $0.9$, causing the email to just slip through the spam filter. Let's see if the `Enron1` dataset confirms our intuition.\n",
    "\n",
    "By a substitution similar to the above one, the reverse formula is $\\frac{2p}{p + 1}$."
   ]
  },
  {
   "cell_type": "code",
   "execution_count": 21,
   "metadata": {
    "datalore": {
     "hide_input_from_viewers": false,
     "hide_output_from_viewers": false,
     "type": "CODE"
    },
    "pycharm": {
     "name": "#%%\n"
    }
   },
   "outputs": [],
   "source": [
    "def unbias(p):\n",
    "    return (2 * p) / (p + 1)"
   ]
  },
  {
   "cell_type": "code",
   "execution_count": 22,
   "metadata": {
    "datalore": {
     "hide_input_from_viewers": false,
     "hide_output_from_viewers": false,
     "type": "CODE"
    },
    "pycharm": {
     "name": "#%%\n"
    }
   },
   "outputs": [
    {
     "name": "stdout",
     "output_type": "stream",
     "text": [
      "{'true_positives': 81, 'true_negatives': 369, 'false_positives': 0, 'false_negatives': 67}\n"
     ]
    }
   ],
   "source": [
    "word_probs_bayes = {w: unbias(p) for (w, p) in word_probs_graham.items()}\n",
    "\n",
    "results_bayes = evaluate_bayesian(word_probs_bayes)\n",
    "\n",
    "print(results_bayes)"
   ]
  },
  {
   "attachments": {},
   "cell_type": "markdown",
   "metadata": {
    "datalore": {
     "hide_input_from_viewers": false,
     "hide_output_from_viewers": false,
     "type": "MD"
    },
    "pycharm": {
     "name": "#%% md\n"
    }
   },
   "source": [
    "So there's one single email on which the unbiased Bayesian filter performed better. Let's check it:"
   ]
  },
  {
   "cell_type": "code",
   "execution_count": 23,
   "metadata": {
    "datalore": {
     "hide_input_from_viewers": false,
     "hide_output_from_viewers": false,
     "type": "CODE"
    },
    "pycharm": {
     "name": "#%%\n"
    }
   },
   "outputs": [
    {
     "name": "stdout",
     "output_type": "stream",
     "text": [
      "Subject: stop the aging clock\r\n",
      "nerissa\r\n",
      "\n",
      "Label: 1\n",
      "Graham: 0.8514251061249243 [0.5950413223140496, 0.16666666666666666, 0.8181818181818182, 0.8666666666666667, 0.4]\n",
      "Bayes: 0.9892113259060286 [0.7461139896373057, 0.2857142857142857, 0.9, 0.9285714285714286, 0.4]\n"
     ]
    }
   ],
   "source": [
    "def check_bayesian_diff(word_probs, intr_threshold, display, true_label, include_graham_intr=False):\n",
    "    for email, label in ds_test.unbatch():\n",
    "        email_bytes = email.numpy()\n",
    "        label_int = label.numpy()\n",
    "        if label_int == true_label and predict_label(email_bytes, word_probs_graham) != predict_label(email_bytes, word_probs, intr_threshold):\n",
    "            email_str = email_bytes.decode(encoding)\n",
    "            print(email_str)\n",
    "            print(f'Label: {label_int}')\n",
    "            words = tokenize(email_bytes)\n",
    "            prob_graham = get_text_prob(email_bytes, word_probs_graham)\n",
    "            prob = get_text_prob(email_bytes, word_probs, intr_threshold)\n",
    "            probs_graham = [get_word_prob(w, word_probs_graham) for w in words]\n",
    "            probs = [get_word_prob(w, word_probs) for w in words]\n",
    "            print(f'Graham: {prob_graham} {probs_graham}')\n",
    "            if include_graham_intr:\n",
    "                print(f'Graham interesting: {get_interesting_probs(probs_graham)}')\n",
    "            print(f'{display}: {prob} {probs}')\n",
    "\n",
    "check_bayesian_diff(word_probs_bayes, None, 'Bayes', 1)"
   ]
  },
  {
   "cell_type": "code",
   "execution_count": 24,
   "metadata": {
    "datalore": {
     "hide_input_from_viewers": false,
     "hide_output_from_viewers": false,
     "type": "CODE"
    },
    "pycharm": {
     "name": "#%%\n"
    }
   },
   "outputs": [
    {
     "name": "stdout",
     "output_type": "stream",
     "text": [
      "True\n"
     ]
    }
   ],
   "source": [
    "print('nerissa' not in word_probs_graham)"
   ]
  },
  {
   "attachments": {},
   "cell_type": "markdown",
   "metadata": {
    "datalore": {
     "hide_input_from_viewers": false,
     "hide_output_from_viewers": false,
     "type": "MD"
    },
    "pycharm": {
     "name": "#%% md\n"
    }
   },
   "source": [
    "It really contains a relatively high number of spammy words (\"aging\" and \"clock\", 2 out of 5), which got overly reduced in probability by the grahamian bias, and the email eventually slipped through Graham's filter."
   ]
  },
  {
   "cell_type": "code",
   "execution_count": 25,
   "metadata": {
    "datalore": {
     "hide_input_from_viewers": false,
     "hide_output_from_viewers": false,
     "type": "CODE"
    },
    "pycharm": {
     "name": "#%%\n"
    }
   },
   "outputs": [
    {
     "data": {
      "image/png": "[encoded data removed]",
      "text/plain": [
       "<Figure size 432x288 with 1 Axes>"
      ]
     },
     "metadata": {
      "needs_background": "dark"
     },
     "output_type": "display_data"
    }
   ],
   "source": [
    "len_test = sum(results_graham.values())\n",
    "\n",
    "def plot_results(results, bar_labels):\n",
    "  labels = ['false_positives', 'false_negatives']\n",
    "  labels_display = ['False positive', 'False negative']\n",
    "\n",
    "  def get_y(res):\n",
    "    return [res[l] / len_test * 100 for l in labels]\n",
    "\n",
    "  x = np.arange(len(labels))\n",
    "  width_sum = 0.7\n",
    "  width = width_sum / len(results)  # 0.35\n",
    "  fig, ax = plt.subplots()\n",
    "  rects = [ax.bar(x - width_sum / 2 + width / 2 + i * width, get_y(res), width, label=lab) for i, (res, lab) in enumerate(zip(results, bar_labels))]\n",
    "      \n",
    "  ax.set_ylabel('Ratio of emails')\n",
    "  ax.set_title('Error percentages')\n",
    "  ax.set_xticks(x)\n",
    "  ax.set_xticklabels(labels_display)\n",
    "  ax.legend()\n",
    "  for rec in rects:\n",
    "    ax.bar_label(rec, fmt='%.2f%%', padding=3)\n",
    "  ax.yaxis.set_major_formatter(mtick.PercentFormatter())\n",
    "    \n",
    "plot_results([results_bayes, results_graham], ['Bayes', 'Graham'])"
   ]
  },
  {
   "attachments": {},
   "cell_type": "markdown",
   "metadata": {
    "datalore": {
     "hide_input_from_viewers": false,
     "hide_output_from_viewers": false,
     "type": "MD"
    },
    "pycharm": {
     "name": "#%% md\n"
    }
   },
   "source": [
    "As the above plot shows, the unbiased Bayesian filter retains the $0$ false positive rate, and decreases the false negative rate from $13.15\\%$ to $12.96\\%$.\n",
    "\n",
    "One might ask: is this about $0.2\\%$ gain in effectiveness significant? In order to assess this, we have to bear in mind that spam filters are already very effective. Graham wrote:\n",
    "\n",
    "> [R]ecognizing that *last few percent* [emphasis mine] of spams got very hard.\n",
    "\n",
    "Another quote from the [announcement](https://cloud.google.com/blog/products/g-suite/ridding-gmail-of-100-million-more-spam-messages-with-tensorflow) of machine learning spam filters in Gmail written in TensorFlow:\n",
    "\n",
    "> [Gmail's filters] help block *more than 99.9 percent* of spam.\n",
    "\n",
    "That is, in the field of spam filtering, split-percent results are considered good, and removing the bias from Bayesian spam filtering seems to be such a result.\n",
    "\n",
    "\n"
   ]
  },
  {
   "cell_type": "markdown",
   "metadata": {},
   "source": [
    "This constitutes an argument for Bayesian epistemology that is similar to the \n",
    "[Dutch book argument](https://plato.stanford.edu/archives/sum2024/entries/epistemology-bayesian/#AtteFounDutcBookArgu): \n",
    "a successful application of the Bayesian principles indicates that one should adhere to them."
   ]
  },
  {
   "attachments": {},
   "cell_type": "markdown",
   "metadata": {
    "datalore": {
     "hide_input_from_viewers": false,
     "hide_output_from_viewers": false,
     "type": "MD"
    },
    "pycharm": {
     "name": "#%% md\n"
    }
   },
   "source": [
    "## Tuning the interestingness threshold\n",
    "\n",
    "Another enhancement possibility that comes to mind is to tune the interestingness threshold, i.e. how many words of an email we consider in the probability calculation as being the most interesting ones according to their word probabilities (this is $15$ for Graham).\n",
    "\n",
    "First, let's see what we'll get if we remove the threshold altogether:"
   ]
  },
  {
   "cell_type": "code",
   "execution_count": 26,
   "metadata": {
    "datalore": {
     "hide_input_from_viewers": false,
     "hide_output_from_viewers": false,
     "type": "CODE"
    },
    "pycharm": {
     "name": "#%%\n"
    }
   },
   "outputs": [
    {
     "name": "stdout",
     "output_type": "stream",
     "text": [
      "threshold: 9223372036854775807\n",
      "{'true_positives': 71, 'true_negatives': 369, 'false_positives': 0, 'false_negatives': 77}\n"
     ]
    },
    {
     "data": {
      "text/plain": [
       "{'true_positives': 71,\n",
       " 'true_negatives': 369,\n",
       " 'false_positives': 0,\n",
       " 'false_negatives': 77}"
      ]
     },
     "execution_count": 26,
     "metadata": {},
     "output_type": "execute_result"
    },
    {
     "data": {
      "image/png": "[encoded data removed]",
      "text/plain": [
       "<Figure size 432x288 with 1 Axes>"
      ]
     },
     "metadata": {
      "needs_background": "dark"
     },
     "output_type": "display_data"
    }
   ],
   "source": [
    "def tune_intr_threshold(t, t_display=None, plot=True):\n",
    "    print(f'threshold: {t}')\n",
    "    if t_display is None:\n",
    "        t_display = t\n",
    "    results = evaluate_bayesian(word_probs_bayes, intr_threshold=t)\n",
    "    print(results)\n",
    "    if plot:\n",
    "        plot_results([results_bayes, results_graham, results],\n",
    "                     ['Bayes', 'Graham', f'Bayes intresting ≤ {t_display}'])\n",
    "    return results\n",
    "\n",
    "tune_intr_threshold(sys.maxsize, '∞')"
   ]
  },
  {
   "attachments": {},
   "cell_type": "markdown",
   "metadata": {
    "datalore": {
     "hide_input_from_viewers": false,
     "hide_output_from_viewers": false,
     "type": "MD"
    },
    "pycharm": {
     "name": "#%% md\n"
    }
   },
   "source": [
    "That's worse than setting Graham's threshold.\n",
    "\n",
    "But what if we decrease it instead?"
   ]
  },
  {
   "cell_type": "code",
   "execution_count": 27,
   "metadata": {
    "datalore": {
     "hide_input_from_viewers": false,
     "hide_output_from_viewers": false,
     "type": "CODE"
    },
    "pycharm": {
     "name": "#%%\n"
    }
   },
   "outputs": [
    {
     "name": "stdout",
     "output_type": "stream",
     "text": [
      "threshold: 1\n",
      "{'true_positives': 131, 'true_negatives': 357, 'false_positives': 12, 'false_negatives': 17}\n",
      "threshold: 2\n",
      "{'true_positives': 122, 'true_negatives': 364, 'false_positives': 5, 'false_negatives': 26}\n",
      "threshold: 3\n",
      "{'true_positives': 114, 'true_negatives': 368, 'false_positives': 1, 'false_negatives': 34}\n",
      "threshold: 4\n",
      "{'true_positives': 109, 'true_negatives': 368, 'false_positives': 1, 'false_negatives': 39}\n",
      "threshold: 5\n",
      "{'true_positives': 107, 'true_negatives': 368, 'false_positives': 1, 'false_negatives': 41}\n",
      "threshold: 6\n",
      "{'true_positives': 103, 'true_negatives': 368, 'false_positives': 1, 'false_negatives': 45}\n",
      "threshold: 7\n",
      "{'true_positives': 98, 'true_negatives': 368, 'false_positives': 1, 'false_negatives': 50}\n",
      "threshold: 8\n",
      "{'true_positives': 96, 'true_negatives': 369, 'false_positives': 0, 'false_negatives': 52}\n",
      "threshold: 8\n",
      "{'true_positives': 96, 'true_negatives': 369, 'false_positives': 0, 'false_negatives': 52}\n"
     ]
    },
    {
     "data": {
      "image/png": "[encoded data removed]",
      "text/plain": [
       "<Figure size 432x288 with 1 Axes>"
      ]
     },
     "metadata": {
      "needs_background": "dark"
     },
     "output_type": "display_data"
    }
   ],
   "source": [
    "intr_threshold_opt = 1\n",
    "while True:\n",
    "    results = tune_intr_threshold(intr_threshold_opt, plot=False)\n",
    "    if results['false_positives'] == 0:\n",
    "        break\n",
    "    intr_threshold_opt += 1\n",
    "results_bayes_intr_threshold_tuned = tune_intr_threshold(intr_threshold_opt)"
   ]
  },
  {
   "attachments": {},
   "cell_type": "markdown",
   "metadata": {
    "datalore": {
     "hide_input_from_viewers": false,
     "hide_output_from_viewers": false,
     "type": "MD"
    },
    "pycharm": {
     "name": "#%% md\n"
    }
   },
   "source": [
    "Let's check the false positive email for the just suboptimal threshold:"
   ]
  },
  {
   "cell_type": "code",
   "execution_count": 28,
   "metadata": {
    "datalore": {
     "hide_input_from_viewers": false,
     "hide_output_from_viewers": false,
     "type": "CODE"
    },
    "pycharm": {
     "name": "#%%\n"
    }
   },
   "outputs": [
    {
     "name": "stdout",
     "output_type": "stream",
     "text": [
      "Subject: the expatriate zone - issue # 1 2 / 14 / 00\r\n",
      "the expatriate zone 1 / 15 / 00 issue # 1\r\n",
      "where every day is \" just another shitty day in paradise \"\r\n",
      "the zine for the tropically impaired\r\n",
      "- - - - - - - - - - - - - - - - - - - - - - - - - - - - - - - - - in this issue\r\n",
      "* featured expatriate of the month - james \" sunny jim \" white\r\n",
      "* travel into \" the zone \" - and beat the irs at the same time .\r\n",
      "* \" jimmydotcom \" - where ' s that parrot head book we ' ve been hearing about ?\r\n",
      "* club trini update\r\n",
      "* millennium change bubba style - see what all the hullabaloo online was\r\n",
      "about .\r\n",
      "* cabo 1999 - bad boys of the \" expatriated phan club \" spotted south of the\r\n",
      "border .\r\n",
      "* parrothead pilots association - new club in the making .\r\n",
      "- - - - - - - - - - - - - - - - - - - -\r\n",
      "for the web page edition go to :\r\n",
      "it includes some great pictures . we suggest printing it out and laying it out\r\n",
      "on your coffee table . that way , you have somewhere to set your \" red stripe \"\r\n",
      "so you don ' t leave rings on the table .\r\n",
      "- - - - - - - - - - - - - - - - - - - -\r\n",
      "welcome to the expatriate zone\r\n",
      "welcome to the \" first \" issue of \" the expatriate zone , \" the official\r\n",
      "newsletter of the new \" expatriate zone \" web site . after publishing \" the\r\n",
      "temperate zone \" for the past two years , i ' m taking the opportunity to join\r\n",
      "forces with bob segel who has been publishing \" the coconut modem \" with karen\r\n",
      "coyne since april of 1994 .\r\n",
      "last year , after operating in aol exclusively , bob created \" parrotkey . com \"\r\n",
      "out on the \" internet \" where it would join it ' s sister site on aol and be\r\n",
      "accessible to all parrot heads . at the time bob expanded \" pk , \" we had been\r\n",
      "working on my little area of \" club st . somewhere , \" and the new\r\n",
      "\" parrotkey . com \" seemed like the perfect place to open the doors of the club .\r\n",
      "while we were talking about the direction we wanted to see \" club st .\r\n",
      "somewhere \" and \" parrot key \" go , we could see that this was the perfect chance\r\n",
      "to , as emeril says , \" kick it up a notch . \"\r\n",
      "jimmy buffett ' s music was a big part of our lives , but even more so was the\r\n",
      "\" expatriate lifestyle \" he sang about . a lifestyle that includes tropical\r\n",
      "travel , sailing , boating , parasailing and surfing , and yes , the music and\r\n",
      "lyrics of mr . james w . buffett .\r\n",
      "so it is , that we created our new web site , \" the expatriate zone \"\r\n",
      ", along with this newsletter of that same\r\n",
      "name . in december , \" the expatriate zone \" opened its doors with its \" island\r\n",
      "trading post \" with its holiday shopping service at the \" island trading post . \"\r\n",
      "over 3 , 600 people visited the site the first day , and daily prizes were\r\n",
      "awarded for the first two weeks . the \" island trading post \" will open again\r\n",
      "soon , offering a complete line of tropical items , not just to those of us\r\n",
      "that live a few blocks from wal - mart , but also for those of us lucky enough\r\n",
      "to be on a sailboat or living on an island . for not , we ' ll start with the\r\n",
      "\" t - shirt of the month . \"\r\n",
      "we want \" the expatriate zone \" to not only keep you entertained and informed\r\n",
      "while you toil away at your everyday \" corporate gig , \" but it will also get\r\n",
      "you ready for that day you finally shuck it all and disappear down into \" the\r\n",
      "expatriate zone . \"\r\n",
      "we hope you all enjoy our new effort , and also continue to visit \" parrot key \"\r\n",
      "and \" club st . somewhere . \" both of which will be closely associated with \" the\r\n",
      "expatriate zone \" and \" parrotkey . com . \"\r\n",
      "jackson & bob\r\n",
      "- - - - - - - - - - - - - - - - - - - -\r\n",
      "\" expatriate of the month \"\r\n",
      "james \" sunny jim \" white\r\n",
      "when i first ventured on the internet in 1995 , i ran in to a guy named \" sunny\r\n",
      "jim \" who was living down in the cayman islands . we never really got a chance\r\n",
      "to connect , for which i am truly sorry . but , when something is supposed to\r\n",
      "happen , it usually does .\r\n",
      "on the first leg of my \" road dawg \" tour\r\n",
      "( click on \" road dawg \" ) i stayed with my good friend alex & janet leist and\r\n",
      "their wonderful children . over the five days i stayed at their house , alex\r\n",
      "and i listened to a lot of music , and one of the guys we both liked was\r\n",
      "\" sunny jim . \" i bought one of james ' cds from alex , and fell in love with it\r\n",
      "immediately . the cd was his second , called \" life in the laid back lane . \"\r\n",
      "little did i know that i would meet up with james and his roady \" shady floyd \"\r\n",
      "several times over the next six months . james was embarking on his first real\r\n",
      "tour of the us since he moved \" down island \" almost twelve years ago . we got\r\n",
      "several chances to talk over the summer , and we will have an in depth article\r\n",
      "about this \" expatriate \" soon on \" the expatriate zone \" web site . be sure to\r\n",
      "watch for it .\r\n",
      "in the meantime , here are a couple of quick things i learned about this great\r\n",
      "musician . when i asked him about his \" expatriate \" status , his reply was ,\r\n",
      "\" technically , an expatriate is someone who lives outside their own country ,\r\n",
      "for whatever reason . for some it ' s legal reasons , others just because they\r\n",
      "want to , or that ' s where the work is . i have been an expatriate for nearly\r\n",
      "twelve years now . i have pretty fully lived the whole caribbean experience ,\r\n",
      "from climbing the coconut trees and spear fishing , to sailing , scuba diving ,\r\n",
      "hot afternoons on the beach and romantic moonlit nights under the swaying\r\n",
      "palms . \"\r\n",
      "even as james is about to repatriate himself and his family , i ask if there\r\n",
      "were any other places he would consider living as an expatriate ? \" maybe\r\n",
      "somewhere on the coast of mexico or in a group of islands that are all within\r\n",
      "sailing distance of one another , \" was the advice he gave .\r\n",
      "until we can learn more of \" sunny jim ' s \" world , stop by his web site at\r\n",
      "and if you don ' t have one of his cds , including his\r\n",
      "latest release \" sandbar serenade , \" for goodness sake , pick one up . you can\r\n",
      "also read a great interview alex conducted with james at\r\n",
      "- - - - - - - - - - - - - - - - - - - -\r\n",
      "travel into \" the zone \"\r\n",
      "\" some are running from the irs \"\r\n",
      "we strongly believe that we all have to get away from our computer screens\r\n",
      "and out into the real world as often as we can . does this mean we give up one\r\n",
      "our most useful tools of communication , computers ? heck no ! with laptops ,\r\n",
      "cell phones and gps systems , we can go anywhere , and still stay in touch if\r\n",
      "we feel the need . but get real and throw that \" pager \" away as soon as you can .\r\n",
      "we hope to keep this section current and informative , hopefully hearing from\r\n",
      "those of you already living your lives in \" the zone , \" helping the rest of us\r\n",
      "prepare for our getaway from the cities . i ' m sure there are some of us that\r\n",
      "are preparing to \" disappear \" to places like costa rica , where the \" the\r\n",
      "expatriate zone \" will become an important tool .\r\n",
      "how would you like to check out a place to \" disappear \" to and write it off\r\n",
      "your taxes at the same time ? want to go down into \" the zone \" to places like\r\n",
      "the bahamas , belize , st . croix , puerto rico , bonaire , the dominica republic\r\n",
      "or saba ? want to do something for the planet , work with dolphins , save a\r\n",
      "coral reef , or study monkeys and the rain forest at the same time ?\r\n",
      "well we have the answer . check out these organization ' s web sites , and then\r\n",
      "get some advice from your financial advisor on 501 c non - profit organizations .\r\n",
      "depending on the tax bracket you ' re in , uncle sam could end up paying for up\r\n",
      "to half the trip .\r\n",
      "the oceanic society\r\n",
      "earthwatch institute\r\n",
      "reef , the reef environmental education foundation\r\n",
      "after that , all that ' s left is to make that plane reservation , and remember ,\r\n",
      "\" no plane on sunday . \"\r\n",
      "- - - - - - - - - - - - - - - - - - - -\r\n",
      "\" jimmydotcom \"\r\n",
      "after many delays , \" jimmydotcom \" has finally gone to the printer with a due\r\n",
      "date of the middle of april . i hit some \" bumps in the road \" on my way to\r\n",
      "publishing the first ever book about the parrot head phenomena , but it was\r\n",
      "all worth it .\r\n",
      "this book isn ' t about jimmy buffett , it ' s about the effect of the internet on\r\n",
      "parrot heads . for more information , visit . we\r\n",
      "have a complete outline of the book , reviews from other parrot heads , and\r\n",
      "samples of the pages on the site .\r\n",
      "financial considerations have limited the first printing to 1 , 000 copies at\r\n",
      "the present time , so if your even thinking of buying a book , i suggest you\r\n",
      "reserve your copy by putting your name on the \" reservation list . \" you will be\r\n",
      "under no financial obligation . it will simply indicate to my financial\r\n",
      "partners ( who aren ' t parrot heads ) , just how many books we need to print . do\r\n",
      "it right away , because pre - sales were brisk , and if enough of you reserve a\r\n",
      "copy , i can get the financing to expand the first printing .\r\n",
      "let ' s show the world what parrot heads stand for by making this book a big\r\n",
      "success . when i was on the bhotm tour this summer , i had many people tell me\r\n",
      "they wanted to buy an extra book to give to their boss . they wanted the boss\r\n",
      "to understand why getting the day off for a buffett concert is so important .\r\n",
      "maybe it will help the rest of us to explain ourselves to our friends \" that\r\n",
      "just don ' t get it . \"\r\n",
      "here ' s one of the latest reviews of the book from bob robinson , founder &\r\n",
      "president of the sandlapper phc in south carolina . i had a great time with\r\n",
      "this club on the \" road dawg \" tour , and shared an advance copy with his club :\r\n",
      "\" when we received jackson ' s plea for pictures , our members were blown away .\r\n",
      "we hustled up a package of pix , as did a majority of the parrot head clubs\r\n",
      "from around the globe , and the result is pure parrothedonistic pleasure . this\r\n",
      "collection is bound for glory in the annals of island time . if moderation is\r\n",
      "your key to life then stay away from jimmydotcom , ' cause this book is packed\r\n",
      "with those stories only we can tell . congratulations bubbafreak ! \"\r\n",
      "bobrob sandlapper phc\r\n",
      "- - - - - - - - - - - - - - - - - - - -\r\n",
      "club trini update\r\n",
      "speaking of expatriates , how about the guys who play the true music of \" the\r\n",
      "zone ? \" club trini ' s long awaited live cd will finally be coming out this\r\n",
      "april , one year after it ' s recording . jimmy has been keeping mike and robert\r\n",
      "pretty busy , so it ' s understandable that it took awhile . it will be the third\r\n",
      "in the \" margaritaville cafe - late nite \" series . i can ' t wait to hear it , as\r\n",
      "my wife and i were some of the lucky ones who were in new orleans when it was\r\n",
      "recorded .\r\n",
      "you can get a look at all the songs included on the new cd at club trini ' s\r\n",
      "revamped web site at . along with the great songs we ' ve\r\n",
      "become accustomed to , are a few i ' m pretty excited about . if you haven ' t\r\n",
      "heard ct ' s version of \" african friend \" you ' re in for a real treat . along with\r\n",
      "that , is a song that tina and nadirah have been treating audiences to this\r\n",
      "past summer , \" cario \" and bob marley ' s \" no woman , no cry . \"\r\n",
      "at the new web site , fans can \" now \" order their favorite club trini cds using\r\n",
      "their credit cards . so there ' s no excuse to not owning everything available .\r\n",
      "i think a true \" expatriate musical library \" is incomplete without club trini .\r\n",
      "this summer , helen hiatt , jimmy and the coral reefer ' s wardrobe designer ,\r\n",
      "came up with a shirt that club trini members lovingly call the \" ice cream\r\n",
      "vendor \" shirt , which they wear out front at the start of the concert . ok ,\r\n",
      "pete sometimes forgets his , and when he does have it on , it lost it ' s sleeves\r\n",
      "somewhere along the way . there ' s a great design that has been applied to a\r\n",
      "t - shirt that we all can own . check it out at their site .\r\n",
      "- - - - - - - - - - - - - - - - - - - -\r\n",
      "jesters and friends\r\n",
      "note card series\r\n",
      "tro - pics has just released their first note cards\r\n",
      "series from their \" jesters and friends \" original oils . friends , places and\r\n",
      "musicians from past years have inspired these cards and parrot heads and\r\n",
      "expatriates alike will want to have these great looking cards for those times\r\n",
      "when an email just isn ' t personal enough .\r\n",
      "the original artwork is also on sale at this site , so be sure to stop by and\r\n",
      "visit them . included in the \" jesters \" series are our good friends tim glancey\r\n",
      "and wally nickel .\r\n",
      "- - - - - - - - - - - - - - - - - - - -\r\n",
      "millennium change bubba style\r\n",
      "i ' ve got to tell you , i wasn ' t buying into this \" new millennium \" thing , one\r\n",
      "bit . in fact , i had almost decided not to go to the buffett new year ' s eve\r\n",
      "show . nothing to do with jimmy , but i just didn ' t get the whole hype . but at\r\n",
      "the last minute , i had a change of heart .\r\n",
      "and now after being a special guest at seagram ' s party honoring the new\r\n",
      "margaritaville tequila , i ' m sure glad i went . the shows kind of melded\r\n",
      "together for me , making the millennium change over very special .\r\n",
      "if you want to hear more about this or see some pictures of both , visit our\r\n",
      "new \" the expatriate zone \" web site at and go to\r\n",
      "the web version of this newsletter .\r\n",
      "- - - - - - - - - - - - - - - - - - - -\r\n",
      "flash ! ! ! \" expatriated phans \" spotted south of the border\r\n",
      "after making both of \" tropo travel ' s \" previous trips down to cobo san lucas ,\r\n",
      "mexico , i had to miss this year ' s trek due to my being with the \" beach house\r\n",
      "on the moon \" tour on it ' s florida , new orleans and houston swing .\r\n",
      "as the story goes , those bad boys and girls from \" the expatriated phan club \"\r\n",
      "showed up again , mainly for the t - shirts that\r\n",
      "said , \" too much tequila . . . or not quite enough \" on the back . who are those\r\n",
      "people anyway ? whenever i go to their web site , all of them have black bars\r\n",
      "covering their eyes . if you want to see pictures of the trip or need info for\r\n",
      "\" down to the banana republics - 2000 \" visit mike\r\n",
      "mclain also has some other great trips planned this year , check them out .\r\n",
      "speaking of \" tropo travel , \" if you need a hotel room for the vegas or irvine\r\n",
      "shows and want a great deal , visit there site for some great rates . i ' m\r\n",
      "joining some of my parrot head friends at the \" key largo , \" though i ' m kind of\r\n",
      "afraid to be in a town like vegas with sue and ponch aprea from the detroit\r\n",
      "phc . i ' m joining a lot of my other friends i met on the road there too . i\r\n",
      "hate seeing jimmy in vegas , but i ' ve got to keep the streak alive , and seeing\r\n",
      "all my parrot head friends will make it all worthwhile . i hope peter mayer\r\n",
      "ends up playing there again this year .\r\n",
      "and speaking of those great t - shirts , we have some neat shirts available at\r\n",
      "the \" island store . \" they ' re similar to the shirt you got if you went on this\r\n",
      "year ' s trip , except they have \" tropo travel ' s \" seaplane on the back and the\r\n",
      "\" no bad days \" logo on the front breast . you can see a picture at\r\n",
      ".\r\n",
      "- - - - - - - - - - - - - - - - - - - -\r\n",
      "parrothead pilots association\r\n",
      "here are a couple of tidbits for your \" airplane nuts \" and pilots out there .\r\n",
      "a new online friend who ' s a medivac chopper pilot is trying to start a parrot\r\n",
      "head ' s pilot ' s association . if you ' re interested , contact dan at\r\n",
      ".\r\n",
      "i also ran across a really cool page that features jimmy ' s \" hemisphere\r\n",
      "dancer \" including it ' s \" jamaican bullet hole . \" ed booth , jr . an attorney from\r\n",
      "jacksonville , florida , who belongs to \" lawyer - pilots bar association \" is the\r\n",
      "webmaster and creator .\r\n",
      "the web site is \" grumman n 928 j \" ( flashback - how many of you remember the tv\r\n",
      "show ' whirly birds ' ? wasn ' t their number n 975 b ? ) and is at\r\n",
      "it shows a lot of pictures of jimmy ' s 1954\r\n",
      "grumman i think you ' ll enjoy .\r\n",
      "now all we need is for these guys to team up with the parrot heads pilot ' s\r\n",
      "association .\r\n",
      "- - - - - - - - - - - - - - - - - - - -\r\n",
      "this document is copyrighted 2000 by st . somewhere press , publisher . \" the\r\n",
      "expatriate zone \" is a trademark of st . somewhere press . you are permitted\r\n",
      "and encouraged to copy this document in its entirety ( including this message )\r\n",
      "and email it to friends , etc .\r\n",
      "to subscribe or unsubscribe to this newsletter , simply go to :\r\n",
      "this document is copyrighted 2000 by st . somewhere press , publisher . the\r\n",
      "expatriate zone is a trademark of st . somewhere press . you are permitted\r\n",
      "and encouraged to copy this document in it ' s entirety ( including this\r\n",
      "message ) and email it to friends , etc .\r\n",
      "to subscribe or unsubscribe from this newsletter please visit :\r\n",
      "\n",
      "Label: 0\n",
      "Graham: 0 [0.16666666666666666, 1.0, 0.3068181818181818, 0.024096385542168676, 0.1504222780187172, 0.2151179312304632, 0.09490740740740741, 0.1362025316455696, 0.16666666666666666, 1.0, 0.3068181818181818, 0.1504222780187172, 0.18136439267886856, 0.1362025316455696, 0.024096385542168676, 0.1504222780187172, 0.18636363636363637, 0.3130699088145897, 0.06908665105386416, 0.1873560040549258, 0.21550946798917944, 0.11392405063291139, 0.4, 0.06908665105386416, 0.25654642006958434, 1.0, 0.16666666666666666, 1.0, 0.13647997143027202, 0.16666666666666666, 0.4, 1.0, 0.25654642006958434, 0.18697402122210025, 0.024096385542168676, 1.0, 1.0, 0.28779663403985634, 0.16666666666666666, 0.06127946127946128, 0.023622047244094488, 0.3333333333333333, 0.008333333333333333, 0.21212121212121213, 0.2523364485981308, 0.12373737373737374, 0.16666666666666666, 0.3068181818181818, 0.23618413992917694, 0.2, 0.16666666666666666, 0.0, 0.11107421550722231, 0.16666666666666666, 0.18130841121495328, 0.22031571722717913, 0.4, 0.18636363636363637, 0.12844708370617425, 0.24513776337115073, 0.16466739367502725, 0.4, 0.3274336283185841, 0.13157894736842105, 0.14791666666666667, 0.12844708370617425, 0.2520775623268698, 0.13382269904009034, 0.24324324324324326, 0.22103533278553822, 0.3333333333333333, 0.4, 0.08761329305135952, 0.625, 0.0652699435938759, 0.0, 0.9398496240601504, 0.07984031936127745, 0.13808049535603714, 0.29910714285714285, 0.16666666666666666, 0.4, 0.5735294117647058, 0.12389380530973451, 0.22103533278553822, 0.4, 0.0189873417721519, 0.4074074074074074, 0.6666666666666666, 0.28779663403985634, 0.16666666666666666, 0.4, 0.4, 0.3333333333333333, 0.4, 0.3116883116883117, 0.28779663403985634, 0.16666666666666666, 1.0, 0.4, 0.4, 0.35294117647058826, 0.1781818181818182, 0.3333333333333333, 0.25654642006958434, 0.16666666666666666, 0.23076923076923078, 0.13647997143027202, 0.16666666666666666, 0.2832764505119454, 0.15057915057915058, 0.9622641509433962, 0.279874213836478, 0.14463452566096424, 0.19190283400809716, 0.296875, 0.14182475158084915, 0.31313131313131315, 0.16049382716049382, 0.14791666666666667, 0.0967741935483871, 0.5, 0.19190283400809716, 0.17097862767154107, 0.23618413992917694, 0.1111111111111111, 0.19190283400809716, 0.17097862767154107, 0.093558536181487, 0.32187899835496253, 0.3333333333333333, 0.7011494252873564, 0.16466739367502725, 0.24157303370786518, 0.20222604141091743, 0.11952554744525548, 0.3333333333333333, 0.14463452566096424, 0.0773067331670823, 0.32187899835496253, 0.38666666666666666, 1.0, 0.1218026796589525, 0.20222604141091743, 0.17329910141206675, 0.12844708370617425, 0.21687344913151366, 0.15384615384615385, 0.0, 0.093558536181487, 0.16666666666666666, 0.7011494252873564, 0.14285714285714285, 0.14463452566096424, 0.16666666666666666, 1.0, 0.3068181818181818, 0.14285714285714285, 0.14463452566096424, 0.16666666666666666, 0.18451612903225806, 0.024096385542168676, 0.28779663403985634, 0.16666666666666666, 1.0, 0.3068181818181818, 0.16666666666666666, 0.6666666666666666, 0.8581560283687943, 0.28779663403985634, 0.16666666666666666, 0.1781818181818182, 1.0, 0.3068181818181818, 0.2832764505119454, 0.5378787878787878, 0.20388349514563106, 1.0, 0.16666666666666666, 0.4, 0.3068181818181818, 0.13647997143027202, 0.16666666666666666, 0.4489795918367347, 0.2007042253521127, 0.367816091954023, 0.09318894271872329, 0.12844708370617425, 0.15940224159402241, 0.21804511278195488, 0.16666666666666666, 0.3258426966292135, 0.14463452566096424, 0.21649484536082475, 0.7647058823529411, 0.2269106931028639, 0.0030627871362940277, 0.0, 0.17766497461928935, 0.17573385518590998, 0.13382269904009034, 1.0, 0.16666666666666666, 0.1111111111111111, 0.35294117647058826, 0.2269106931028639, 0.0037174721189591076, 0.0, 0.1415929203539823, 0.013422818791946308, 0.28779663403985634, 0.0, 0.15719063545150502, 0.22900763358778625, 0.20388349514563106, 0.1796875, 0.25654642006958434, 0.012552301255230125, 0.1111111111111111, 0.0030627871362940277, 0.028132992327365727, 0.4, 0.15648336727766463, 0.17097862767154107, 0.093558536181487, 0.16666666666666666, 0.4720812182741117, 0.18636363636363637, 0.19190283400809716, 0.10931174089068826, 0.21649484536082475, 0.19190283400809716, 0.12844708370617425, 0.24513776337115073, 0.6363636363636364, 0.5378787878787878, 0.093558536181487, 0.012552301255230125, 0.23618413992917694, 0.14867566216891553, 0.4, 0.14463452566096424, 0.29910714285714285, 0.4, 0.0, 0.11107421550722231, 0.16666666666666666, 0.22031571722717913, 0.0030627871362940277, 0.1875, 1.0, 0.14791666666666667, 0.15332428765264586, 0.13382269904009034, 0.11036789297658862, 0.093558536181487, 0.2460881934566145, 0.323943661971831, 0.32222222222222224, 0.28779663403985634, 0.3333333333333333, 0.19436619718309858, 0.3333333333333333, 0.23618413992917694, 0.16666666666666666, 0.1781818181818182, 0.4, 0.15648336727766463, 0.16666666666666666, 0.2288135593220339, 0.16666666666666666, 0.7352941176470589, 0.16883116883116883, 0.14463452566096424, 0.3254437869822485, 0.16666666666666666, 0.0, 0.28779663403985634, 0.16666666666666666, 0.3333333333333333, 0.2682926829268293, 0.14791666666666667, 0.12612612612612611, 0.2222222222222222, 0.22103533278553822, 0.16666666666666666, 0.14285714285714285, 0.14791666666666667, 0.088, 0.14463452566096424, 0.07984031936127745, 0.3333333333333333, 0.19436619718309858, 0.3333333333333333, 0.23618413992917694, 0.4, 0.2857142857142857, 0.279874213836478, 0.14791666666666667, 0.1905829596412556, 0.07984031936127745, 0.16466739367502725, 0.18697402122210025, 0.12389380530973451, 0.16666666666666666, 0.7352941176470589, 0.18181818181818182, 0.14463452566096424, 0.23391435334624489, 0.4, 0.25757575757575757, 0.05263157894736842, 0.19190283400809716, 0.15384615384615385, 0.23843317331106936, 0.4, 0.14285714285714285, 0.0, 0.12844708370617425, 0.24513776337115073, 0.54, 0.12389380530973451, 0.23843317331106936, 0.2, 0.30407523510971785, 0.28779663403985634, 0.3268765133171913, 0.2777777777777778, 0.15903614457831325, 0.4264705882352941, 0.46563573883161513, 0.1218026796589525, 0.12389380530973451, 0.16666666666666666, 1.0, 0.2, 0.1626848691695108, 0.4, 0.22103533278553822, 0.23843317331106936, 0.2, 0.16466739367502725, 0.296875, 1.0, 0.2523364485981308, 0.047619047619047616, 0.4, 0.0, 0.23618413992917694, 1.0, 0.23618413992917694, 0.15966386554621848, 0.16666666666666666, 0.54, 0.23618413992917694, 1.0, 0.28779663403985634, 0.5855855855855856, 0.023622047244094488, 0.15239477503628446, 0.0, 0.1218026796589525, 0.19190283400809716, 0.1873560040549258, 0.16466739367502725, 0.14791666666666667, 0.028132992327365727, 0.3268765133171913, 0.1781818181818182, 0.2832764505119454, 0.5378787878787878, 0.16666666666666666, 1.0, 0.3068181818181818, 0.19047619047619047, 0.2269106931028639, 0.18697402122210025, 0.8581560283687943, 0.28779663403985634, 0.16466739367502725, 0.18130841121495328, 0.16560509554140126, 0.25654642006958434, 0.026217228464419477, 0.16666666666666666, 1.0, 0.3068181818181818, 0.23076923076923078, 0.491679273827534, 0.0, 0.2269106931028639, 0.491679273827534, 0.15384615384615385, 0.12093023255813953, 0.3584905660377358, 0.2269106931028639, 0.491679273827534, 0.17857142857142858, 0.1566265060240964, 0.24358974358974358, 0.11107421550722231, 0.16666666666666666, 0.15384615384615385, 0.12093023255813953, 0.3584905660377358, 0.3188405797101449, 0.23285568065506654, 0.1717171717171717, 0.24880382775119617, 1.0, 0.16666666666666666, 0.5378787878787878, 0.16666666666666666, 0.18451612903225806, 0.06908665105386416, 0.23618413992917694, 0.021568627450980392, 0.07317073170731707, 0.12612612612612611, 0.4117647058823529, 0.13647997143027202, 0.16666666666666666, 0.18451612903225806, 0.2007042253521127, 0.2375, 0.16666666666666666, 0.15384615384615385, 0.12093023255813953, 0.3584905660377358, 0.08931953955995921, 0.3254437869822485, 0.14666666666666667, 0.11538461538461539, 0.6904761904761905, 0.23843317331106936, 0.2186046511627907, 0.2765957446808511, 0.28779663403985634, 1.0, 0.06467661691542288, 0.21439891328956306, 0.21550946798917944, 0.14463452566096424, 0.20898876404494382, 0.28779663403985634, 0.3074101247248716, 0.16466739367502725, 0.5277777777777778, 0.23843317331106936, 0.24770642201834864, 0.4, 0.13286713286713286, 0.0, 0.3333333333333333, 0.15903614457831325, 0.15474209650582363, 0.13647997143027202, 0.20898876404494382, 0.28779663403985634, 0.3074101247248716, 0.76, 0.25663716814159293, 0.14463452566096424, 0.14867566216891553, 0.093558536181487, 0.23843317331106936, 1.0, 0.27038823799678385, 0.4074074074074074, 0.093558536181487, 0.2473416551086454, 0.15384615384615385, 0.13647997143027202, 0.21439891328956306, 0.14791666666666667, 0.12844708370617425, 0.14124293785310735, 0.16666666666666666, 0.2269106931028639, 0.16666666666666666, 0.21687344913151366, 0.3333333333333333, 0.28779663403985634, 0.16666666666666666, 0.06127946127946128, 0.14791666666666667, 0.21939953810623555, 0.16666666666666666, 1.0, 0.3068181818181818, 0.14463452566096424, 0.21439891328956306, 0.355397951142632, 0.16112531969309463, 0.20222604141091743, 1.0, 0.23618413992917694, 0.0410958904109589, 0.2682926829268293, 0.20222604141091743, 1.0, 0.38317757009345793, 0.11107421550722231, 0.32187899835496253, 0.4117647058823529, 0.24271844660194175, 0.3333333333333333, 0.15903614457831325, 0.19190283400809716, 0.08931953955995921, 0.15474209650582363, 0.23794037940379403, 0.20222604141091743, 0.2413793103448276, 0.13647997143027202, 0.16466739367502725, 0.06908665105386416, 0.20222604141091743, 0.3898305084745763, 1.0, 0.19190283400809716, 0.29910714285714285, 0.23618413992917694, 1.0, 0.13814432989690723, 0.12373737373737374, 0.16666666666666666, 1.0, 0.3068181818181818, 0.14791666666666667, 0.1391304347826087, 0.20222604141091743, 0.29910714285714285, 0.3563218390804598, 0.3268765133171913, 0.1781818181818182, 0.36283185840707965, 0.23618413992917694, 0.15474209650582363, 0.12435233160621761, 0.14463452566096424, 0.47058823529411764, 0.4, 0.2857142857142857, 0.23618413992917694, 0.3333333333333333, 0.19436619718309858, 0.3333333333333333, 0.12582781456953643, 0.28779663403985634, 0.20985691573926868, 0.08931953955995921, 0.14867566216891553, 0.16666666666666666, 0.09565217391304348, 0.2269106931028639, 0.16666666666666666, 1.0, 0.3068181818181818, 0.23618413992917694, 0.4, 0.15648336727766463, 0.019230769230769232, 0.0030627871362940277, 1.0, 0.28779663403985634, 0.16666666666666666, 0.06127946127946128, 0.023622047244094488, 0.3333333333333333, 0.008333333333333333, 0.21212121212121213, 0.12749349522983522, 0.09318894271872329, 0.18451612903225806, 0.4, 0.093558536181487, 0.16666666666666666, 0.4720812182741117, 0.25654642006958434, 0.9, 0.09318894271872329, 0.3, 0.25654642006958434, 0.14463452566096424, 0.23843317331106936, 0.14285714285714285, 0.09090909090909091, 0.3333333333333333, 0.008333333333333333, 0.17766497461928935, 0.12389380530973451, 0.4074074074074074, 0.13814432989690723, 0.25654642006958434, 0.16666666666666666, 0.4, 0.3333333333333333, 0.14791666666666667, 0.39487179487179486, 0.2830188679245283, 0.22448979591836735, 0.23843317331106936, 0.18181818181818182, 0.14463452566096424, 0.15789473684210525, 0.13647997143027202, 0.20985691573926868, 0.09318894271872329, 0.02559576345984113, 0.3103448275862069, 0.04807692307692308, 0.15903614457831325, 0.12749349522983522, 0.10256410256410256, 0.1873560040549258, 0.03225806451612903, 0.14463452566096424, 0.1111111111111111, 0.19190283400809716, 0.25, 0.22105263157894736, 0.093558536181487, 0.16666666666666666, 0.18451612903225806, 0.3333333333333333, 0.28779663403985634, 0.2460881934566145, 0.3442622950819672, 0.4, 0.36363636363636365, 0.4144620811287478, 0.093558536181487, 0.3442622950819672, 0.4, 0.09318894271872329, 0.3333333333333333, 0.2269106931028639, 0.2460881934566145, 0.2565947242206235, 0.6226415094339622, 0.0, 0.016216216216216217, 0.4, 0.23618413992917694, 0.22508591065292097, 0.2, 0.5636363636363636, 0.3188405797101449, 0.16666666666666666, 0.3763440860215054, 0.1329479768786127, 0.09318894271872329, 0.3333333333333333, 0.11107421550722231, 0.22508591065292097, 0.43283582089552236, 0.0, 0.23618413992917694, 0.09318894271872329, 0.4, 0.14463452566096424, 0.23843317331106936, 0.2222222222222222, 0.28779663403985634, 0.54, 0.23618413992917694, 0.2696969696969697, 0.28779663403985634, 0.16666666666666666, 0.12056737588652482, 0.14791666666666667, 0.12582781456953643, 0.2, 0.12389380530973451, 0.3333333333333333, 0.008333333333333333, 0.09318894271872329, 0.3076923076923077, 0.2696969696969697, 0.28779663403985634, 0.023622047244094488, 0.12844708370617425, 0.8867924528301887, 0.13286713286713286, 0.0, 0.23618413992917694, 1.0, 0.25654642006958434, 0.3300970873786408, 0.2269106931028639, 0.19190283400809716, 0.3387096774193548, 0.16666666666666666, 0.717948717948718, 0.12389380530973451, 0.3202614379084967, 0.36904761904761907, 0.1, 0.6363636363636364, 0.25654642006958434, 0.16666666666666666, 0.6666666666666666, 0.15545755237045203, 0.047619047619047616, 0.323943661971831, 0.10683012259194395, 0.09318894271872329, 0.04779277635899307, 0.16466739367502725, 0.09318894271872329, 0.10931174089068826, 0.19, 0.15384615384615385, 0.2269106931028639, 0.023622047244094488, 0.23618413992917694, 0.3202614379084967, 0.4, 0.4, 0.0, 0.1024390243902439, 0.2919254658385093, 0.3188405797101449, 0.16666666666666666, 0.16850393700787403, 0.36507936507936506, 0.168141592920354, 0.023622047244094488, 0.12389380530973451, 0.4, 0.093558536181487, 0.3202614379084967, 0.18451612903225806, 0.5243243243243243, 0.36363636363636365, 0.28779663403985634, 0.16666666666666666, 0.3074101247248716, 0.1415929203539823, 0.1626848691695108, 0.0410958904109589, 0.13814432989690723, 0.15384615384615385, 0.5, 1.0, 0.367816091954023, 0.3333333333333333, 0.14791666666666667, 0.22448979591836735, 0.1024390243902439, 0.3333333333333333, 0.14463452566096424, 0.11627906976744186, 0.3188405797101449, 0.16666666666666666, 0.1111111111111111, 0.23618413992917694, 0.14791666666666667, 0.08931953955995921, 0.11952554744525548, 0.2473416551086454, 0.25654642006958434, 0.4666666666666667, 0.7333333333333333, 0.22103533278553822, 0.18697402122210025, 1.0, 0.11538461538461539, 0.093558536181487, 0.16666666666666666, 1.0, 0.3068181818181818, 0.2832764505119454, 0.5378787878787878, 0.14867566216891553, 0.05952380952380952, 0.14463452566096424, 0.6885245901639344, 0.13647997143027202, 0.19190283400809716, 0.25654642006958434, 0.16666666666666666, 0.07692307692307693, 0.44851063829787235, 0.20309094511591044, 0.23843317331106936, 0.078125, 0.28779663403985634, 0.4406779661016949, 0.1414141414141414, 0.09318894271872329, 0.16666666666666666, 0.22103533278553822, 0.18697402122210025, 0.31313131313131315, 1.0, 0.12749349522983522, 0.09318894271872329, 0.07878787878787878, 0.16058394160583941, 0.22103533278553822, 0.3202614379084967, 1.0, 0.04807692307692308, 0.3202614379084967, 0.5703703703703704, 0.12389380530973451, 0.4, 0.2473416551086454, 1.0, 0.1873560040549258, 0.09597523219814241, 0.17766497461928935, 0.2777777777777778, 0.10843373493975904, 0.22508591065292097, 0.5278969957081545, 0.603448275862069, 0.13647997143027202, 0.16363636363636364, 0.3469387755102041, 0.13647997143027202, 0.14182475158084915, 0.19190283400809716, 0.12844708370617425, 0.24513776337115073, 0.15675675675675677, 0.3333333333333333, 0.21875, 0.21550946798917944, 0.2374429223744292, 0.10961420698101654, 0.21939953810623555, 0.14463452566096424, 0.27038823799678385, 0.16466739367502725, 0.12844708370617425, 0.24513776337115073, 0.18636363636363637, 0.16666666666666666, 0.13821138211382114, 0.1873560040549258, 0.09318894271872329, 0.11952554744525548, 0.13382269904009034, 0.2473416551086454, 1.0, 0.13647997143027202, 0.68, 1.0, 0.367816091954023, 0.30566037735849055, 0.09318894271872329, 0.11952554744525548, 0.15384615384615385, 0.45098039215686275, 1.0, 0.16666666666666666, 0.1048951048951049, 0.9166666666666666, 0.38333333333333336, 0.13286713286713286, 1.0, 0.16666666666666666, 0.1111111111111111, 0.42857142857142855, 0.23618413992917694, 1.0, 0.14285714285714285, 0.14463452566096424, 0.047619047619047616, 0.6, 0.0, 0.8823529411764706, 0.4, 0.093558536181487, 0.16666666666666666, 0.35, 0.23618413992917694, 0.3333333333333333, 1.0, 0.2727272727272727, 0.1506849315068493, 0.16666666666666666, 0.4, 0.4, 0.4264705882352941, 0.23391435334624489, 0.023622047244094488, 0.1873560040549258, 0.22103533278553822, 0.14463452566096424, 0.4, 0.5555555555555556, 0.23618413992917694, 0.3202614379084967, 0.5784313725490197, 0.09318894271872329, 0.16022099447513813, 0.09420713867758923, 0.11088810837932765, 0.12612612612612611, 0.1610608020698577, 0.28884254431699685, 0.42857142857142855, 0.1626848691695108, 0.10931174089068826, 0.32, 0.4074074074074074, 0.23391435334624489, 0.2473416551086454, 1.0, 0.09090909090909091, 0.3333333333333333, 0.093558536181487, 0.16666666666666666, 0.10344827586206896, 0.28779663403985634, 0.4444444444444444, 0.27038823799678385, 0.25654642006958434, 0.23843317331106936, 0.15857605177993528, 0.28779663403985634, 0.3333333333333333, 0.16466739367502725, 0.20309094511591044, 0.29910714285714285, 0.5717171717171717, 0.047619047619047616, 0.5555555555555556, 0.28779663403985634, 0.2696969696969697, 0.11392405063291139, 0.12389380530973451, 0.16666666666666666, 0.764102564102564, 0.1626848691695108, 0.07692307692307693, 0.06748466257668712, 0.14791666666666667, 0.1767002928734136, 0.5294117647058824, 0.46563573883161513, 0.28779663403985634, 0.3333333333333333, 0.008333333333333333, 0.12844708370617425, 0.24513776337115073, 0.6731517509727627, 0.5950413223140496, 0.1270854788877446, 0.3202614379084967, 0.2832764505119454, 0.5378787878787878, 0.11107421550722231, 0.23618413992917694, 0.09420713867758923, 0.20222604141091743, 0.17329910141206675, 0.12844708370617425, 0.21687344913151366, 0.11952554744525548, 0.2696969696969697, 0.28779663403985634, 0.3202614379084967, 0.8867924528301887, 0.40336134453781514, 0.3202614379084967, 0.36619718309859156, 0.34806629834254144, 0.4, 0.4, 0.13647997143027202, 0.4, 0.5, 0.3563218390804598, 0.2696969696969697, 0.15384615384615385, 0.20222604141091743, 0.1767002928734136, 0.15474209650582363, 0.3383458646616541, 0.23843317331106936, 0.31313131313131315, 0.03225806451612903, 0.0, 0.42857142857142855, 0.2269106931028639, 0.023622047244094488, 0.11107421550722231, 0.2523364485981308, 0.12373737373737374, 0.16666666666666666, 0.3068181818181818, 0.14182475158084915, 0.20309094511591044, 0.22105263157894736, 0.13286713286713286, 0.16666666666666666, 0.0, 0.14791666666666667, 1.0, 0.2597402597402597, 0.16466739367502725, 0.14791666666666667, 0.29910714285714285, 0.11952554744525548, 0.14463452566096424, 0.23794037940379403, 0.38317757009345793, 0.13286713286713286, 0.3268765133171913, 0.5503875968992248, 0.8666666666666667, 0.23618413992917694, 0.17097862767154107, 0.12373737373737374, 0.16666666666666666, 0.5243243243243243, 0.6731517509727627, 0.23391435334624489, 0.3953488372093023, 0.23391435334624489, 0.14791666666666667, 0.1767002928734136, 0.22105263157894736, 0.18697402122210025, 0.16216216216216217, 0.14791666666666667, 0.15918367346938775, 0.15384615384615385, 0.2696969696969697, 0.3268765133171913, 0.49859154929577465, 0.14285714285714285, 0.45098039215686275, 0.28779663403985634, 0.34782608695652173, 0.5789473684210527, 0.3333333333333333, 0.3798103736754044, 0.2269106931028639, 0.4, 0.042735042735042736, 0.2857142857142857, 0.23618413992917694, 0.4, 0.2832369942196532, 0.14791666666666667, 0.1767002928734136, 0.279874213836478, 0.6, 0.23618413992917694, 0.11823647294589178, 0.11627906976744186, 0.25654642006958434, 0.14893617021276595, 0.09420713867758923, 0.14791666666666667, 0.28125, 0.16666666666666666, 0.08105906313645621, 0.15903614457831325, 0.23794037940379403, 0.5243243243243243, 0.23618413992917694, 0.5, 0.16466739367502725, 0.0, 0.38317757009345793, 0.23391435334624489, 0.11538461538461539, 0.23391435334624489, 0.20222604141091743, 0.1767002928734136, 0.14791666666666667, 0.1391304347826087, 0.14463452566096424, 0.16112531969309463, 0.18697402122210025, 0.5090252707581228, 0.21763085399449036, 0.23618413992917694, 0.0, 0.0, 0.24324324324324326, 0.13286713286713286, 0.20898876404494382, 0.28779663403985634, 0.20222604141091743, 0.16030534351145037, 0.4074074074074074, 0.32187899835496253, 0.2777777777777778, 0.25654642006958434, 0.16666666666666666, 0.3068181818181818, 0.12, 0.16666666666666666, 0.20408163265306123, 0.28779663403985634, 0.3074101247248716, 0.05714285714285714, 0.13647997143027202, 0.3268765133171913, 0.5, 0.13286713286713286, 0.16666666666666666, 0.21739130434782608, 0.09318894271872329, 0.12844708370617425, 0.15940224159402241, 0.05952380952380952, 0.11088810837932765, 0.20309094511591044, 0.14182475158084915, 0.28779663403985634, 0.3074101247248716, 0.16466739367502725, 0.20309094511591044, 0.08333333333333333, 0.14463452566096424, 1.0, 0.14463452566096424, 0.42857142857142855, 0.2288135593220339, 1.0, 1.0, 0.18636363636363637, 0.16666666666666666, 0.16666666666666666, 1.0, 0.3068181818181818, 0.08931953955995921, 0.47058823529411764, 0.2473416551086454, 0.2947976878612717, 0.28, 0.22905027932960895, 0.10931174089068826, 0.20222604141091743, 0.2288135593220339, 0.14463452566096424, 0.18485523385300667, 0.17097862767154107, 0.23843317331106936, 0.16883116883116883, 0.14463452566096424, 1.0, 0.14463452566096424, 0.23618413992917694, 0.2777777777777778, 0.19190283400809716, 0.21978021978021978, 0.32187899835496253, 0.19230769230769232, 0.11107421550722231, 0.16666666666666666, 0.18130841121495328, 0.22031571722717913, 0.21939953810623555, 0.14463452566096424, 0.279874213836478, 0.13814432989690723, 0.12373737373737374, 0.16666666666666666, 0.3068181818181818, 0.14463452566096424, 0.42857142857142855, 0.2288135593220339, 0.16666666666666666, 1.0, 1.0, 0.19436619718309858, 1.0, 0.0, 0.14285714285714285, 0.4, 0.16666666666666666, 1.0, 0.13636363636363635, 0.27038823799678385, 0.4, 0.21939953810623555, 0.14463452566096424, 0.1586139580283065, 0.10256410256410256, 0.13647997143027202, 0.16666666666666666, 1.0, 0.13821138211382114, 0.2269106931028639, 0.4, 0.6630824372759857, 0.23843317331106936, 0.04, 0.4, 0.27038823799678385, 0.4074074074074074, 0.4, 0.23618413992917694, 0.16666666666666666, 1.0, 0.1111111111111111, 0.11107421550722231, 0.16666666666666666, 0.18130841121495328, 0.22031571722717913, 0.1259259259259259, 0.14791666666666667, 0.11952554744525548, 0.16666666666666666, 0.14285714285714285, 0.18485523385300667, 0.17097862767154107, 0.15795090715048027, 0.19402985074626866, 0.12844708370617425, 0.24513776337115073, 0.2832764505119454, 0.4782608695652174, 0.23618413992917694, 0.18267419962335216, 0.23794037940379403, 0.14182475158084915, 0.764102564102564, 0.13286713286713286, 0.32187899835496253, 0.27147766323024053, 0.8333333333333334, 0.093558536181487, 0.1111111111111111, 0.2874859075535513, 0.1774193548387097, 0.45161290322580644, 0.4666666666666667, 0.0, 0.093558536181487, 0.16666666666666666, 0.13675213675213677, 1.0, 0.20222604141091743, 0.12844708370617425, 0.058549373725604426, 0.25654642006958434, 0.4, 0.02702702702702703, 0.1905829596412556, 0.1277533039647577, 0.15384615384615385, 0.23684210526315788, 0.13647997143027202, 0.15384615384615385, 0.14463452566096424, 0.4791666666666667, 0.16666666666666666, 0.16363636363636364, 0.16666666666666666, 0.4, 1.0, 0.4, 1.0, 0.4, 0.16666666666666666, 0.4, 0.6190476190476191, 0.32075471698113206, 0.6, 0.20388349514563106, 0.16466739367502725, 0.29910714285714285, 0.16466739367502725, 0.12844708370617425, 0.24513776337115073, 0.13744075829383887, 0.1873560040549258, 0.14463452566096424, 0.20329024676850763, 0.16466739367502725, 0.2727272727272727, 0.42857142857142855, 0.23618413992917694, 0.35, 0.3798103736754044, 0.2727272727272727, 0.093558536181487, 0.09774436090225563, 0.4, 0.20388349514563106, 0.5148247978436657, 0.6, 0.4, 0.17573385518590998, 0.3898305084745763, 0.5, 0.14463452566096424, 0.16666666666666666, 0.5714285714285714, 0.2269106931028639, 0.23843317331106936, 0.18134715025906736, 0.10427350427350428, 0.28779663403985634, 0.16666666666666666, 0.7171717171717171, 0.28779663403985634, 0.013422818791946308, 0.09318894271872329, 0.17857142857142858, 0.14182475158084915, 0.4, 0.25654642006958434, 0.16666666666666666, 0.3442622950819672, 0.093558536181487, 0.2460881934566145, 0.24157303370786518, 0.14463452566096424, 1.0, 0.16666666666666666, 0.18451612903225806, 0.43037974683544306, 0.13157894736842105, 0.22103533278553822, 0.16666666666666666, 0.4, 0.3274336283185841, 1.0, 0.15903614457831325, 0.19190283400809716, 0.12389380530973451, 0.29910714285714285, 0.5, 0.19190283400809716, 0.18697402122210025, 0.13157894736842105, 0.16666666666666666, 0.12844708370617425, 0.21687344913151366, 0.22103533278553822, 0.14285714285714285, 0.0, 0.19190283400809716, 0.12844708370617425, 0.24513776337115073, 0.22103533278553822, 0.16666666666666666, 0.22580645161290322, 0.28779663403985634, 0.16666666666666666, 0.4720812182741117, 0.093558536181487, 0.4, 0.0, 0.13647997143027202, 0.46563573883161513, 0.29793878825733916, 0.47058823529411764, 0.14791666666666667, 0.11952554744525548, 0.23843317331106936, 0.2186046511627907, 0.0, 0.28779663403985634, 0.16666666666666666, 0.13157894736842105, 0.3888888888888889, 0.13286713286713286, 0.28884254431699685, 0.4, 0.0, 0.23618413992917694, 0.1111111111111111, 0.28779663403985634, 0.16666666666666666, 0.28, 0.093558536181487, 0.16666666666666666, 0.5378787878787878, 0.27147766323024053, 1.0, 0.11952554744525548, 0.5520833333333334, 0.16666666666666666, 0.18451612903225806, 0.5, 0.14463452566096424, 0.1504222780187172, 0.05823902842947833, 0.058823529411764705, 0.11107421550722231, 0.16666666666666666, 0.16279069767441862, 0.22031571722717913, 0.1218026796589525, 0.09420713867758923, 0.32187899835496253, 0.4264705882352941, 0.22580645161290322, 0.28779663403985634, 0.09333333333333334, 0.23843317331106936, 0.13157894736842105, 0.09318894271872329, 0.0967741935483871, 0.20222604141091743, 0.0625, 0.32187899835496253, 0.2823920265780731, 0.1270854788877446, 0.05660377358490566, 0.32187899835496253, 0.16560509554140126, 0.093558536181487, 0.16666666666666666, 0.42857142857142855, 0.13225058004640372, 0.20222604141091743, 0.08931953955995921, 0.14867566216891553, 0.1506849315068493, 0.3798103736754044, 0.27147766323024053, 0.25, 0.19190283400809716, 0.08931953955995921, 0.38317757009345793, 0.10256410256410256, 0.14463452566096424, 0.2460881934566145, 0.27147766323024053, 0.19708029197080293, 0.17766497461928935, 0.23076923076923078, 0.12844708370617425, 0.21687344913151366, 0.4, 0.0, 0.21550946798917944, 0.22905027932960895, 0.5148247978436657, 0.2558139534883721, 0.14791666666666667, 0.08105906313645621, 0.14463452566096424, 0.05333333333333334, 0.1586139580283065, 0.19190283400809716, 0.2459016393442623, 0.38317757009345793, 0.2374429223744292, 0.38461538461538464, 0.15945945945945947, 0.12612612612612611, 1.0, 0.23618413992917694, 0.09420713867758923, 0.25663716814159293, 0.28779663403985634, 0.20222604141091743, 0.0625, 0.23843317331106936, 0.2823920265780731, 0.09318894271872329, 0.1767002928734136, 0.23794037940379403, 0.16666666666666666, 0.8461538461538461, 0.14463452566096424, 0.26666666666666666, 0.16666666666666666, 0.18451612903225806, 0.5, 0.0315893385982231, 0.12844708370617425, 0.24513776337115073, 0.15815085158150852, 0.16666666666666666, 0.6731517509727627, 0.13808049535603714, 0.4, 0.0, 0.22033898305084745, 0.13647997143027202, 0.1270854788877446, 0.23076923076923078, 0.18697402122210025, 0.13157894736842105, 0.23843317331106936, 0.2, 0.32558139534883723, 0.12749349522983522, 0.09318894271872329, 0.12389380530973451, 0.093558536181487, 0.16666666666666666, 0.4, 0.36363636363636365, 0.18697402122210025, 0.1111111111111111, 0.09318894271872329, 0.15332428765264586, 0.5148247978436657, 0.24880382775119617, 0.2, 0.11063627730294397, 0.10961420698101654, 0.088, 0.14463452566096424, 0.34502923976608185, 0.2473416551086454, 0.42857142857142855, 0.13157894736842105, 0.14463452566096424, 0.15918367346938775, 0.14463452566096424, 0.22508591065292097, 0.3333333333333333, 0.10961420698101654, 0.088, 0.16666666666666666, 0.3333333333333333, 0.14463452566096424, 0.07586206896551724, 0.24092409240924093, 0.18248175182481752, 0.16666666666666666, 0.06908665105386416, 0.21978021978021978, 0.13647997143027202, 0.23843317331106936, 0.0, 1.0, 0.1873560040549258, 0.1218026796589525, 0.2947976878612717, 0.09090909090909091, 0.19190283400809716, 0.08931953955995921, 0.10025062656641603, 0.16666666666666666, 0.20408163265306123, 0.28779663403985634, 0.3074101247248716, 0.14463452566096424, 0.14285714285714285, 0.23076923076923078, 0.14463452566096424, 0.3268765133171913, 0.2, 0.16466739367502725, 0.21550946798917944, 0.17329910141206675, 0.12844708370617425, 0.21687344913151366, 0.23794037940379403, 0.19190283400809716, 0.44851063829787235, 0.12844708370617425, 0.24513776337115073, 0.2696969696969697, 0.28779663403985634, 0.16666666666666666, 0.36619718309859156, 0.3888888888888889, 0.28779663403985634, 0.16666666666666666, 0.13157894736842105, 0.13286713286713286, 0.0030627871362940277, 0.06666666666666667, 0.5, 0.21311475409836064, 0.28779663403985634, 0.16666666666666666, 0.4, 1.0, 0.25654642006958434, 0.3116883116883117, 1.0, 0.09318894271872329, 0.15332428765264586, 0.23843317331106936, 0.31313131313131315, 0.22031571722717913, 0.2269106931028639, 0.18697402122210025, 0.3333333333333333, 0.093558536181487, 0.16666666666666666, 0.3442622950819672, 0.4, 0.36363636363636365, 0.23618413992917694, 0.4, 0.2473416551086454, 0.07692307692307693, 0.2823920265780731, 0.2269106931028639, 0.3202614379084967, 0.3333333333333333, 0.12749349522983522, 0.14791666666666667, 0.09839816933638444, 0.019230769230769232, 0.12844708370617425, 0.24513776337115073, 0.3333333333333333, 0.13647997143027202, 0.16049382716049382, 0.3268765133171913, 0.22, 0.12612612612612611, 1.0, 0.38317757009345793, 0.14791666666666667, 0.4, 0.15384615384615385, 0.23843317331106936, 0.17307692307692307, 0.28779663403985634, 0.4, 0.23391435334624489, 0.10683012259194395, 0.23843317331106936, 0.47368421052631576, 0.28779663403985634, 0.16666666666666666, 0.4, 0.3274336283185841, 1.0, 0.13286713286713286, 0.16379310344827586, 0.16666666666666666, 0.38461538461538464, 0.23618413992917694, 0.16666666666666666, 0.3333333333333333, 0.1873560040549258, 0.07692307692307693, 0.4, 0.6216216216216216, 0.18697402122210025, 0.5714285714285714, 0.1873560040549258, 0.42857142857142855, 0.13647997143027202, 0.75, 0.25654642006958434, 0.16666666666666666, 1.0, 0.28779663403985634, 0.15384615384615385, 0.22031571722717913, 0.09420713867758923, 0.4, 0.1873560040549258, 0.32187899835496253, 0.2857142857142857, 0.14463452566096424, 0.6363636363636364, 0.18267419962335216, 0.11627906976744186, 0.38317757009345793, 0.13286713286713286, 0.4, 0.12844708370617425, 0.5714285714285714, 0.18697402122210025, 0.13157894736842105, 0.1873560040549258, 0.6666666666666666, 0.2269106931028639, 0.20898876404494382, 0.52, 0.355397951142632, 0.14791666666666667, 0.1767002928734136, 0.2, 0.7037037037037037, 0.4, 0.4, 0.4, 1.0, 0.3333333333333333, 0.4, 0.08761329305135952, 0.3333333333333333, 0.28779663403985634, 1.0, 0.22905027932960895, 0.22103533278553822, 0.16666666666666666, 0.12056737588652482, 0.17766497461928935, 0.32231404958677684, 0.16666666666666666, 0.30158730158730157, 0.54, 0.28779663403985634, 0.16666666666666666, 0.3068181818181818, 0.3333333333333333, 0.4, 0.12844708370617425, 0.24513776337115073, 0.38613861386138615, 0.0, 0.5277777777777778, 0.717948717948718, 0.08931953955995921, 0.3898305084745763, 0.14867566216891553, 0.020618556701030927, 0.17097862767154107, 0.18697402122210025, 0.013422818791946308, 0.2696969696969697, 0.22900763358778625, 0.20388349514563106, 0.19190283400809716, 0.12844708370617425, 0.24513776337115073, 0.3333333333333333, 0.14285714285714285, 0.17573385518590998, 0.13382269904009034, 0.21052631578947367, 0.010810810810810811, 0.23618413992917694, 0.006150061500615006, 0.15384615384615385, 0.21212121212121213, 0.1218026796589525, 0.19190283400809716, 0.12844708370617425, 0.24513776337115073, 0.4, 0.16466739367502725, 0.19190283400809716, 0.203125, 0.8181818181818182, 0.19190283400809716, 0.08931953955995921, 0.14867566216891553, 0.16666666666666666, 0.4251497005988024, 0.25654642006958434, 0.16666666666666666, 0.4, 0.4, 0.2903225806451613, 1.0, 0.3103448275862069, 0.09318894271872329, 0.1767002928734136, 0.12844708370617425, 0.21687344913151366, 0.40540540540540543, 0.14463452566096424, 0.14960629921259844, 0.19190283400809716, 0.23391435334624489, 0.2460881934566145, 0.6140350877192983, 0.23618413992917694, 0.09318894271872329, 0.12612612612612611, 0.14182475158084915, 0.28779663403985634, 0.16666666666666666, 0.76, 0.16883116883116883, 0.17766497461928935, 0.12612612612612611, 0.25654642006958434, 0.1781818181818182, 0.06666666666666667, 0.12749349522983522, 0.19190283400809716, 0.12389380530973451, 0.0784313725490196, 0.20222604141091743, 0.1767002928734136, 0.23794037940379403, 0.23843317331106936, 0.17472118959107807, 0.11107421550722231, 0.29910714285714285, 0.16666666666666666, 0.3333333333333333, 0.13793103448275862, 0.093558536181487, 0.16666666666666666, 0.1781818181818182, 0.717948717948718, 0.11107421550722231, 0.3333333333333333, 0.4, 0.12844708370617425, 0.24513776337115073, 1.0, 0.2832764505119454, 0.5378787878787878, 0.11107421550722231, 0.19047619047619047, 0.2269106931028639, 0.16666666666666666, 0.31313131313131315, 0.3333333333333333, 0.14791666666666667, 0.12844708370617425, 0.2520775623268698, 0.47058823529411764, 0.4, 0.14463452566096424, 0.20309094511591044, 0.23843317331106936, 0.24770642201834864, 0.09318894271872329, 0.12844708370617425, 0.15940224159402241, 0.15384615384615385, 0.2631578947368421, 0.22103533278553822, 0.09420713867758923, 0.20222604141091743, 0.05405405405405406, 0.12844708370617425, 0.21687344913151366, 0.15463917525773196, 0.023809523809523808, 0.12844708370617425, 0.24513776337115073, 0.23595505617977527, 0.28779663403985634, 1.0, 0.6226415094339622, 0.20222604141091743, 0.12844708370617425, 0.058549373725604426, 0.25654642006958434, 0.13647997143027202, 0.23843317331106936, 0.5243243243243243, 0.7333333333333333, 0.19047619047619047, 0.2269106931028639, 0.16466739367502725, 0.1873560040549258, 0.23843317331106936, 0.391304347826087, 0.16466739367502725, 0.013333333333333334, 0.23618413992917694, 0.4, 0.11952554744525548, 0.13382269904009034, 0.25, 0.2, 0.14463452566096424, 0.18697402122210025, 0.4489795918367347, 0.1111111111111111, 0.4, 0.23618413992917694, 0.0030627871362940277, 0.4, 0.12844708370617425, 0.24513776337115073, 0.3798103736754044, 0.7058823529411765, 0.3798103736754044, 1.0, 0.11107421550722231, 0.16666666666666666, 0.1781818181818182, 0.2832764505119454, 0.5378787878787878, 0.14285714285714285, 0.1767002928734136, 0.30566037735849055, 0.21122994652406418, 0.22508591065292097, 0.36, 0.3333333333333333, 0.4, 0.8867924528301887, 0.2268370607028754, 0.22508591065292097, 0.3473684210526316, 0.5862068965517241, 0.1218026796589525, 0.11088810837932765, 0.12844708370617425, 0.24513776337115073, 0.3798103736754044, 0.5, 0.14463452566096424, 0.21439891328956306, 1.0, 0.25675675675675674, 0.31417624521072796, 0.09318894271872329, 0.06711409395973154, 0.23843317331106936, 0.30158730158730157, 1.0, 0.4, 1.0, 0.1873560040549258, 0.4, 0.5263157894736842, 0.3333333333333333, 0.4, 0.18697402122210025, 0.1111111111111111, 0.5555555555555556, 0.14285714285714285, 0.14285714285714285, 0.23618413992917694, 0.16666666666666666, 0.04, 0.4, 0.12844708370617425, 0.24513776337115073, 0.5, 1.0, 0.21739130434782608, 0.15384615384615385, 0.2269106931028639, 0.23843317331106936, 0.3333333333333333, 0.16466739367502725, 0.3333333333333333, 0.4, 0.22, 0.4, 0.05560165975103734, 0.16666666666666666, 0.5, 0.25, 0.7142857142857143, 0.3333333333333333, 0.20985691573926868, 0.10961420698101654, 0.23076923076923078, 0.17097862767154107, 0.673469387755102, 0.11107421550722231, 0.16666666666666666, 0.16666666666666666, 0.28779663403985634, 0.16666666666666666, 1.0, 0.15315315315315314, 0.058823529411764705, 0.45454545454545453, 1.0, 0.3202614379084967, 0.23618413992917694, 0.12749349522983522, 0.1626848691695108, 0.22105263157894736, 0.11952554744525548, 0.19190283400809716, 0.093558536181487, 0.19190283400809716, 0.3114754098360656, 0.19190283400809716, 0.12844708370617425, 0.24513776337115073, 0.4, 0.3333333333333333, 0.19047619047619047, 0.16666666666666666, 0.24157303370786518, 0.11088810837932765, 0.12844708370617425, 0.24513776337115073, 0.23843317331106936, 0.31313131313131315, 0.52, 0.16466739367502725, 0.17573385518590998, 0.13382269904009034, 0.030303030303030304, 0.14463452566096424, 0.23843317331106936, 0.21687344913151366, 0.3333333333333333, 0.16466739367502725, 0.14791666666666667, 0.29910714285714285, 0.1767002928734136, 0.5278969957081545, 0.18485523385300667, 0.19190283400809716, 0.17097862767154107, 0.11107421550722231, 0.22508591065292097, 0.5378787878787878, 0.4, 0.23618413992917694, 0.2, 0.10392609699769054, 0.4174757281553398, 0.3103448275862069, 0.4, 0.631578947368421, 0.17573385518590998, 0.21550946798917944, 0.25, 0.22508591065292097, 0.18451612903225806, 0.10392609699769054, 0.5862068965517241, 0.3103448275862069, 0.13286713286713286, 0.22508591065292097, 0.4, 0.23618413992917694, 0.2, 0.0454065469904963, 0.4, 0.2, 0.42857142857142855, 0.23618413992917694, 0.4, 0.13286713286713286, 0.4489795918367347, 0.367816091954023, 0.11952554744525548, 0.0, 0.15795090715048027, 0.5862068965517241, 0.23618413992917694, 0.4, 0.0, 0.23618413992917694, 1.0, 1.0, 0.08931953955995921, 0.21939953810623555, 0.14463452566096424, 0.11952554744525548, 0.15795090715048027, 0.31313131313131315, 0.5388235294117647, 0.5862068965517241, 0.13647997143027202, 0.20898876404494382, 0.2919254658385093, 0.12749349522983522, 0.2473416551086454, 0.39416745061147695, 0.21550946798917944, 0.16666666666666666, 0.12844708370617425, 0.21687344913151366, 0.2972972972972973, 0.25663716814159293, 0.16666666666666666, 0.0454065469904963, 1.0, 0.1873560040549258, 0.15474209650582363, 0.093558536181487, 0.11933174224343675, 0.11107421550722231, 0.18697402122210025, 0.5378787878787878, 0.1218026796589525, 0.14867566216891553, 0.05952380952380952, 0.14463452566096424, 0.5950413223140496, 0.1270854788877446, 0.23618413992917694, 0.47058823529411764, 0.1431693989071038, 0.13793103448275862, 0.25654642006958434, 0.16666666666666666, 0.4, 0.3103448275862069, 0.20309094511591044, 0.3268765133171913, 0.2565947242206235, 0.2, 0.10810810810810811, 0.4, 0.23618413992917694, 0.0, 1.0, 0.625, 0.0652699435938759, 0.0, 0.9398496240601504, 0.09318894271872329, 0.12844708370617425, 0.2520775623268698, 0.22448979591836735, 0.14463452566096424, 0.2, 0.20222604141091743, 0.09318894271872329, 0.01818181818181818, 0.12844708370617425, 0.21687344913151366, 0.09333333333333334, 0.12373737373737374, 0.18697402122210025, 0.1781818181818182, 0.625, 0.41509433962264153, 0.2696969696969697, 0.3333333333333333, 0.25654642006958434, 0.6521739130434783, 0.09318894271872329, 0.15332428765264586, 0.5, 0.14285714285714285, 0.21439891328956306, 0.14463452566096424, 0.279874213836478, 0.14463452566096424, 0.16666666666666666, 0.0, 0.1781818181818182, 0.22900763358778625, 0.12844708370617425, 0.24513776337115073, 0.6, 0.15815085158150852, 0.4, 0.14463452566096424, 0.1586139580283065, 0.2269106931028639, 0.14285714285714285, 0.15903614457831325, 0.09318894271872329, 0.21550946798917944, 0.08860759493670886, 0.12844708370617425, 0.21687344913151366, 0.23794037940379403, 0.16666666666666666, 0.1048951048951049, 1.0, 0.15903614457831325, 0.11107421550722231, 0.16666666666666666, 0.15719063545150502, 0.5789473684210527, 0.09318894271872329, 0.15332428765264586, 0.23843317331106936, 0.0652699435938759, 0.28779663403985634, 0.48936170212765956, 0.23618413992917694, 0.30566037735849055, 0.20388349514563106, 0.18578352180936994, 0.23843317331106936, 0.4461538461538462, 0.05555555555555555, 0.11107421550722231, 0.4, 0.12844708370617425, 0.24513776337115073, 0.3252032520325203, 1.0, 0.16666666666666666, 0.1781818181818182, 0.4, 0.4, 0.09318894271872329, 0.12844708370617425, 0.15940224159402241, 0.05952380952380952, 0.2, 0.09318894271872329, 0.13559322033898305, 0.16666666666666666, 0.023255813953488372, 0.48717948717948717, 0.28779663403985634, 0.4, 0.09782608695652174, 0.13647997143027202, 0.11063627730294397, 0.23076923076923078, 0.16666666666666666, 0.625, 0.0652699435938759, 0.3188405797101449, 0.3234567901234568, 0.4461538461538462, 0.09420713867758923, 0.20222604141091743, 0.21939953810623555, 0.14463452566096424, 0.14960629921259844, 0.46563573883161513, 0.22103533278553822, 0.18697402122210025, 0.27038823799678385, 0.07984031936127745, 0.14182475158084915, 0.16049382716049382, 0.28779663403985634, 0.12582781456953643, 0.47058823529411764, 0.3268765133171913, 0.1781818181818182, 0.16666666666666666, 1.0, 0.3068181818181818, 0.2832764505119454, 0.5378787878787878, 0.11107421550722231, 0.23618413992917694, 0.279874213836478, 0.14463452566096424, 0.16666666666666666, 0.2832764505119454, 0.23595505617977527, 0.28779663403985634, 0.18697402122210025, 0.8581560283687943, 0.22784810126582278, 0.4, 0.4, 0.4, 0.3116883116883117, 0.28779663403985634, 0.16666666666666666, 1.0, 0.20388349514563106, 0.23076923076923078, 0.12582781456953643, 0.28779663403985634, 0.4, 0.2523364485981308, 0.12844708370617425, 0.24513776337115073, 0.1, 0.5, 0.13814432989690723, 0.14463452566096424, 0.4, 0.09302325581395349, 0.3333333333333333, 0.4444444444444444, 0.09318894271872329, 0.15332428765264586, 0.14463452566096424, 0.22448979591836735, 0.18697402122210025, 0.22900763358778625, 0.12844708370617425, 0.24513776337115073, 0.4, 0.18134715025906736, 0.14463452566096424, 0.2460881934566145, 0.18578352180936994, 0.2269106931028639, 0.16666666666666666, 0.35, 0.43283582089552236, 0.093558536181487, 0.16666666666666666, 0.25, 0.36363636363636365, 0.093558536181487, 0.19190283400809716, 0.12844708370617425, 0.24513776337115073, 0.24324324324324326, 0.1781818181818182, 0.06666666666666667, 0.23618413992917694, 0.007228915662650603, 0.010526315789473684, 0.23391435334624489, 0.16666666666666666, 0.6610169491525424, 0.2619047619047619, 0.20898876404494382, 0.4074074074074074, 0.6666666666666666, 0.23618413992917694, 0.8245614035087719, 0.13286713286713286, 0.16666666666666666, 0.4, 0.4, 0.3333333333333333, 0.2, 0.15384615384615385, 0.14666666666666667, 0.23076923076923078, 0.13647997143027202, 0.16666666666666666, 0.21687344913151366, 0.0, 0.16466739367502725, 0.2649164677804296, 0.3020833333333333, 0.2857142857142857, 0.4, 0.27038823799678385, 0.21439891328956306, 0.4838709677419355, 0.25663716814159293, 0.093558536181487, 0.16666666666666666, 0.15545755237045203, 0.17766497461928935, 0.20309094511591044, 0.20898876404494382, 0.24880382775119617, 0.09433962264150944, 0.15384615384615385, 0.09318894271872329, 0.279874213836478, 0.14463452566096424, 0.22508591065292097, 0.2832764505119454, 0.5378787878787878, 0.29910714285714285, 0.28779663403985634, 0.1431693989071038, 0.11952554744525548, 0.22522522522522523, 0.0, 0.2631578947368421, 0.22508591065292097, 0.3888888888888889, 0.09420713867758923, 0.20222604141091743, 0.21939953810623555, 0.14463452566096424, 0.07984031936127745, 0.16049382716049382, 0.28779663403985634, 0.16666666666666666, 0.16363636363636364, 0.27038823799678385, 0.08105906313645621, 0.4759036144578313, 0.13647997143027202, 0.13814432989690723, 0.14463452566096424, 0.16666666666666666, 1.0, 0.4, 0.00797408422626464, 0.47058823529411764, 0.010810810810810811, 0.4, 0.15474209650582363, 0.17573385518590998, 0.14182475158084915, 0.28884254431699685, 0.31313131313131315, 0.5, 0.02127659574468085, 0.18697402122210025, 0.22900763358778625, 0.18485523385300667, 0.1431693989071038, 0.17097862767154107, 0.3333333333333333, 0.28779663403985634, 0.4, 0.2523364485981308, 0.09420713867758923, 0.20222604141091743, 0.08105906313645621, 0.23843317331106936, 0.10843373493975904, 0.056, 0.13647997143027202, 0.16666666666666666, 0.6216216216216216, 0.27038823799678385, 0.0, 0.023255813953488372, 0.23618413992917694, 0.21939953810623555, 0.23843317331106936, 0.31313131313131315, 0.006987577639751553, 0.47058823529411764, 0.11088810837932765, 0.5378787878787878, 0.13647997143027202, 0.14182475158084915, 0.31313131313131315, 0.19480519480519481, 0.09318894271872329, 0.12844708370617425, 0.15940224159402241, 0.0, 0.14182475158084915, 0.28779663403985634, 0.2460881934566145, 0.4, 0.3274336283185841, 0.2, 0.11107421550722231, 0.16666666666666666, 0.2857142857142857, 0.4, 0.1724137931034483, 0.09318894271872329, 0.12844708370617425, 0.15940224159402241, 0.48717948717948717, 0.28779663403985634, 0.375, 0.14463452566096424, 0.14867566216891553, 0.25654642006958434, 0.23843317331106936, 0.08, 0.2288135593220339, 0.6216216216216216, 0.2269106931028639, 0.2, 0.23618413992917694, 0.4, 0.4, 0.13286713286713286, 0.16666666666666666, 0.4, 1.0, 0.09318894271872329, 0.12844708370617425, 0.15940224159402241, 0.0, 0.23843317331106936, 0.2222222222222222, 0.28779663403985634, 0.2460881934566145, 0.28884254431699685, 0.2, 0.09318894271872329, 0.14606741573033707, 0.093558536181487, 0.16666666666666666, 0.3442622950819672, 0.11088810837932765, 0.3020833333333333, 0.09318894271872329, 0.68, 0.16666666666666666, 0.14285714285714285, 0.25654642006958434, 0.6216216216216216, 0.15903614457831325, 0.09318894271872329, 0.12844708370617425, 0.2520775623268698, 0.22448979591836735, 0.14463452566096424, 0.16112531969309463, 0.16666666666666666, 0.4, 0.5294117647058824, 0.23618413992917694, 0.16666666666666666, 0.29910714285714285, 0.2460881934566145, 0.4, 0.3274336283185841, 0.2, 0.08931953955995921, 0.20329024676850763, 0.19190283400809716, 0.29910714285714285, 1.0, 0.09318894271872329, 0.1391304347826087, 0.2, 1.0, 0.09090909090909091, 0.15384615384615385, 0.25, 0.11088810837932765, 0.14666666666666667, 0.18697402122210025, 0.22900763358778625, 0.23618413992917694, 0.3333333333333333, 0.28779663403985634, 0.20898876404494382, 0.31313131313131315, 0.21687344913151366, 0.0, 0.14791666666666667, 0.11952554744525548, 0.14182475158084915, 0.1111111111111111, 0.0, 0.31417624521072796, 0.11107421550722231, 0.16666666666666666, 0.15384615384615385, 0.5692307692307692, 0.10961420698101654, 0.12844708370617425, 0.058549373725604426, 0.2727272727272727, 0.14463452566096424, 0.16666666666666666, 0.3333333333333333, 0.20222604141091743, 0.22448979591836735, 0.09420713867758923, 0.20222604141091743, 0.13559322033898305, 0.093558536181487, 0.18697402122210025, 0.22900763358778625, 0.12844708370617425, 0.24513776337115073, 0.16363636363636364, 0.0684931506849315, 0.10961420698101654, 0.11952554744525548, 0.4, 0.2523364485981308, 0.12844708370617425, 0.24513776337115073, 0.4, 0.093558536181487, 0.16666666666666666, 0.15545755237045203, 0.23618413992917694, 0.16666666666666666, 0.3798103736754044, 0.4074074074074074, 0.1329479768786127, 0.6470588235294118, 0.093558536181487, 0.16666666666666666, 0.673469387755102, 0.7142857142857143, 0.20222604141091743, 0.1767002928734136, 0.07984031936127745, 0.23843317331106936, 0.5, 0.11107421550722231, 0.4, 0.4, 0.35294117647058826, 0.44851063829787235, 0.20309094511591044, 0.23843317331106936, 0.078125, 0.28779663403985634, 1.0, 0.13647997143027202, 0.32187899835496253, 0.5, 0.3333333333333333, 0.23618413992917694, 0.4, 0.17097862767154107, 0.11088810837932765, 0.23843317331106936, 0.1781818181818182, 0.5735294117647058, 0.6226415094339622, 0.17766497461928935, 0.12844708370617425, 0.24513776337115073, 0.23843317331106936, 0.4, 0.4, 0.1111111111111111, 0.1873560040549258, 0.04819277108433735, 0.14463452566096424, 0.16666666666666666, 0.23843317331106936, 0.4, 0.3274336283185841, 0.12844708370617425, 0.24513776337115073, 0.1111111111111111, 0.12844708370617425, 0.24513776337115073, 0.35294117647058826, 0.09420713867758923, 0.20222604141091743, 0.12844708370617425, 0.058549373725604426, 0.27388535031847133, 0.25655644241733183, 0.014084507042253521, 0.11107421550722231, 0.09318894271872329, 0.15474209650582363, 0.3, 0.09090909090909091, 0.23843317331106936, 0.2830188679245283, 0.5, 0.15057915057915058, 0.16466739367502725, 0.5619047619047619, 0.14285714285714285, 0.12844708370617425, 0.24513776337115073, 0.6, 0.4, 0.40336134453781514, 0.19190283400809716, 0.12844708370617425, 0.24513776337115073, 0.4, 1.0, 0.5, 0.3707865168539326, 0.0, 0.047619047619047616, 0.2473416551086454, 0.5384615384615384, 0.13286713286713286, 1.0, 0.24324324324324326, 0.17766497461928935, 0.14285714285714285, 0.14463452566096424, 0.45454545454545453, 0.4, 0.13636363636363635, 0.35294117647058826, 0.1873560040549258, 0.16666666666666666, 1.0, 0.23618413992917694, 1.0, 0.16666666666666666, 0.2832764505119454, 0.5378787878787878, 0.1873560040549258, 1.0, 0.4474327628361858, 0.0, 0.014827018121911038, 1.0, 0.22905027932960895, 0.5148247978436657, 0.28779663403985634, 0.20222604141091743, 0.35, 0.16666666666666666, 0.5416666666666666, 0.15815085158150852, 0.12844708370617425, 0.4, 1.0, 0.12844708370617425, 0.01818181818181818, 0.12844708370617425, 0.21687344913151366, 0.22508591065292097, 0.19174757281553398, 0.4474327628361858, 0.0, 0.2788971367974549, 0.23618413992917694, 0.1873560040549258, 0.11107421550722231, 0.19190283400809716, 0.023255813953488372, 0.23843317331106936, 0.2222222222222222, 0.28779663403985634, 0.16049382716049382, 0.28779663403985634, 0.14285714285714285, 0.12844708370617425, 0.24513776337115073, 0.0, 1.0, 0.09318894271872329, 0.06711409395973154, 0.20222604141091743, 0.12844708370617425, 0.14124293785310735, 0.3563218390804598, 0.30566037735849055, 0.29910714285714285, 0.14791666666666667, 0.08105906313645621, 0.1873560040549258, 0.13647997143027202, 0.15795090715048027, 0.12056737588652482, 0.14463452566096424, 0.07066381156316917, 0.15384615384615385, 0.2269106931028639, 0.16666666666666666, 0.4, 0.0, 0.1111111111111111, 0.12844708370617425, 0.24513776337115073, 0.35294117647058826, 0.18697402122210025, 0.03875968992248062, 0.1873560040549258, 0.0, 0.00797408422626464, 0.1270854788877446, 0.19436619718309858, 0.3333333333333333, 0.7684210526315789, 0.9759036144578314, 0.16666666666666666, 1.0, 0.3068181818181818, 0.1873560040549258, 0.23843317331106936, 0.6, 0.28779663403985634, 0.19436619718309858, 0.3333333333333333, 0.7684210526315789, 0.20222604141091743, 0.20309094511591044, 0.2, 0.23618413992917694, 0.07692307692307693, 0.14463452566096424, 0.2823920265780731, 0.18697402122210025, 0.03875968992248062, 0.25654642006958434, 0.491679273827534, 0.3333333333333333, 0.40336134453781514, 0.18697402122210025, 0.18593644354293443, 0.23618413992917694, 0.39416745061147695, 0.19190283400809716, 0.14463452566096424, 0.2, 0.21052631578947367, 0.14463452566096424, 0.14285714285714285, 0.27038823799678385, 0.3701657458563536, 0.14463452566096424, 0.18697402122210025, 0.8581560283687943, 0.38317757009345793, 0.279874213836478, 0.14463452566096424, 0.18697402122210025, 0.03875968992248062, 0.1873560040549258, 0.0, 0.00797408422626464, 0.1270854788877446, 0.19436619718309858, 0.3333333333333333, 0.7684210526315789, 0.9759036144578314, 0.16666666666666666, 1.0, 0.3068181818181818, 0.1873560040549258, 0.23843317331106936, 0.6, 0.28779663403985634, 0.19436619718309858, 0.3333333333333333, 0.7684210526315789, 0.20222604141091743, 0.20309094511591044, 0.2, 0.23618413992917694, 0.07692307692307693, 0.14463452566096424, 0.2823920265780731, 0.18697402122210025, 0.03875968992248062, 0.25654642006958434, 0.19190283400809716, 0.12844708370617425, 0.24513776337115073, 0.3333333333333333, 0.40336134453781514, 0.18697402122210025, 0.18593644354293443, 0.23618413992917694, 0.39416745061147695, 0.19190283400809716, 0.14463452566096424, 0.2, 0.21052631578947367, 0.14463452566096424, 0.14285714285714285, 0.27038823799678385, 0.3701657458563536, 0.13286713286713286, 0.18697402122210025, 0.8581560283687943, 0.08116102791643558, 0.47058823529411764]\n",
      "Graham interesting: [1.0, 1.0, 1.0, 1.0, 1.0, 1.0, 1.0, 0.0, 0.0, 1.0, 1.0, 0.0, 1.0, 1.0, 1.0]\n",
      "Bayes interesting ≤ 7: 1.0 [0.2857142857142857, 1.0, 0.46956521739130436, 0.047058823529411764, 0.2615079365079365, 0.3540692235734331, 0.1733615221987315, 0.23975044563279854, 0.2857142857142857, 1.0, 0.46956521739130436, 0.2615079365079365, 0.30704225352112674, 0.23975044563279854, 0.047058823529411764, 0.2615079365079365, 0.314176245210728, 0.4768518518518519, 0.12924424972617743, 0.3155852219807513, 0.35459940652818994, 0.20454545454545456, 0.4, 0.12924424972617743, 0.408335762168464, 1.0, 0.2857142857142857, 1.0, 0.24018016130721695, 0.2857142857142857, 0.4, 1.0, 0.408335762168464, 0.31504315659679405, 0.047058823529411764, 1.0, 1.0, 0.44695975503062113, 0.2857142857142857, 0.11548223350253806, 0.046153846153846156, 0.5, 0.01652892561983471, 0.35, 0.40298507462686567, 0.22022471910112362, 0.2857142857142857, 0.46956521739130436, 0.38211805555555556, 0.33333333333333337, 0.2857142857142857, 0.0, 0.19994022713687984, 0.2857142857142857, 0.3069620253164557, 0.36107986501687284, 0.4, 0.314176245210728, 0.22765282583621685, 0.39375203384315005, 0.2827715355805243, 0.4, 0.49333333333333335, 0.23255813953488372, 0.2577132486388385, 0.22765282583621685, 0.40265486725663713, 0.23605577689243026, 0.391304347826087, 0.36204576043068637, 0.5, 0.4, 0.16111111111111112, 0.7692307692307693, 0.12254160363086232, 0.0, 0.9689922480620156, 0.1478743068391867, 0.2426550598476605, 0.4604810996563574, 0.2857142857142857, 0.4, 0.7289719626168224, 0.2204724409448819, 0.36204576043068637, 0.4, 0.03726708074534161, 0.5789473684210525, 0.8, 0.44695975503062113, 0.2857142857142857, 0.4, 0.4, 0.5, 0.4, 0.4752475247524752, 0.44695975503062113, 0.2857142857142857, 1.0, 0.4, 0.4, 0.5217391304347826, 0.30246913580246915, 0.5, 0.408335762168464, 0.2857142857142857, 0.375, 0.24018016130721695, 0.2857142857142857, 0.44148936170212766, 0.26174496644295303, 0.9807692307692307, 0.4373464373464373, 0.25271739130434784, 0.3220108695652174, 0.4578313253012048, 0.24841772151898736, 0.47692307692307695, 0.276595744680851, 0.2577132486388385, 0.17647058823529413, 0.6666666666666666, 0.3220108695652174, 0.2920268972142171, 0.38211805555555556, 0.19999999999999998, 0.3220108695652174, 0.2920268972142171, 0.1711084191399152, 0.4870022123893805, 0.5, 0.8243243243243243, 0.2827715355805243, 0.3891402714932127, 0.3364193328795099, 0.21352893235533824, 0.5, 0.25271739130434784, 0.14351851851851852, 0.4870022123893805, 0.5576923076923077, 1.0, 0.21715526601520088, 0.3364193328795099, 0.29540481400437635, 0.22765282583621685, 0.35644371941272435, 0.2666666666666667, 0.0, 0.1711084191399152, 0.2857142857142857, 0.8243243243243243, 0.25, 0.25271739130434784, 0.2857142857142857, 1.0, 0.46956521739130436, 0.25, 0.25271739130434784, 0.2857142857142857, 0.31154684095860563, 0.047058823529411764, 0.44695975503062113, 0.2857142857142857, 1.0, 0.46956521739130436, 0.2857142857142857, 0.8, 0.9236641221374046, 0.44695975503062113, 0.2857142857142857, 0.30246913580246915, 1.0, 0.46956521739130436, 0.44148936170212766, 0.6995073891625615, 0.33870967741935487, 1.0, 0.2857142857142857, 0.4, 0.46956521739130436, 0.24018016130721695, 0.2857142857142857, 0.6197183098591549, 0.3343108504398827, 0.5378151260504201, 0.17049009384775807, 0.22765282583621685, 0.2749731471535983, 0.35802469135802467, 0.2857142857142857, 0.4915254237288135, 0.25271739130434784, 0.3559322033898305, 0.8666666666666666, 0.36988950276243093, 0.0061068702290076335, 0.0, 0.3017241379310345, 0.2989347536617843, 0.23605577689243026, 1.0, 0.2857142857142857, 0.19999999999999998, 0.5217391304347826, 0.36988950276243093, 0.007407407407407408, 0.0, 0.24806201550387597, 0.026490066225165563, 0.44695975503062113, 0.0, 0.27167630057803466, 0.37267080745341613, 0.33870967741935487, 0.304635761589404, 0.408335762168464, 0.024793388429752063, 0.19999999999999998, 0.0061068702290076335, 0.05472636815920398, 0.4, 0.2706193131787496, 0.2920268972142171, 0.1711084191399152, 0.2857142857142857, 0.6413793103448276, 0.314176245210728, 0.3220108695652174, 0.19708029197080293, 0.3559322033898305, 0.3220108695652174, 0.22765282583621685, 0.39375203384315005, 0.7777777777777778, 0.6995073891625615, 0.1711084191399152, 0.024793388429752063, 0.38211805555555556, 0.25886447683271696, 0.5714285714285715, 0.25271739130434784, 0.4604810996563574, 0.4, 0.0, 0.19994022713687984, 0.2857142857142857, 0.36107986501687284, 0.0061068702290076335, 0.3157894736842105, 1.0, 0.2577132486388385, 0.26588235294117646, 0.23605577689243026, 0.19879518072289157, 0.1711084191399152, 0.39497716894977164, 0.4893617021276596, 0.4873949579831933, 0.44695975503062113, 0.5, 0.32547169811320753, 0.5, 0.38211805555555556, 0.2857142857142857, 0.30246913580246915, 0.4, 0.2706193131787496, 0.2857142857142857, 0.37241379310344824, 0.2857142857142857, 0.8474576271186441, 0.2888888888888889, 0.25271739130434784, 0.49107142857142855, 0.2857142857142857, 0.0, 0.44695975503062113, 0.2857142857142857, 0.5, 0.4230769230769231, 0.2577132486388385, 0.22399999999999998, 0.3636363636363636, 0.36204576043068637, 0.2857142857142857, 0.25, 0.2577132486388385, 0.16176470588235292, 0.25271739130434784, 0.1478743068391867, 0.5, 0.32547169811320753, 0.5, 0.38211805555555556, 0.4, 0.4444444444444445, 0.4373464373464373, 0.2577132486388385, 0.32015065913371, 0.1478743068391867, 0.2827715355805243, 0.31504315659679405, 0.2204724409448819, 0.2857142857142857, 0.8474576271186441, 0.3076923076923077, 0.25271739130434784, 0.3791419602371817, 0.4, 0.40963855421686746, 0.1, 0.3220108695652174, 0.2666666666666667, 0.3850561797752809, 0.4, 0.25, 0.0, 0.22765282583621685, 0.39375203384315005, 0.7012987012987013, 0.2204724409448819, 0.3850561797752809, 0.33333333333333337, 0.46634615384615385, 0.44695975503062113, 0.4927007299270073, 0.4347826086956522, 0.2744282744282744, 0.5979381443298969, 0.6354044548651817, 0.21715526601520088, 0.2204724409448819, 0.2857142857142857, 1.0, 0.33333333333333337, 0.27984344422700586, 0.4, 0.36204576043068637, 0.3850561797752809, 0.33333333333333337, 0.2827715355805243, 0.4578313253012048, 1.0, 0.40298507462686567, 0.0909090909090909, 0.4, 0.0, 0.38211805555555556, 1.0, 0.38211805555555556, 0.2753623188405797, 0.2857142857142857, 0.7012987012987013, 0.38211805555555556, 1.0, 0.44695975503062113, 0.7386363636363636, 0.046153846153846156, 0.26448362720403024, 0.0, 0.21715526601520088, 0.3220108695652174, 0.3155852219807513, 0.2827715355805243, 0.2577132486388385, 0.05472636815920398, 0.4927007299270073, 0.30246913580246915, 0.44148936170212766, 0.6995073891625615, 0.2857142857142857, 1.0, 0.46956521739130436, 0.32, 0.36988950276243093, 0.31504315659679405, 0.9236641221374046, 0.44695975503062113, 0.2827715355805243, 0.3069620253164557, 0.28415300546448086, 0.408335762168464, 0.051094890510948905, 0.2857142857142857, 1.0, 0.46956521739130436, 0.375, 0.6592292089249493, 0.0, 0.36988950276243093, 0.6592292089249493, 0.2666666666666667, 0.21576763485477177, 0.5277777777777778, 0.36988950276243093, 0.6592292089249493, 0.30303030303030304, 0.27083333333333337, 0.3917525773195876, 0.19994022713687984, 0.2857142857142857, 0.2666666666666667, 0.21576763485477177, 0.5277777777777778, 0.48351648351648346, 0.37775010377750107, 0.29310344827586204, 0.39846743295019155, 1.0, 0.2857142857142857, 0.6995073891625615, 0.2857142857142857, 0.31154684095860563, 0.12924424972617743, 0.38211805555555556, 0.04222648752399232, 0.13636363636363635, 0.22399999999999998, 0.5833333333333334, 0.24018016130721695, 0.2857142857142857, 0.31154684095860563, 0.3343108504398827, 0.3838383838383838, 0.2857142857142857, 0.2666666666666667, 0.21576763485477177, 0.5277777777777778, 0.16399143927233814, 0.49107142857142855, 0.2558139534883721, 0.20689655172413793, 0.8169014084507042, 0.3850561797752809, 0.35877862595419846, 0.43333333333333335, 0.44695975503062113, 1.0, 0.12149532710280372, 0.3530947054436987, 0.35459940652818994, 0.25271739130434784, 0.345724907063197, 0.44695975503062113, 0.47025813692480356, 0.2827715355805243, 0.6909090909090909, 0.3850561797752809, 0.39705882352941174, 0.5714285714285715, 0.2345679012345679, 0.0, 0.5, 0.2744282744282744, 0.2680115273775216, 0.24018016130721695, 0.345724907063197, 0.44695975503062113, 0.47025813692480356, 0.8636363636363636, 0.4084507042253521, 0.25271739130434784, 0.25886447683271696, 0.1711084191399152, 0.3850561797752809, 1.0, 0.42567811934900546, 0.5789473684210525, 0.1711084191399152, 0.396590066716086, 0.2666666666666667, 0.24018016130721695, 0.3530947054436987, 0.2577132486388385, 0.22765282583621685, 0.24752475247524755, 0.2857142857142857, 0.36988950276243093, 0.2857142857142857, 0.35644371941272435, 0.5, 0.44695975503062113, 0.2857142857142857, 0.11548223350253806, 0.2577132486388385, 0.35984848484848486, 0.2857142857142857, 1.0, 0.46956521739130436, 0.25271739130434784, 0.3530947054436987, 0.5244186046511629, 0.2775330396475771, 0.3364193328795099, 1.0, 0.38211805555555556, 0.07894736842105263, 0.4230769230769231, 0.3364193328795099, 1.0, 0.5540540540540541, 0.19994022713687984, 0.4870022123893805, 0.5833333333333334, 0.39062500000000006, 0.5, 0.2744282744282744, 0.3220108695652174, 0.16399143927233814, 0.2680115273775216, 0.38441330998248685, 0.3364193328795099, 0.3888888888888889, 0.24018016130721695, 0.2827715355805243, 0.12924424972617743, 0.3364193328795099, 0.5609756097560975, 1.0, 0.3220108695652174, 0.4604810996563574, 0.38211805555555556, 1.0, 0.24275362318840582, 0.22022471910112362, 0.2857142857142857, 1.0, 0.46956521739130436, 0.2577132486388385, 0.24427480916030533, 0.3364193328795099, 0.4604810996563574, 0.5254237288135594, 0.4927007299270073, 0.30246913580246915, 0.5324675324675325, 0.38211805555555556, 0.2680115273775216, 0.22119815668202764, 0.25271739130434784, 0.6399999999999999, 0.4, 0.4444444444444445, 0.38211805555555556, 0.5, 0.32547169811320753, 0.5, 0.2235294117647059, 0.44695975503062113, 0.3469119579500657, 0.16399143927233814, 0.25886447683271696, 0.2857142857142857, 0.17460317460317462, 0.36988950276243093, 0.2857142857142857, 1.0, 0.46956521739130436, 0.38211805555555556, 0.4, 0.2706193131787496, 0.03773584905660378, 0.0061068702290076335, 1.0, 0.44695975503062113, 0.2857142857142857, 0.11548223350253806, 0.046153846153846156, 0.5, 0.01652892561983471, 0.35, 0.22615384615384615, 0.17049009384775807, 0.31154684095860563, 0.4, 0.1711084191399152, 0.2857142857142857, 0.6413793103448276, 0.408335762168464, 0.9473684210526316, 0.17049009384775807, 0.4615384615384615, 0.408335762168464, 0.25271739130434784, 0.3850561797752809, 0.25, 0.16666666666666669, 0.5, 0.01652892561983471, 0.3017241379310345, 0.2204724409448819, 0.5789473684210525, 0.24275362318840582, 0.408335762168464, 0.2857142857142857, 0.4, 0.5, 0.2577132486388385, 0.5661764705882353, 0.4411764705882353, 0.36666666666666664, 0.3850561797752809, 0.3076923076923077, 0.25271739130434784, 0.2727272727272727, 0.24018016130721695, 0.3469119579500657, 0.17049009384775807, 0.049913941480206545, 0.4736842105263158, 0.09174311926605505, 0.2744282744282744, 0.22615384615384615, 0.18604651162790695, 0.3155852219807513, 0.0625, 0.25271739130434784, 0.19999999999999998, 0.3220108695652174, 0.4, 0.3620689655172414, 0.1711084191399152, 0.2857142857142857, 0.31154684095860563, 0.5, 0.44695975503062113, 0.39497716894977164, 0.5121951219512195, 0.4, 0.5333333333333333, 0.5860349127182044, 0.1711084191399152, 0.5121951219512195, 0.4, 0.17049009384775807, 0.5, 0.36988950276243093, 0.39497716894977164, 0.4083969465648855, 0.7674418604651162, 0.0, 0.031914893617021274, 0.4, 0.38211805555555556, 0.36746143057503505, 0.33333333333333337, 0.7209302325581396, 0.48351648351648346, 0.2857142857142857, 0.546875, 0.23469387755102036, 0.17049009384775807, 0.5, 0.19994022713687984, 0.36746143057503505, 0.6041666666666666, 0.0, 0.38211805555555556, 0.17049009384775807, 0.4, 0.25271739130434784, 0.3850561797752809, 0.3636363636363636, 0.44695975503062113, 0.7012987012987013, 0.38211805555555556, 0.42482100238663484, 0.44695975503062113, 0.2857142857142857, 0.2151898734177215, 0.2577132486388385, 0.2235294117647059, 0.33333333333333337, 0.2204724409448819, 0.5, 0.01652892561983471, 0.17049009384775807, 0.47058823529411764, 0.42482100238663484, 0.44695975503062113, 0.046153846153846156, 0.22765282583621685, 0.9400000000000001, 0.2345679012345679, 0.0, 0.38211805555555556, 1.0, 0.408335762168464, 0.49635036496350365, 0.36988950276243093, 0.3220108695652174, 0.5060240963855421, 0.2857142857142857, 0.835820895522388, 0.2204724409448819, 0.48514851485148514, 0.5391304347826087, 0.18181818181818182, 0.7777777777777778, 0.408335762168464, 0.2857142857142857, 0.8, 0.26908396946564883, 0.0909090909090909, 0.4893617021276596, 0.1930379746835443, 0.17049009384775807, 0.09122562674094707, 0.2827715355805243, 0.17049009384775807, 0.19708029197080293, 0.319327731092437, 0.2666666666666667, 0.36988950276243093, 0.046153846153846156, 0.38211805555555556, 0.48514851485148514, 0.4, 0.4, 0.0, 0.18584070796460175, 0.4519230769230769, 0.48351648351648346, 0.2857142857142857, 0.28840970350404316, 0.5348837209302325, 0.2878787878787879, 0.046153846153846156, 0.2204724409448819, 0.4, 0.1711084191399152, 0.48514851485148514, 0.31154684095860563, 0.6879432624113475, 0.5333333333333333, 0.44695975503062113, 0.2857142857142857, 0.47025813692480356, 0.24806201550387597, 0.27984344422700586, 0.07894736842105263, 0.24275362318840582, 0.2666666666666667, 0.6666666666666666, 1.0, 0.5378151260504201, 0.5, 0.2577132486388385, 0.36666666666666664, 0.18584070796460175, 0.5, 0.25271739130434784, 0.20833333333333334, 0.48351648351648346, 0.2857142857142857, 0.19999999999999998, 0.38211805555555556, 0.2577132486388385, 0.16399143927233814, 0.21352893235533824, 0.396590066716086, 0.408335762168464, 0.6363636363636364, 0.846153846153846, 0.36204576043068637, 0.31504315659679405, 1.0, 0.20689655172413793, 0.1711084191399152, 0.2857142857142857, 1.0, 0.46956521739130436, 0.44148936170212766, 0.6995073891625615, 0.25886447683271696, 0.11235955056179775, 0.25271739130434784, 0.8155339805825244, 0.24018016130721695, 0.3220108695652174, 0.408335762168464, 0.2857142857142857, 0.14285714285714288, 0.619271445358402, 0.3376152832674572, 0.3850561797752809, 0.14492753623188406, 0.44695975503062113, 0.611764705882353, 0.24778761061946902, 0.17049009384775807, 0.2857142857142857, 0.36204576043068637, 0.31504315659679405, 0.47692307692307695, 1.0, 0.22615384615384615, 0.17049009384775807, 0.14606741573033705, 0.27672955974842767, 0.36204576043068637, 0.48514851485148514, 1.0, 0.09174311926605505, 0.48514851485148514, 0.7264150943396227, 0.2204724409448819, 0.4, 0.396590066716086, 1.0, 0.3155852219807513, 0.1751412429378531, 0.3017241379310345, 0.4347826086956522, 0.1956521739130435, 0.36746143057503505, 0.6910112359550562, 0.7526881720430108, 0.24018016130721695, 0.28125, 0.5151515151515151, 0.24018016130721695, 0.24841772151898736, 0.3220108695652174, 0.22765282583621685, 0.39375203384315005, 0.2710280373831776, 0.5, 0.358974358974359, 0.35459940652818994, 0.38376383763837635, 0.19757174392935986, 0.35984848484848486, 0.25271739130434784, 0.42567811934900546, 0.2827715355805243, 0.22765282583621685, 0.39375203384315005, 0.314176245210728, 0.2857142857142857, 0.24285714285714285, 0.3155852219807513, 0.17049009384775807, 0.21352893235533824, 0.23605577689243026, 0.396590066716086, 1.0, 0.24018016130721695, 0.8095238095238095, 1.0, 0.5378151260504201, 0.4682080924855491, 0.17049009384775807, 0.21352893235533824, 0.2666666666666667, 0.6216216216216216, 1.0, 0.2857142857142857, 0.18987341772151897, 0.9565217391304348, 0.5542168674698795, 0.2345679012345679, 1.0, 0.2857142857142857, 0.19999999999999998, 0.6, 0.38211805555555556, 1.0, 0.25, 0.25271739130434784, 0.0909090909090909, 0.7499999999999999, 0.0, 0.9375, 0.4, 0.1711084191399152, 0.2857142857142857, 0.5185185185185185, 0.38211805555555556, 0.5, 1.0, 0.42857142857142855, 0.2619047619047619, 0.2857142857142857, 0.4, 0.4, 0.5979381443298969, 0.3791419602371817, 0.046153846153846156, 0.3155852219807513, 0.36204576043068637, 0.25271739130434784, 0.4, 0.7142857142857143, 0.38211805555555556, 0.48514851485148514, 0.732919254658385, 0.17049009384775807, 0.2761904761904762, 0.17219251336898395, 0.19963866305329722, 0.22399999999999998, 0.2774373259052925, 0.44822006472491904, 0.6, 0.27984344422700586, 0.19708029197080293, 0.48484848484848486, 0.5789473684210525, 0.3791419602371817, 0.396590066716086, 1.0, 0.16666666666666669, 0.5, 0.1711084191399152, 0.2857142857142857, 0.1875, 0.44695975503062113, 0.6153846153846153, 0.42567811934900546, 0.408335762168464, 0.3850561797752809, 0.2737430167597765, 0.44695975503062113, 0.5, 0.2827715355805243, 0.3376152832674572, 0.4604810996563574, 0.7275064267352186, 0.0909090909090909, 0.7142857142857143, 0.44695975503062113, 0.42482100238663484, 0.20454545454545456, 0.2204724409448819, 0.2857142857142857, 0.8662790697674418, 0.27984344422700586, 0.14285714285714288, 0.1264367816091954, 0.2577132486388385, 0.30033185840707965, 0.6923076923076924, 0.6354044548651817, 0.44695975503062113, 0.5, 0.01652892561983471, 0.22765282583621685, 0.39375203384315005, 0.8046511627906977, 0.7461139896373057, 0.22551169590643275, 0.48514851485148514, 0.44148936170212766, 0.6995073891625615, 0.19994022713687984, 0.38211805555555556, 0.17219251336898395, 0.3364193328795099, 0.29540481400437635, 0.22765282583621685, 0.35644371941272435, 0.21352893235533824, 0.42482100238663484, 0.44695975503062113, 0.48514851485148514, 0.9400000000000001, 0.5748502994011977, 0.48514851485148514, 0.5360824742268041, 0.5163934426229507, 0.4, 0.4, 0.24018016130721695, 0.4, 0.6666666666666666, 0.5254237288135594, 0.42482100238663484, 0.2666666666666667, 0.3364193328795099, 0.30033185840707965, 0.2680115273775216, 0.5056179775280898, 0.3850561797752809, 0.47692307692307695, 0.0625, 0.0, 0.6, 0.36988950276243093, 0.046153846153846156, 0.19994022713687984, 0.40298507462686567, 0.22022471910112362, 0.2857142857142857, 0.46956521739130436, 0.24841772151898736, 0.3376152832674572, 0.3620689655172414, 0.2345679012345679, 0.2857142857142857, 0.0, 0.2577132486388385, 1.0, 0.4123711340206185, 0.2827715355805243, 0.2577132486388385, 0.4604810996563574, 0.21352893235533824, 0.25271739130434784, 0.38441330998248685, 0.5540540540540541, 0.2345679012345679, 0.4927007299270073, 0.71, 0.9285714285714286, 0.38211805555555556, 0.2920268972142171, 0.22022471910112362, 0.2857142857142857, 0.6879432624113475, 0.8046511627906977, 0.3791419602371817, 0.5666666666666667, 0.3791419602371817, 0.2577132486388385, 0.30033185840707965, 0.3620689655172414, 0.31504315659679405, 0.27906976744186046, 0.2577132486388385, 0.2746478873239437, 0.2666666666666667, 0.42482100238663484, 0.4927007299270073, 0.6654135338345865, 0.25, 0.6216216216216216, 0.44695975503062113, 0.5161290322580645, 0.7333333333333334, 0.5, 0.5505254648342766, 0.36988950276243093, 0.4, 0.08196721311475409, 0.4444444444444445, 0.38211805555555556, 0.4, 0.44144144144144143, 0.2577132486388385, 0.30033185840707965, 0.4373464373464373, 0.7499999999999999, 0.38211805555555556, 0.2114695340501792, 0.20833333333333334, 0.408335762168464, 0.25925925925925924, 0.17219251336898395, 0.2577132486388385, 0.43902439024390244, 0.2857142857142857, 0.14996232102486812, 0.2744282744282744, 0.38441330998248685, 0.6879432624113475, 0.38211805555555556, 0.6666666666666666, 0.2827715355805243, 0.0, 0.5540540540540541, 0.3791419602371817, 0.20689655172413793, 0.3791419602371817, 0.3364193328795099, 0.30033185840707965, 0.2577132486388385, 0.24427480916030533, 0.25271739130434784, 0.2775330396475771, 0.31504315659679405, 0.6746411483253588, 0.3574660633484163, 0.38211805555555556, 0.0, 0.0, 0.391304347826087, 0.2345679012345679, 0.345724907063197, 0.44695975503062113, 0.3364193328795099, 0.2763157894736842, 0.5789473684210525, 0.4870022123893805, 0.4347826086956522, 0.408335762168464, 0.2857142857142857, 0.46956521739130436, 0.21428571428571425, 0.2857142857142857, 0.3389830508474576, 0.44695975503062113, 0.47025813692480356, 0.1081081081081081, 0.24018016130721695, 0.4927007299270073, 0.6666666666666666, 0.2345679012345679, 0.2857142857142857, 0.3571428571428571, 0.17049009384775807, 0.22765282583621685, 0.2749731471535983, 0.11235955056179775, 0.19963866305329722, 0.3376152832674572, 0.24841772151898736, 0.44695975503062113, 0.47025813692480356, 0.2827715355805243, 0.3376152832674572, 0.15384615384615385, 0.25271739130434784, 1.0, 0.25271739130434784, 0.6, 0.37241379310344824, 1.0, 1.0, 0.314176245210728, 0.2857142857142857, 0.2857142857142857, 1.0, 0.46956521739130436, 0.16399143927233814, 0.6399999999999999, 0.396590066716086, 0.4553571428571429, 0.43750000000000006, 0.37272727272727274, 0.19708029197080293, 0.3364193328795099, 0.37241379310344824, 0.25271739130434784, 0.3120300751879699, 0.2920268972142171, 0.3850561797752809, 0.2888888888888889, 0.25271739130434784, 1.0, 0.25271739130434784, 0.38211805555555556, 0.4347826086956522, 0.3220108695652174, 0.36036036036036034, 0.4870022123893805, 0.32258064516129037, 0.19994022713687984, 0.2857142857142857, 0.3069620253164557, 0.36107986501687284, 0.35984848484848486, 0.25271739130434784, 0.4373464373464373, 0.24275362318840582, 0.22022471910112362, 0.2857142857142857, 0.46956521739130436, 0.25271739130434784, 0.6, 0.37241379310344824, 0.2857142857142857, 1.0, 1.0, 0.32547169811320753, 1.0, 0.0, 0.25, 0.4, 0.2857142857142857, 1.0, 0.24000000000000002, 0.42567811934900546, 0.4, 0.35984848484848486, 0.25271739130434784, 0.2737994945240101, 0.18604651162790695, 0.24018016130721695, 0.2857142857142857, 1.0, 0.24285714285714285, 0.36988950276243093, 0.4, 0.7974137931034483, 0.3850561797752809, 0.07692307692307693, 0.4, 0.42567811934900546, 0.5789473684210525, 0.4, 0.38211805555555556, 0.2857142857142857, 1.0, 0.19999999999999998, 0.19994022713687984, 0.2857142857142857, 0.3069620253164557, 0.36107986501687284, 0.22368421052631576, 0.2577132486388385, 0.21352893235533824, 0.2857142857142857, 0.25, 0.3120300751879699, 0.2920268972142171, 0.2728110599078341, 0.325, 0.22765282583621685, 0.39375203384315005, 0.44148936170212766, 0.6470588235294118, 0.38211805555555556, 0.3089171974522293, 0.38441330998248685, 0.24841772151898736, 0.8662790697674418, 0.2345679012345679, 0.4870022123893805, 0.427027027027027, 0.9090909090909091, 0.1711084191399152, 0.19999999999999998, 0.44658493870402804, 0.3013698630136986, 0.6222222222222222, 0.6363636363636364, 0.0, 0.1711084191399152, 0.2857142857142857, 0.24060150375939854, 1.0, 0.3364193328795099, 0.22765282583621685, 0.11062190423775453, 0.408335762168464, 0.4, 0.052631578947368425, 0.32015065913371, 0.2265625, 0.2666666666666667, 0.38297872340425526, 0.24018016130721695, 0.2666666666666667, 0.25271739130434784, 0.647887323943662, 0.2857142857142857, 0.28125, 0.2857142857142857, 0.4, 1.0, 0.4, 1.0, 0.4, 0.2857142857142857, 0.4, 0.7647058823529412, 0.4857142857142857, 0.7499999999999999, 0.33870967741935487, 0.2827715355805243, 0.4604810996563574, 0.2827715355805243, 0.22765282583621685, 0.39375203384315005, 0.24166666666666667, 0.3155852219807513, 0.25271739130434784, 0.337890625, 0.2827715355805243, 0.42857142857142855, 0.6, 0.38211805555555556, 0.5185185185185185, 0.5505254648342766, 0.42857142857142855, 0.1711084191399152, 0.1780821917808219, 0.4, 0.33870967741935487, 0.6797153024911032, 0.7499999999999999, 0.4, 0.2989347536617843, 0.5609756097560975, 0.6666666666666666, 0.25271739130434784, 0.2857142857142857, 0.7272727272727273, 0.36988950276243093, 0.3850561797752809, 0.30701754385964913, 0.18885448916408668, 0.44695975503062113, 0.2857142857142857, 0.8352941176470587, 0.44695975503062113, 0.026490066225165563, 0.17049009384775807, 0.30303030303030304, 0.24841772151898736, 0.4, 0.408335762168464, 0.2857142857142857, 0.5121951219512195, 0.1711084191399152, 0.39497716894977164, 0.3891402714932127, 0.25271739130434784, 1.0, 0.2857142857142857, 0.31154684095860563, 0.6017699115044248, 0.23255813953488372, 0.36204576043068637, 0.2857142857142857, 0.4, 0.49333333333333335, 1.0, 0.2744282744282744, 0.3220108695652174, 0.2204724409448819, 0.4604810996563574, 0.6666666666666666, 0.3220108695652174, 0.31504315659679405, 0.23255813953488372, 0.2857142857142857, 0.22765282583621685, 0.35644371941272435, 0.36204576043068637, 0.25, 0.0, 0.3220108695652174, 0.22765282583621685, 0.39375203384315005, 0.36204576043068637, 0.2857142857142857, 0.3684210526315789, 0.44695975503062113, 0.2857142857142857, 0.6413793103448276, 0.1711084191399152, 0.4, 0.0, 0.24018016130721695, 0.6354044548651817, 0.4590952839268527, 0.6399999999999999, 0.2577132486388385, 0.21352893235533824, 0.3850561797752809, 0.35877862595419846, 0.0, 0.44695975503062113, 0.2857142857142857, 0.23255813953488372, 0.56, 0.2345679012345679, 0.44822006472491904, 0.4, 0.0, 0.38211805555555556, 0.19999999999999998, 0.44695975503062113, 0.2857142857142857, 0.43750000000000006, 0.1711084191399152, 0.2857142857142857, 0.6995073891625615, 0.427027027027027, 1.0, 0.21352893235533824, 0.7114093959731543, 0.2857142857142857, 0.31154684095860563, 0.6666666666666666, 0.25271739130434784, 0.2615079365079365, 0.11006781429316641, 0.1111111111111111, 0.19994022713687984, 0.2857142857142857, 0.28, 0.36107986501687284, 0.21715526601520088, 0.17219251336898395, 0.4870022123893805, 0.5979381443298969, 0.3684210526315789, 0.44695975503062113, 0.17073170731707318, 0.3850561797752809, 0.23255813953488372, 0.17049009384775807, 0.17647058823529413, 0.3364193328795099, 0.11764705882352941, 0.4870022123893805, 0.4404145077720208, 0.22551169590643275, 0.10714285714285715, 0.4870022123893805, 0.28415300546448086, 0.1711084191399152, 0.2857142857142857, 0.6, 0.2336065573770492, 0.3364193328795099, 0.16399143927233814, 0.25886447683271696, 0.2619047619047619, 0.5505254648342766, 0.427027027027027, 0.4, 0.3220108695652174, 0.16399143927233814, 0.5540540540540541, 0.18604651162790695, 0.25271739130434784, 0.39497716894977164, 0.427027027027027, 0.32926829268292684, 0.3017241379310345, 0.375, 0.22765282583621685, 0.35644371941272435, 0.4, 0.0, 0.35459940652818994, 0.37272727272727274, 0.6797153024911032, 0.40740740740740744, 0.2577132486388385, 0.14996232102486812, 0.25271739130434784, 0.10126582278481014, 0.2737994945240101, 0.3220108695652174, 0.3947368421052631, 0.5540540540540541, 0.38376383763837635, 0.5555555555555556, 0.27505827505827507, 0.22399999999999998, 1.0, 0.38211805555555556, 0.17219251336898395, 0.4084507042253521, 0.44695975503062113, 0.3364193328795099, 0.11764705882352941, 0.3850561797752809, 0.4404145077720208, 0.17049009384775807, 0.30033185840707965, 0.38441330998248685, 0.2857142857142857, 0.9166666666666666, 0.25271739130434784, 0.4210526315789474, 0.2857142857142857, 0.31154684095860563, 0.6666666666666666, 0.061244019138755976, 0.22765282583621685, 0.39375203384315005, 0.273109243697479, 0.2857142857142857, 0.8046511627906977, 0.2426550598476605, 0.4, 0.0, 0.3611111111111111, 0.24018016130721695, 0.22551169590643275, 0.375, 0.31504315659679405, 0.23255813953488372, 0.3850561797752809, 0.33333333333333337, 0.49122807017543857, 0.22615384615384615, 0.17049009384775807, 0.2204724409448819, 0.1711084191399152, 0.2857142857142857, 0.4, 0.5333333333333333, 0.31504315659679405, 0.19999999999999998, 0.17049009384775807, 0.26588235294117646, 0.6797153024911032, 0.39846743295019155, 0.33333333333333337, 0.19923044035912785, 0.19757174392935986, 0.16176470588235292, 0.25271739130434784, 0.5130434782608695, 0.396590066716086, 0.6, 0.23255813953488372, 0.25271739130434784, 0.2746478873239437, 0.25271739130434784, 0.36746143057503505, 0.5, 0.19757174392935986, 0.16176470588235292, 0.2857142857142857, 0.5, 0.25271739130434784, 0.14102564102564102, 0.38829787234042556, 0.30864197530864196, 0.2857142857142857, 0.12924424972617743, 0.36036036036036034, 0.24018016130721695, 0.3850561797752809, 0.0, 1.0, 0.3155852219807513, 0.21715526601520088, 0.4553571428571429, 0.16666666666666669, 0.3220108695652174, 0.16399143927233814, 0.18223234624145784, 0.2857142857142857, 0.3389830508474576, 0.44695975503062113, 0.47025813692480356, 0.25271739130434784, 0.25, 0.375, 0.25271739130434784, 0.4927007299270073, 0.33333333333333337, 0.2827715355805243, 0.35459940652818994, 0.29540481400437635, 0.22765282583621685, 0.35644371941272435, 0.38441330998248685, 0.3220108695652174, 0.619271445358402, 0.22765282583621685, 0.39375203384315005, 0.42482100238663484, 0.44695975503062113, 0.2857142857142857, 0.5360824742268041, 0.56, 0.44695975503062113, 0.2857142857142857, 0.23255813953488372, 0.2345679012345679, 0.0061068702290076335, 0.125, 0.6666666666666666, 0.3513513513513513, 0.44695975503062113, 0.2857142857142857, 0.4, 1.0, 0.408335762168464, 0.4752475247524752, 1.0, 0.17049009384775807, 0.26588235294117646, 0.3850561797752809, 0.47692307692307695, 0.36107986501687284, 0.36988950276243093, 0.31504315659679405, 0.5, 0.1711084191399152, 0.2857142857142857, 0.5121951219512195, 0.4, 0.5333333333333333, 0.38211805555555556, 0.5714285714285715, 0.396590066716086, 0.14285714285714288, 0.4404145077720208, 0.36988950276243093, 0.48514851485148514, 0.5, 0.22615384615384615, 0.2577132486388385, 0.17916666666666667, 0.03773584905660378, 0.22765282583621685, 0.39375203384315005, 0.5, 0.24018016130721695, 0.276595744680851, 0.4927007299270073, 0.36065573770491804, 0.22399999999999998, 1.0, 0.5540540540540541, 0.2577132486388385, 0.4, 0.2666666666666667, 0.3850561797752809, 0.29508196721311475, 0.44695975503062113, 0.4, 0.3791419602371817, 0.1930379746835443, 0.3850561797752809, 0.6428571428571429, 0.44695975503062113, 0.2857142857142857, 0.4, 0.49333333333333335, 1.0, 0.2345679012345679, 0.2814814814814815, 0.2857142857142857, 0.5555555555555556, 0.38211805555555556, 0.2857142857142857, 0.5, 0.3155852219807513, 0.14285714285714288, 0.4, 0.7666666666666667, 0.31504315659679405, 0.7272727272727273, 0.3155852219807513, 0.6, 0.24018016130721695, 0.8571428571428571, 0.408335762168464, 0.2857142857142857, 1.0, 0.44695975503062113, 0.2666666666666667, 0.36107986501687284, 0.17219251336898395, 0.4, 0.3155852219807513, 0.4870022123893805, 0.4444444444444445, 0.25271739130434784, 0.7777777777777778, 0.3089171974522293, 0.20833333333333334, 0.5540540540540541, 0.2345679012345679, 0.4, 0.22765282583621685, 0.7272727272727273, 0.31504315659679405, 0.23255813953488372, 0.3155852219807513, 0.8, 0.36988950276243093, 0.345724907063197, 0.6842105263157895, 0.5244186046511629, 0.2577132486388385, 0.30033185840707965, 0.33333333333333337, 0.8260869565217391, 0.4, 0.4, 0.4, 1.0, 0.5, 0.4, 0.16111111111111112, 0.5, 0.44695975503062113, 1.0, 0.37272727272727274, 0.36204576043068637, 0.2857142857142857, 0.2151898734177215, 0.3017241379310345, 0.48749999999999993, 0.2857142857142857, 0.46341463414634143, 0.7012987012987013, 0.44695975503062113, 0.2857142857142857, 0.46956521739130436, 0.5, 0.4, 0.22765282583621685, 0.39375203384315005, 0.5571428571428572, 0.0, 0.6909090909090909, 0.835820895522388, 0.16399143927233814, 0.5609756097560975, 0.25886447683271696, 0.04040404040404041, 0.2920268972142171, 0.31504315659679405, 0.026490066225165563, 0.42482100238663484, 0.37267080745341613, 0.33870967741935487, 0.3220108695652174, 0.22765282583621685, 0.39375203384315005, 0.5, 0.25, 0.2989347536617843, 0.23605577689243026, 0.34782608695652173, 0.021390374331550804, 0.38211805555555556, 0.012224938875305624, 0.2666666666666667, 0.35, 0.21715526601520088, 0.3220108695652174, 0.22765282583621685, 0.39375203384315005, 0.4, 0.2827715355805243, 0.3220108695652174, 0.33766233766233766, 0.9, 0.3220108695652174, 0.16399143927233814, 0.25886447683271696, 0.2857142857142857, 0.596638655462185, 0.408335762168464, 0.2857142857142857, 0.4, 0.4, 0.45000000000000007, 1.0, 0.4736842105263158, 0.17049009384775807, 0.30033185840707965, 0.22765282583621685, 0.35644371941272435, 0.5769230769230769, 0.25271739130434784, 0.26027397260273977, 0.3220108695652174, 0.3791419602371817, 0.39497716894977164, 0.7608695652173912, 0.38211805555555556, 0.17049009384775807, 0.22399999999999998, 0.24841772151898736, 0.44695975503062113, 0.2857142857142857, 0.8636363636363636, 0.2888888888888889, 0.3017241379310345, 0.22399999999999998, 0.408335762168464, 0.30246913580246915, 0.125, 0.22615384615384615, 0.3220108695652174, 0.2204724409448819, 0.14545454545454545, 0.3364193328795099, 0.30033185840707965, 0.38441330998248685, 0.3850561797752809, 0.2974683544303798, 0.19994022713687984, 0.4604810996563574, 0.2857142857142857, 0.5, 0.2424242424242424, 0.1711084191399152, 0.2857142857142857, 0.30246913580246915, 0.835820895522388, 0.19994022713687984, 0.5, 0.4, 0.22765282583621685, 0.39375203384315005, 1.0, 0.44148936170212766, 0.6995073891625615, 0.19994022713687984, 0.32, 0.36988950276243093, 0.2857142857142857, 0.47692307692307695, 0.5, 0.2577132486388385, 0.22765282583621685, 0.40265486725663713, 0.6399999999999999, 0.4, 0.25271739130434784, 0.3376152832674572, 0.3850561797752809, 0.39705882352941174, 0.17049009384775807, 0.22765282583621685, 0.2749731471535983, 0.2666666666666667, 0.4166666666666667, 0.36204576043068637, 0.17219251336898395, 0.3364193328795099, 0.10256410256410257, 0.22765282583621685, 0.35644371941272435, 0.2678571428571429, 0.046511627906976744, 0.22765282583621685, 0.39375203384315005, 0.38181818181818183, 0.44695975503062113, 1.0, 0.7674418604651162, 0.3364193328795099, 0.22765282583621685, 0.11062190423775453, 0.408335762168464, 0.24018016130721695, 0.3850561797752809, 0.6879432624113475, 0.846153846153846, 0.32, 0.36988950276243093, 0.2827715355805243, 0.3155852219807513, 0.3850561797752809, 0.5625, 0.2827715355805243, 0.02631578947368421, 0.38211805555555556, 0.4, 0.21352893235533824, 0.23605577689243026, 0.4, 0.33333333333333337, 0.25271739130434784, 0.31504315659679405, 0.6197183098591549, 0.19999999999999998, 0.4, 0.38211805555555556, 0.0061068702290076335, 0.4, 0.22765282583621685, 0.39375203384315005, 0.5505254648342766, 0.8275862068965517, 0.5505254648342766, 1.0, 0.19994022713687984, 0.2857142857142857, 0.30246913580246915, 0.44148936170212766, 0.6995073891625615, 0.25, 0.30033185840707965, 0.4682080924855491, 0.3487858719646799, 0.36746143057503505, 0.5294117647058824, 0.5, 0.4, 0.9400000000000001, 0.3697916666666667, 0.36746143057503505, 0.515625, 0.7391304347826086, 0.21715526601520088, 0.19963866305329722, 0.22765282583621685, 0.39375203384315005, 0.5505254648342766, 0.6666666666666666, 0.25271739130434784, 0.3530947054436987, 1.0, 0.4086021505376344, 0.478134110787172, 0.17049009384775807, 0.12578616352201258, 0.3850561797752809, 0.46341463414634143, 1.0, 0.4, 1.0, 0.3155852219807513, 0.5714285714285715, 0.6896551724137931, 0.5, 0.4, 0.31504315659679405, 0.19999999999999998, 0.7142857142857143, 0.25, 0.25, 0.38211805555555556, 0.2857142857142857, 0.07692307692307693, 0.4, 0.22765282583621685, 0.39375203384315005, 0.6666666666666666, 1.0, 0.3571428571428571, 0.2666666666666667, 0.36988950276243093, 0.3850561797752809, 0.5, 0.2827715355805243, 0.5, 0.4, 0.36065573770491804, 0.4, 0.10534591194968553, 0.2857142857142857, 0.6666666666666666, 0.4, 0.8333333333333333, 0.5, 0.3469119579500657, 0.19757174392935986, 0.375, 0.2920268972142171, 0.8048780487804877, 0.19994022713687984, 0.2857142857142857, 0.2857142857142857, 0.44695975503062113, 0.2857142857142857, 1.0, 0.265625, 0.1111111111111111, 0.625, 1.0, 0.48514851485148514, 0.38211805555555556, 0.22615384615384615, 0.27984344422700586, 0.3620689655172414, 0.21352893235533824, 0.3220108695652174, 0.1711084191399152, 0.3220108695652174, 0.475, 0.3220108695652174, 0.22765282583621685, 0.39375203384315005, 0.4, 0.5, 0.32, 0.2857142857142857, 0.3891402714932127, 0.19963866305329722, 0.22765282583621685, 0.39375203384315005, 0.3850561797752809, 0.47692307692307695, 0.6842105263157895, 0.2827715355805243, 0.2989347536617843, 0.23605577689243026, 0.05882352941176471, 0.25271739130434784, 0.3850561797752809, 0.35644371941272435, 0.5, 0.2827715355805243, 0.2577132486388385, 0.4604810996563574, 0.30033185840707965, 0.6910112359550562, 0.3120300751879699, 0.3220108695652174, 0.2920268972142171, 0.19994022713687984, 0.36746143057503505, 0.6995073891625615, 0.4, 0.38211805555555556, 0.33333333333333337, 0.1882845188284519, 0.5890410958904109, 0.4736842105263158, 0.4, 0.7741935483870968, 0.2989347536617843, 0.35459940652818994, 0.4, 0.36746143057503505, 0.31154684095860563, 0.1882845188284519, 0.7391304347826086, 0.4736842105263158, 0.2345679012345679, 0.36746143057503505, 0.4, 0.38211805555555556, 0.33333333333333337, 0.08686868686868687, 0.4, 0.33333333333333337, 0.6, 0.38211805555555556, 0.4, 0.2345679012345679, 0.6197183098591549, 0.5378151260504201, 0.21352893235533824, 0.0, 0.2728110599078341, 0.7391304347826086, 0.38211805555555556, 0.4, 0.0, 0.38211805555555556, 1.0, 1.0, 0.16399143927233814, 0.35984848484848486, 0.25271739130434784, 0.21352893235533824, 0.2728110599078341, 0.47692307692307695, 0.7003058103975535, 0.7391304347826086, 0.24018016130721695, 0.345724907063197, 0.4519230769230769, 0.22615384615384615, 0.396590066716086, 0.5654520917678812, 0.35459940652818994, 0.2857142857142857, 0.22765282583621685, 0.35644371941272435, 0.4583333333333333, 0.4084507042253521, 0.2857142857142857, 0.08686868686868687, 1.0, 0.3155852219807513, 0.2680115273775216, 0.1711084191399152, 0.21321961620469082, 0.19994022713687984, 0.31504315659679405, 0.6995073891625615, 0.21715526601520088, 0.25886447683271696, 0.11235955056179775, 0.25271739130434784, 0.7461139896373057, 0.22551169590643275, 0.38211805555555556, 0.6399999999999999, 0.2504780114722753, 0.2424242424242424, 0.408335762168464, 0.2857142857142857, 0.4, 0.4736842105263158, 0.3376152832674572, 0.4927007299270073, 0.4083969465648855, 0.33333333333333337, 0.1951219512195122, 0.4, 0.38211805555555556, 0.0, 1.0, 0.7692307692307693, 0.12254160363086232, 0.0, 0.9689922480620156, 0.17049009384775807, 0.22765282583621685, 0.40265486725663713, 0.36666666666666664, 0.25271739130434784, 0.33333333333333337, 0.3364193328795099, 0.17049009384775807, 0.03571428571428572, 0.22765282583621685, 0.35644371941272435, 0.17073170731707318, 0.22022471910112362, 0.31504315659679405, 0.30246913580246915, 0.7692307692307693, 0.5866666666666668, 0.42482100238663484, 0.5, 0.408335762168464, 0.7894736842105263, 0.17049009384775807, 0.26588235294117646, 0.6666666666666666, 0.25, 0.3530947054436987, 0.25271739130434784, 0.4373464373464373, 0.25271739130434784, 0.2857142857142857, 0.0, 0.30246913580246915, 0.37267080745341613, 0.22765282583621685, 0.39375203384315005, 0.7499999999999999, 0.273109243697479, 0.5714285714285715, 0.25271739130434784, 0.2737994945240101, 0.36988950276243093, 0.25, 0.2744282744282744, 0.17049009384775807, 0.35459940652818994, 0.1627906976744186, 0.22765282583621685, 0.35644371941272435, 0.38441330998248685, 0.2857142857142857, 0.18987341772151897, 1.0, 0.2744282744282744, 0.19994022713687984, 0.2857142857142857, 0.27167630057803466, 0.7333333333333334, 0.17049009384775807, 0.26588235294117646, 0.3850561797752809, 0.12254160363086232, 0.44695975503062113, 0.6571428571428571, 0.38211805555555556, 0.4682080924855491, 0.33870967741935487, 0.31335149863760214, 0.3850561797752809, 0.6170212765957447, 0.10526315789473684, 0.19994022713687984, 0.4, 0.22765282583621685, 0.39375203384315005, 0.49079754601226994, 1.0, 0.2857142857142857, 0.30246913580246915, 0.4, 0.4, 0.17049009384775807, 0.22765282583621685, 0.2749731471535983, 0.11235955056179775, 0.33333333333333337, 0.17049009384775807, 0.23880597014925373, 0.2857142857142857, 0.04545454545454545, 0.6551724137931034, 0.44695975503062113, 0.4, 0.17821782178217824, 0.24018016130721695, 0.19923044035912785, 0.375, 0.2857142857142857, 0.7692307692307693, 0.12254160363086232, 0.48351648351648346, 0.4888059701492537, 0.6170212765957447, 0.17219251336898395, 0.3364193328795099, 0.35984848484848486, 0.25271739130434784, 0.26027397260273977, 0.6354044548651817, 0.36204576043068637, 0.31504315659679405, 0.42567811934900546, 0.1478743068391867, 0.24841772151898736, 0.276595744680851, 0.44695975503062113, 0.2235294117647059, 0.6399999999999999, 0.4927007299270073, 0.30246913580246915, 0.2857142857142857, 1.0, 0.46956521739130436, 0.44148936170212766, 0.6995073891625615, 0.19994022713687984, 0.38211805555555556, 0.4373464373464373, 0.25271739130434784, 0.2857142857142857, 0.44148936170212766, 0.38181818181818183, 0.44695975503062113, 0.31504315659679405, 0.9236641221374046, 0.3711340206185567, 0.4, 0.4, 0.4, 0.4752475247524752, 0.44695975503062113, 0.2857142857142857, 1.0, 0.33870967741935487, 0.375, 0.2235294117647059, 0.44695975503062113, 0.4, 0.40298507462686567, 0.22765282583621685, 0.39375203384315005, 0.18181818181818182, 0.6666666666666666, 0.24275362318840582, 0.25271739130434784, 0.4, 0.1702127659574468, 0.5, 0.6153846153846153, 0.17049009384775807, 0.26588235294117646, 0.25271739130434784, 0.36666666666666664, 0.31504315659679405, 0.37267080745341613, 0.22765282583621685, 0.39375203384315005, 0.4, 0.30701754385964913, 0.25271739130434784, 0.39497716894977164, 0.31335149863760214, 0.36988950276243093, 0.2857142857142857, 0.5185185185185185, 0.6041666666666666, 0.1711084191399152, 0.2857142857142857, 0.4, 0.5333333333333333, 0.1711084191399152, 0.3220108695652174, 0.22765282583621685, 0.39375203384315005, 0.391304347826087, 0.30246913580246915, 0.125, 0.38211805555555556, 0.014354066985645933, 0.020833333333333332, 0.3791419602371817, 0.2857142857142857, 0.7959183673469388, 0.41509433962264153, 0.345724907063197, 0.5789473684210525, 0.8, 0.38211805555555556, 0.9038461538461539, 0.2345679012345679, 0.2857142857142857, 0.4, 0.4, 0.5, 0.33333333333333337, 0.2666666666666667, 0.2558139534883721, 0.375, 0.24018016130721695, 0.2857142857142857, 0.35644371941272435, 0.0, 0.2827715355805243, 0.41886792452830185, 0.464, 0.4444444444444445, 0.4, 0.42567811934900546, 0.3530947054436987, 0.6521739130434783, 0.4084507042253521, 0.1711084191399152, 0.2857142857142857, 0.26908396946564883, 0.3017241379310345, 0.3376152832674572, 0.345724907063197, 0.39846743295019155, 0.1724137931034483, 0.2666666666666667, 0.17049009384775807, 0.4373464373464373, 0.25271739130434784, 0.36746143057503505, 0.44148936170212766, 0.6995073891625615, 0.4604810996563574, 0.44695975503062113, 0.2504780114722753, 0.21352893235533824, 0.36764705882352944, 0.0, 0.4166666666666667, 0.36746143057503505, 0.56, 0.17219251336898395, 0.3364193328795099, 0.35984848484848486, 0.25271739130434784, 0.1478743068391867, 0.276595744680851, 0.44695975503062113, 0.2857142857142857, 0.28125, 0.42567811934900546, 0.14996232102486812, 0.6448979591836734, 0.24018016130721695, 0.24275362318840582, 0.25271739130434784, 0.2857142857142857, 1.0, 0.4, 0.015822002472187888, 0.6399999999999999, 0.021390374331550804, 0.4, 0.2680115273775216, 0.2989347536617843, 0.24841772151898736, 0.44822006472491904, 0.47692307692307695, 0.6666666666666666, 0.04166666666666667, 0.31504315659679405, 0.37267080745341613, 0.3120300751879699, 0.2504780114722753, 0.2920268972142171, 0.5, 0.44695975503062113, 0.4, 0.40298507462686567, 0.17219251336898395, 0.3364193328795099, 0.14996232102486812, 0.3850561797752809, 0.1956521739130435, 0.10606060606060606, 0.24018016130721695, 0.2857142857142857, 0.7666666666666667, 0.42567811934900546, 0.0, 0.04545454545454545, 0.38211805555555556, 0.35984848484848486, 0.3850561797752809, 0.47692307692307695, 0.013878180416345412, 0.6399999999999999, 0.19963866305329722, 0.6995073891625615, 0.24018016130721695, 0.24841772151898736, 0.47692307692307695, 0.32608695652173914, 0.17049009384775807, 0.22765282583621685, 0.2749731471535983, 0.0, 0.24841772151898736, 0.44695975503062113, 0.39497716894977164, 0.4, 0.49333333333333335, 0.33333333333333337, 0.19994022713687984, 0.2857142857142857, 0.4444444444444445, 0.4, 0.29411764705882354, 0.17049009384775807, 0.22765282583621685, 0.2749731471535983, 0.6551724137931034, 0.44695975503062113, 0.5454545454545454, 0.25271739130434784, 0.25886447683271696, 0.408335762168464, 0.3850561797752809, 0.14814814814814814, 0.37241379310344824, 0.7666666666666667, 0.36988950276243093, 0.33333333333333337, 0.38211805555555556, 0.4, 0.4, 0.2345679012345679, 0.2857142857142857, 0.4, 1.0, 0.17049009384775807, 0.22765282583621685, 0.2749731471535983, 0.0, 0.3850561797752809, 0.3636363636363636, 0.44695975503062113, 0.39497716894977164, 0.44822006472491904, 0.33333333333333337, 0.17049009384775807, 0.25490196078431376, 0.1711084191399152, 0.2857142857142857, 0.5121951219512195, 0.19963866305329722, 0.464, 0.17049009384775807, 0.8095238095238095, 0.2857142857142857, 0.25, 0.408335762168464, 0.7666666666666667, 0.2744282744282744, 0.17049009384775807, 0.22765282583621685, 0.40265486725663713, 0.36666666666666664, 0.25271739130434784, 0.2775330396475771, 0.2857142857142857, 0.4, 0.6923076923076924, 0.38211805555555556, 0.2857142857142857, 0.4604810996563574, 0.39497716894977164, 0.4, 0.49333333333333335, 0.33333333333333337, 0.16399143927233814, 0.337890625, 0.3220108695652174, 0.4604810996563574, 1.0, 0.17049009384775807, 0.24427480916030533, 0.33333333333333337, 1.0, 0.16666666666666669, 0.2666666666666667, 0.4, 0.19963866305329722, 0.2558139534883721, 0.31504315659679405, 0.37267080745341613, 0.38211805555555556, 0.5, 0.44695975503062113, 0.345724907063197, 0.47692307692307695, 0.35644371941272435, 0.0, 0.2577132486388385, 0.21352893235533824, 0.24841772151898736, 0.19999999999999998, 0.0, 0.478134110787172, 0.19994022713687984, 0.2857142857142857, 0.2666666666666667, 0.7254901960784313, 0.19757174392935986, 0.22765282583621685, 0.11062190423775453, 0.42857142857142855, 0.25271739130434784, 0.2857142857142857, 0.5, 0.3364193328795099, 0.36666666666666664, 0.17219251336898395, 0.3364193328795099, 0.23880597014925373, 0.1711084191399152, 0.31504315659679405, 0.37267080745341613, 0.22765282583621685, 0.39375203384315005, 0.28125, 0.1282051282051282, 0.19757174392935986, 0.21352893235533824, 0.4, 0.40298507462686567, 0.22765282583621685, 0.39375203384315005, 0.4, 0.1711084191399152, 0.2857142857142857, 0.26908396946564883, 0.38211805555555556, 0.2857142857142857, 0.5505254648342766, 0.5789473684210525, 0.23469387755102036, 0.7857142857142858, 0.1711084191399152, 0.2857142857142857, 0.8048780487804877, 0.8333333333333333, 0.3364193328795099, 0.30033185840707965, 0.1478743068391867, 0.3850561797752809, 0.6666666666666666, 0.19994022713687984, 0.4, 0.4, 0.5217391304347826, 0.619271445358402, 0.3376152832674572, 0.3850561797752809, 0.14492753623188406, 0.44695975503062113, 1.0, 0.24018016130721695, 0.4870022123893805, 0.6666666666666666, 0.5, 0.38211805555555556, 0.4, 0.2920268972142171, 0.19963866305329722, 0.3850561797752809, 0.30246913580246915, 0.7289719626168224, 0.7674418604651162, 0.3017241379310345, 0.22765282583621685, 0.39375203384315005, 0.3850561797752809, 0.4, 0.4, 0.19999999999999998, 0.3155852219807513, 0.09195402298850576, 0.25271739130434784, 0.2857142857142857, 0.3850561797752809, 0.4, 0.49333333333333335, 0.22765282583621685, 0.39375203384315005, 0.19999999999999998, 0.22765282583621685, 0.39375203384315005, 0.5217391304347826, 0.17219251336898395, 0.3364193328795099, 0.22765282583621685, 0.11062190423775453, 0.43, 0.40834845735027225, 0.02777777777777778, 0.19994022713687984, 0.17049009384775807, 0.2680115273775216, 0.4615384615384615, 0.16666666666666669, 0.3850561797752809, 0.4411764705882353, 0.6666666666666666, 0.26174496644295303, 0.2827715355805243, 0.7195121951219512, 0.25, 0.22765282583621685, 0.39375203384315005, 0.7499999999999999, 0.4, 0.5748502994011977, 0.3220108695652174, 0.22765282583621685, 0.39375203384315005, 0.4, 1.0, 0.6666666666666666, 0.5409836065573771, 0.0, 0.0909090909090909, 0.396590066716086, 0.7000000000000001, 0.2345679012345679, 1.0, 0.391304347826087, 0.3017241379310345, 0.25, 0.25271739130434784, 0.625, 0.4, 0.24000000000000002, 0.5217391304347826, 0.3155852219807513, 0.2857142857142857, 1.0, 0.38211805555555556, 1.0, 0.2857142857142857, 0.44148936170212766, 0.6995073891625615, 0.3155852219807513, 1.0, 0.6182432432432432, 0.0, 0.02922077922077922, 1.0, 0.37272727272727274, 0.6797153024911032, 0.44695975503062113, 0.3364193328795099, 0.5185185185185185, 0.2857142857142857, 0.7027027027027027, 0.273109243697479, 0.22765282583621685, 0.4, 1.0, 0.22765282583621685, 0.03571428571428572, 0.22765282583621685, 0.35644371941272435, 0.36746143057503505, 0.32179226069246436, 0.6182432432432432, 0.0, 0.4361525704809287, 0.38211805555555556, 0.3155852219807513, 0.19994022713687984, 0.3220108695652174, 0.04545454545454545, 0.3850561797752809, 0.3636363636363636, 0.44695975503062113, 0.276595744680851, 0.44695975503062113, 0.25, 0.22765282583621685, 0.39375203384315005, 0.0, 1.0, 0.17049009384775807, 0.12578616352201258, 0.3364193328795099, 0.22765282583621685, 0.24752475247524755, 0.5254237288135594, 0.4682080924855491, 0.4604810996563574, 0.2577132486388385, 0.14996232102486812, 0.3155852219807513, 0.24018016130721695, 0.2728110599078341, 0.2151898734177215, 0.25271739130434784, 0.132, 0.2666666666666667, 0.36988950276243093, 0.2857142857142857, 0.4, 0.0, 0.19999999999999998, 0.22765282583621685, 0.39375203384315005, 0.5217391304347826, 0.31504315659679405, 0.07462686567164178, 0.3155852219807513, 0.0, 0.015822002472187888, 0.22551169590643275, 0.32547169811320753, 0.5, 0.869047619047619, 0.9878048780487805, 0.2857142857142857, 1.0, 0.46956521739130436, 0.3155852219807513, 0.3850561797752809, 0.7499999999999999, 0.44695975503062113, 0.32547169811320753, 0.5, 0.869047619047619, 0.3364193328795099, 0.3376152832674572, 0.33333333333333337, 0.38211805555555556, 0.14285714285714288, 0.25271739130434784, 0.4404145077720208, 0.31504315659679405, 0.07462686567164178, 0.408335762168464, 0.6592292089249493, 0.5, 0.5748502994011977, 0.31504315659679405, 0.31356898517673887, 0.38211805555555556, 0.5654520917678812, 0.3220108695652174, 0.25271739130434784, 0.33333333333333337, 0.34782608695652173, 0.25271739130434784, 0.25, 0.42567811934900546, 0.5403225806451613, 0.25271739130434784, 0.31504315659679405, 0.9236641221374046, 0.5540540540540541, 0.4373464373464373, 0.25271739130434784, 0.31504315659679405, 0.07462686567164178, 0.3155852219807513, 0.0, 0.015822002472187888, 0.22551169590643275, 0.32547169811320753, 0.5, 0.869047619047619, 0.9878048780487805, 0.2857142857142857, 1.0, 0.46956521739130436, 0.3155852219807513, 0.3850561797752809, 0.7499999999999999, 0.44695975503062113, 0.32547169811320753, 0.5, 0.869047619047619, 0.3364193328795099, 0.3376152832674572, 0.33333333333333337, 0.38211805555555556, 0.14285714285714288, 0.25271739130434784, 0.4404145077720208, 0.31504315659679405, 0.07462686567164178, 0.408335762168464, 0.3220108695652174, 0.22765282583621685, 0.39375203384315005, 0.5, 0.5748502994011977, 0.31504315659679405, 0.31356898517673887, 0.38211805555555556, 0.5654520917678812, 0.3220108695652174, 0.25271739130434784, 0.33333333333333337, 0.34782608695652173, 0.25271739130434784, 0.25, 0.42567811934900546, 0.5403225806451613, 0.2345679012345679, 0.31504315659679405, 0.9236641221374046, 0.15013679890560877, 0.6399999999999999]\n"
     ]
    }
   ],
   "source": [
    "intr_threshold_subopt = intr_threshold_opt - 1\n",
    "check_bayesian_diff(word_probs_bayes, \n",
    "                    intr_threshold=intr_threshold_subopt, \n",
    "                    display=f'Bayes interesting ≤ {intr_threshold_subopt}', \n",
    "                    true_label=0, \n",
    "                    include_graham_intr=True)"
   ]
  },
  {
   "attachments": {},
   "cell_type": "markdown",
   "metadata": {
    "datalore": {
     "hide_input_from_viewers": false,
     "hide_output_from_viewers": false,
     "type": "MD"
    },
    "pycharm": {
     "name": "#%% md\n"
    }
   },
   "source": [
    "The first $7$ interesting probabilities are $1$, accounting for the false positive result; then comes the $8$th value, a $0$, which makes it a true negative. So $8$ is legitimately the optimal threshold."
   ]
  },
  {
   "attachments": {},
   "cell_type": "markdown",
   "metadata": {
    "datalore": {
     "hide_input_from_viewers": false,
     "hide_output_from_viewers": false,
     "type": "MD"
    },
    "pycharm": {
     "name": "#%% md\n"
    }
   },
   "source": [
    "## Neural networks\n",
    "\n",
    "Let's compare the Bayesian filters to neural networks! We'll start with TensorFlow's [basic text classification tutorial](https://www.tensorflow.org/tutorials/keras/text_classification).\n",
    "\n",
    "For a neural network, we need to further split our training dataset to training and validation subsets:"
   ]
  },
  {
   "cell_type": "code",
   "execution_count": 29,
   "metadata": {
    "datalore": {
     "hide_input_from_viewers": false,
     "hide_output_from_viewers": false,
     "type": "CODE"
    },
    "pycharm": {
     "name": "#%%\n"
    }
   },
   "outputs": [],
   "source": [
    "# Lengths from the output of loading\n",
    "len_all = 5172\n",
    "len_train = 4655\n",
    "\n",
    "assert len_test == len_all - len_train\n",
    "\n",
    "len_train_neural = len_train - len_test\n",
    "\n",
    "ds_train_neural = ds_train.take(len_train_neural)\n",
    "ds_val_neural = ds_train.skip(len_train_neural)"
   ]
  },
  {
   "attachments": {},
   "cell_type": "markdown",
   "metadata": {
    "datalore": {
     "hide_input_from_viewers": false,
     "hide_output_from_viewers": false,
     "type": "MD"
    },
    "pycharm": {
     "name": "#%% md\n"
    }
   },
   "source": [
    "The `Enron1` dataset is already lowercase, and to remain similar to the Bayesian filters, we don't want to strip HTML, so in the standardization, we just need to remove `\"Subject: \"` from the start of the emails and strip punctuation:"
   ]
  },
  {
   "cell_type": "code",
   "execution_count": 30,
   "metadata": {
    "datalore": {
     "hide_input_from_viewers": false,
     "hide_output_from_viewers": false,
     "type": "CODE"
    },
    "pycharm": {
     "name": "#%%\n"
    }
   },
   "outputs": [],
   "source": [
    "def standardize(input_data):\n",
    "    cleaned = tf.strings.substr(input_data, len_subj, -1)\n",
    "    return tf.strings.regex_replace(cleaned,\n",
    "                                    '[%s]' % re.escape(string.punctuation),\n",
    "                                    '')"
   ]
  },
  {
   "attachments": {},
   "cell_type": "markdown",
   "metadata": {
    "datalore": {
     "hide_input_from_viewers": false,
     "hide_output_from_viewers": false,
     "type": "MD"
    },
    "pycharm": {
     "name": "#%% md\n"
    }
   },
   "source": [
    "Here's our vectorization layer:"
   ]
  },
  {
   "cell_type": "code",
   "execution_count": 31,
   "metadata": {
    "datalore": {
     "hide_input_from_viewers": false,
     "hide_output_from_viewers": false,
     "type": "CODE"
    },
    "pycharm": {
     "name": "#%%\n"
    }
   },
   "outputs": [],
   "source": [
    "max_features = 10000\n",
    "sequence_length = 250\n",
    "\n",
    "vectorize_layer = tf.keras.layers.TextVectorization(\n",
    "    standardize=standardize,\n",
    "    max_tokens=max_features,\n",
    "    output_mode='int',\n",
    "    output_sequence_length=sequence_length)"
   ]
  },
  {
   "cell_type": "code",
   "execution_count": 32,
   "metadata": {
    "datalore": {
     "hide_input_from_viewers": false,
     "hide_output_from_viewers": false,
     "type": "CODE"
    },
    "pycharm": {
     "name": "#%%\n"
    }
   },
   "outputs": [],
   "source": [
    "ds_train_neural_text = ds_train_neural.map(lambda x, y: x)\n",
    "vectorize_layer.adapt(ds_train_neural_text)"
   ]
  },
  {
   "attachments": {},
   "cell_type": "markdown",
   "metadata": {
    "datalore": {
     "hide_input_from_viewers": false,
     "hide_output_from_viewers": false,
     "type": "MD"
    },
    "pycharm": {
     "name": "#%% md\n"
    }
   },
   "source": [
    "Let's test the vectorization:"
   ]
  },
  {
   "cell_type": "code",
   "execution_count": 33,
   "metadata": {
    "datalore": {
     "hide_input_from_viewers": false,
     "hide_output_from_viewers": false,
     "type": "CODE"
    },
    "pycharm": {
     "name": "#%%\n"
    }
   },
   "outputs": [
    {
     "name": "stdout",
     "output_type": "stream",
     "text": [
      "tf.Tensor(b'Subject: enron / hpl actuals for sept . 27 , 2000\\r\\nteco tap 67 . 500 / hpl gas daily ; 60 . 000 / enron', shape=(), dtype=string)\n",
      "tf.Tensor(0, shape=(), dtype=int32)\n",
      "tf.Tensor(\n",
      "[[  15   49  344    6  781  239   19  238  322 4397  421   49   36  185\n",
      "   345   52   15    0    0    0    0    0    0    0    0    0    0    0\n",
      "     0    0    0    0    0    0    0    0    0    0    0    0    0    0\n",
      "     0    0    0    0    0    0    0    0    0    0    0    0    0    0\n",
      "     0    0    0    0    0    0    0    0    0    0    0    0    0    0\n",
      "     0    0    0    0    0    0    0    0    0    0    0    0    0    0\n",
      "     0    0    0    0    0    0    0    0    0    0    0    0    0    0\n",
      "     0    0    0    0    0    0    0    0    0    0    0    0    0    0\n",
      "     0    0    0    0    0    0    0    0    0    0    0    0    0    0\n",
      "     0    0    0    0    0    0    0    0    0    0    0    0    0    0\n",
      "     0    0    0    0    0    0    0    0    0    0    0    0    0    0\n",
      "     0    0    0    0    0    0    0    0    0    0    0    0    0    0\n",
      "     0    0    0    0    0    0    0    0    0    0    0    0    0    0\n",
      "     0    0    0    0    0    0    0    0    0    0    0    0    0    0\n",
      "     0    0    0    0    0    0    0    0    0    0    0    0    0    0\n",
      "     0    0    0    0    0    0    0    0    0    0    0    0    0    0\n",
      "     0    0    0    0    0    0    0    0    0    0    0    0    0    0\n",
      "     0    0    0    0    0    0    0    0    0    0    0    0]], shape=(1, 250), dtype=int64) tf.Tensor(0, shape=(), dtype=int32)\n"
     ]
    }
   ],
   "source": [
    "for email, label in ds_train_neural.unbatch():\n",
    "    if 'enron' in email.numpy().decode(encoding):\n",
    "        print(email)\n",
    "        print(label)\n",
    "        print(vectorize_layer(tf.expand_dims(email, -1)), label)\n",
    "        break"
   ]
  },
  {
   "attachments": {},
   "cell_type": "markdown",
   "metadata": {
    "datalore": {
     "hide_input_from_viewers": false,
     "hide_output_from_viewers": false,
     "type": "MD"
    },
    "pycharm": {
     "name": "#%% md\n"
    }
   },
   "source": [
    "The first and last words of the above email are `\"enron\"`, which was encoded as `15`, so `\"Subject: \"` was correctly removed. `\"hpl\"` is the second and 12th word, excluding punctuation, and `49`, its encoding, appears at these places, so punctuation was also correctly removed."
   ]
  },
  {
   "attachments": {},
   "cell_type": "markdown",
   "metadata": {
    "datalore": {
     "hide_input_from_viewers": false,
     "hide_output_from_viewers": false,
     "type": "MD"
    },
    "pycharm": {
     "name": "#%% md\n"
    }
   },
   "source": [
    "Configure the datasets for performance:"
   ]
  },
  {
   "cell_type": "code",
   "execution_count": 34,
   "metadata": {
    "datalore": {
     "hide_input_from_viewers": false,
     "hide_output_from_viewers": false,
     "type": "CODE"
    },
    "pycharm": {
     "name": "#%%\n"
    }
   },
   "outputs": [],
   "source": [
    "AUTOTUNE = tf.data.AUTOTUNE\n",
    "\n",
    "ds_train_neural = ds_train_neural.cache().prefetch(buffer_size=AUTOTUNE)\n",
    "ds_val_neural = ds_val_neural.cache().prefetch(buffer_size=AUTOTUNE)"
   ]
  },
  {
   "attachments": {},
   "cell_type": "markdown",
   "metadata": {
    "datalore": {
     "hide_input_from_viewers": false,
     "hide_output_from_viewers": false,
     "type": "MD"
    },
    "pycharm": {
     "name": "#%% md\n"
    }
   },
   "source": [
    "Set random seed for deterministic dropout layer and optimizer:"
   ]
  },
  {
   "cell_type": "code",
   "execution_count": 35,
   "metadata": {
    "datalore": {
     "hide_input_from_viewers": false,
     "hide_output_from_viewers": false,
     "type": "CODE"
    },
    "pycharm": {
     "name": "#%%\n"
    }
   },
   "outputs": [],
   "source": [
    "tf.random.set_seed(seed)"
   ]
  },
  {
   "attachments": {},
   "cell_type": "markdown",
   "metadata": {
    "datalore": {
     "hide_input_from_viewers": false,
     "hide_output_from_viewers": false,
     "type": "MD"
    },
    "pycharm": {
     "name": "#%% md\n"
    }
   },
   "source": [
    "Create, train and evaluate the model (for the metrics, we use false positives and false negatives for comparison to the Bayesian filters):"
   ]
  },
  {
   "cell_type": "code",
   "execution_count": 36,
   "metadata": {
    "datalore": {
     "hide_input_from_viewers": false,
     "hide_output_from_viewers": false,
     "type": "CODE"
    },
    "pycharm": {
     "name": "#%%\n"
    }
   },
   "outputs": [
    {
     "name": "stdout",
     "output_type": "stream",
     "text": [
      "Model: \"sequential\"\n",
      "_________________________________________________________________\n",
      " Layer (type)                Output Shape              Param #   \n",
      "=================================================================\n",
      " text_vectorization (TextVec  (None, 250)              0         \n",
      " torization)                                                     \n",
      "                                                                 \n",
      " embedding (Embedding)       (None, 250, 16)           160016    \n",
      "                                                                 \n",
      " dropout (Dropout)           (None, 250, 16)           0         \n",
      "                                                                 \n",
      " global_average_pooling1d (G  (None, 16)               0         \n",
      " lobalAveragePooling1D)                                          \n",
      "                                                                 \n",
      " dropout_1 (Dropout)         (None, 16)                0         \n",
      "                                                                 \n",
      " dense (Dense)               (None, 1)                 17        \n",
      "                                                                 \n",
      "=================================================================\n",
      "Total params: 160,033\n",
      "Trainable params: 160,033\n",
      "Non-trainable params: 0\n",
      "_________________________________________________________________\n"
     ]
    }
   ],
   "source": [
    "embedding_dim = 16\n",
    "\n",
    "model = tf.keras.Sequential([\n",
    "  vectorize_layer,\n",
    "  tf.keras.layers.Embedding(max_features + 1, embedding_dim),\n",
    "  tf.keras.layers.Dropout(0.2),\n",
    "  tf.keras.layers.GlobalAveragePooling1D(),\n",
    "  tf.keras.layers.Dropout(0.2),\n",
    "  tf.keras.layers.Dense(1, activation='sigmoid')])\n",
    "\n",
    "model.summary()"
   ]
  },
  {
   "cell_type": "code",
   "execution_count": 37,
   "metadata": {
    "datalore": {
     "hide_input_from_viewers": false,
     "hide_output_from_viewers": false,
     "type": "CODE"
    },
    "pycharm": {
     "name": "#%%\n"
    }
   },
   "outputs": [],
   "source": [
    "model.compile(loss=tf.keras.losses.BinaryCrossentropy(),\n",
    "              optimizer='adam',\n",
    "              metrics=[tf.metrics.FalsePositives(thresholds=prob_threshold),\n",
    "                       tf.metrics.FalseNegatives(thresholds=prob_threshold)])"
   ]
  },
  {
   "cell_type": "code",
   "execution_count": 38,
   "metadata": {
    "datalore": {
     "hide_input_from_viewers": false,
     "hide_output_from_viewers": false,
     "type": "CODE"
    },
    "pycharm": {
     "name": "#%%\n"
    }
   },
   "outputs": [
    {
     "name": "stdout",
     "output_type": "stream",
     "text": [
      "Epoch 1/10\n",
      "146/146 [==============================] - 2s 6ms/step - loss: 0.6345 - false_positives: 0.0000e+00 - false_negatives: 1352.0000\n",
      "Epoch 2/10\n",
      "146/146 [==============================] - 1s 6ms/step - loss: 0.5336 - false_positives: 0.0000e+00 - false_negatives: 1352.0000\n",
      "Epoch 3/10\n",
      "146/146 [==============================] - 1s 6ms/step - loss: 0.4657 - false_positives: 0.0000e+00 - false_negatives: 1333.0000\n",
      "Epoch 4/10\n",
      "146/146 [==============================] - 1s 6ms/step - loss: 0.4027 - false_positives: 0.0000e+00 - false_negatives: 1287.0000\n",
      "Epoch 5/10\n",
      "146/146 [==============================] - 1s 6ms/step - loss: 0.3474 - false_positives: 0.0000e+00 - false_negatives: 1266.0000\n",
      "Epoch 6/10\n",
      "146/146 [==============================] - 1s 6ms/step - loss: 0.3019 - false_positives: 1.0000 - false_negatives: 1229.0000\n",
      "Epoch 7/10\n",
      "146/146 [==============================] - 1s 6ms/step - loss: 0.2648 - false_positives: 2.0000 - false_negatives: 1166.0000\n",
      "Epoch 8/10\n",
      "146/146 [==============================] - 1s 6ms/step - loss: 0.2352 - false_positives: 4.0000 - false_negatives: 1113.0000\n",
      "Epoch 9/10\n",
      "146/146 [==============================] - 1s 6ms/step - loss: 0.2112 - false_positives: 2.0000 - false_negatives: 1048.0000\n",
      "Epoch 10/10\n",
      "146/146 [==============================] - 1s 6ms/step - loss: 0.1900 - false_positives: 3.0000 - false_negatives: 982.0000\n",
      "CPU times: user 12.1 s, sys: 676 ms, total: 12.8 s\n",
      "Wall time: 10.3 s\n"
     ]
    },
    {
     "data": {
      "text/plain": [
       "<keras.callbacks.History at 0x7f2f96ef4130>"
      ]
     },
     "execution_count": 38,
     "metadata": {},
     "output_type": "execute_result"
    }
   ],
   "source": [
    "def fit_model(epochs=10, callbacks=None):\n",
    "    return model.fit(\n",
    "        ds_train_neural,\n",
    "        validation_data=ds_val_neural,\n",
    "        epochs=epochs,\n",
    "        callbacks=callbacks)\n",
    "    \n",
    "%time fit_model()"
   ]
  },
  {
   "cell_type": "code",
   "execution_count": 39,
   "metadata": {
    "datalore": {
     "hide_input_from_viewers": false,
     "hide_output_from_viewers": false,
     "type": "CODE"
    },
    "pycharm": {
     "name": "#%%\n"
    }
   },
   "outputs": [
    {
     "name": "stdout",
     "output_type": "stream",
     "text": [
      "17/17 [==============================] - 0s 4ms/step - loss: 0.2088 - false_positives: 1.0000 - false_negatives: 107.0000\n",
      "{'false_positives': 1.0, 'false_negatives': 107.0}\n"
     ]
    }
   ],
   "source": [
    "def evaluate_model():\n",
    "    tf_res = model.evaluate(ds_test)\n",
    "    tf_res_dict = {k: v for k, v in zip(model.metrics_names, tf_res)}\n",
    "    res = {'false_positives': None, 'false_negatives': None}\n",
    "    for tf_k in tf_res_dict:\n",
    "        for k in res:\n",
    "            if k in tf_k:\n",
    "                res[k] = tf_res_dict[tf_k]\n",
    "    return res\n",
    "\n",
    "results_neural = evaluate_model()\n",
    "\n",
    "print(results_neural)"
   ]
  },
  {
   "cell_type": "code",
   "execution_count": 40,
   "metadata": {
    "datalore": {
     "hide_input_from_viewers": false,
     "hide_output_from_viewers": false,
     "type": "CODE"
    },
    "pycharm": {
     "name": "#%%\n"
    }
   },
   "outputs": [
    {
     "data": {
      "image/png": "[encoded data removed]",
      "text/plain": [
       "<Figure size 432x288 with 1 Axes>"
      ]
     },
     "metadata": {
      "needs_background": "dark"
     },
     "output_type": "display_data"
    }
   ],
   "source": [
    "plot_results([results_bayes_intr_threshold_tuned, results_neural], ['Bayesian best', 'Neural network'])"
   ]
  },
  {
   "attachments": {},
   "cell_type": "markdown",
   "metadata": {
    "datalore": {
     "hide_input_from_viewers": false,
     "hide_output_from_viewers": false,
     "type": "MD"
    },
    "pycharm": {
     "name": "#%% md\n"
    }
   },
   "source": [
    "We got $20.7\\%$ false negatives, and also $0.19\\%$ false positives."
   ]
  },
  {
   "attachments": {},
   "cell_type": "markdown",
   "metadata": {
    "datalore": {
     "hide_input_from_viewers": false,
     "hide_output_from_viewers": false,
     "type": "MD"
    },
    "pycharm": {
     "name": "#%% md\n"
    }
   },
   "source": [
    "But an enhancement suggests itself: we could allow more epochs. Let's set a maximum of 1000 epochs (following [Google's guide](https://developers.google.com/machine-learning/guides/text-classification/step-4)), and early stopping monitoring the convergence of false negatives (false positives are likely to converge faster, as we set a close-to-1 threshold):"
   ]
  },
  {
   "cell_type": "code",
   "execution_count": 41,
   "metadata": {
    "datalore": {
     "hide_input_from_viewers": false,
     "hide_output_from_viewers": false,
     "type": "CODE"
    },
    "pycharm": {
     "name": "#%%\n"
    }
   },
   "outputs": [
    {
     "name": "stdout",
     "output_type": "stream",
     "text": [
      "Epoch 1/1000\n",
      "146/146 [==============================] - 1s 7ms/step - loss: 0.1721 - false_positives: 4.0000 - false_negatives: 910.0000\n",
      "Epoch 2/1000\n",
      "146/146 [==============================] - 1s 7ms/step - loss: 0.1570 - false_positives: 4.0000 - false_negatives: 844.0000\n",
      "Epoch 3/1000\n",
      "146/146 [==============================] - 1s 6ms/step - loss: 0.1431 - false_positives: 4.0000 - false_negatives: 781.0000\n",
      "Epoch 4/1000\n",
      "146/146 [==============================] - 1s 6ms/step - loss: 0.1331 - false_positives: 4.0000 - false_negatives: 755.0000\n",
      "Epoch 5/1000\n",
      "146/146 [==============================] - 1s 6ms/step - loss: 0.1221 - false_positives: 4.0000 - false_negatives: 692.0000\n",
      "Epoch 6/1000\n",
      "146/146 [==============================] - 1s 6ms/step - loss: 0.1136 - false_positives: 4.0000 - false_negatives: 657.0000\n",
      "Epoch 7/1000\n",
      "146/146 [==============================] - 1s 6ms/step - loss: 0.1056 - false_positives: 4.0000 - false_negatives: 627.0000\n",
      "Epoch 8/1000\n",
      "146/146 [==============================] - 1s 5ms/step - loss: 0.0986 - false_positives: 3.0000 - false_negatives: 590.0000\n",
      "Epoch 9/1000\n",
      "146/146 [==============================] - 1s 5ms/step - loss: 0.0918 - false_positives: 3.0000 - false_negatives: 558.0000\n",
      "Epoch 10/1000\n",
      "146/146 [==============================] - 1s 5ms/step - loss: 0.0864 - false_positives: 3.0000 - false_negatives: 529.0000\n",
      "Epoch 11/1000\n",
      "146/146 [==============================] - 1s 6ms/step - loss: 0.0817 - false_positives: 2.0000 - false_negatives: 485.0000\n",
      "Epoch 12/1000\n",
      "146/146 [==============================] - 1s 6ms/step - loss: 0.0763 - false_positives: 2.0000 - false_negatives: 467.0000\n",
      "Epoch 13/1000\n",
      "146/146 [==============================] - 1s 6ms/step - loss: 0.0715 - false_positives: 2.0000 - false_negatives: 427.0000\n",
      "Epoch 14/1000\n",
      "146/146 [==============================] - 1s 7ms/step - loss: 0.0677 - false_positives: 2.0000 - false_negatives: 423.0000\n",
      "Epoch 15/1000\n",
      "146/146 [==============================] - 1s 6ms/step - loss: 0.0642 - false_positives: 2.0000 - false_negatives: 395.0000\n",
      "Epoch 16/1000\n",
      "146/146 [==============================] - 1s 5ms/step - loss: 0.0609 - false_positives: 2.0000 - false_negatives: 365.0000\n",
      "Epoch 17/1000\n",
      "146/146 [==============================] - 1s 5ms/step - loss: 0.0582 - false_positives: 2.0000 - false_negatives: 360.0000\n",
      "Epoch 18/1000\n",
      "146/146 [==============================] - 1s 5ms/step - loss: 0.0546 - false_positives: 1.0000 - false_negatives: 341.0000\n",
      "Epoch 19/1000\n",
      "146/146 [==============================] - 1s 6ms/step - loss: 0.0517 - false_positives: 1.0000 - false_negatives: 309.0000\n",
      "Epoch 20/1000\n",
      "146/146 [==============================] - 1s 6ms/step - loss: 0.0499 - false_positives: 1.0000 - false_negatives: 313.0000\n",
      "Epoch 21/1000\n",
      "146/146 [==============================] - 1s 5ms/step - loss: 0.0477 - false_positives: 1.0000 - false_negatives: 291.0000\n",
      "Epoch 22/1000\n",
      "146/146 [==============================] - 1s 5ms/step - loss: 0.0453 - false_positives: 1.0000 - false_negatives: 283.0000\n",
      "Epoch 23/1000\n",
      "146/146 [==============================] - 1s 6ms/step - loss: 0.0429 - false_positives: 1.0000 - false_negatives: 266.0000\n",
      "Epoch 24/1000\n",
      "146/146 [==============================] - 1s 5ms/step - loss: 0.0408 - false_positives: 0.0000e+00 - false_negatives: 254.0000\n",
      "Epoch 25/1000\n",
      "146/146 [==============================] - 1s 6ms/step - loss: 0.0393 - false_positives: 0.0000e+00 - false_negatives: 244.0000\n",
      "Epoch 26/1000\n",
      "146/146 [==============================] - 1s 5ms/step - loss: 0.0383 - false_positives: 1.0000 - false_negatives: 250.0000\n",
      "Epoch 27/1000\n",
      "146/146 [==============================] - 1s 5ms/step - loss: 0.0364 - false_positives: 0.0000e+00 - false_negatives: 238.0000\n",
      "Epoch 28/1000\n",
      "146/146 [==============================] - 1s 5ms/step - loss: 0.0350 - false_positives: 0.0000e+00 - false_negatives: 227.0000\n",
      "Epoch 29/1000\n",
      "146/146 [==============================] - 1s 5ms/step - loss: 0.0330 - false_positives: 0.0000e+00 - false_negatives: 214.0000\n",
      "Epoch 30/1000\n",
      "146/146 [==============================] - 1s 5ms/step - loss: 0.0324 - false_positives: 0.0000e+00 - false_negatives: 205.0000\n",
      "Epoch 31/1000\n",
      "146/146 [==============================] - 1s 5ms/step - loss: 0.0311 - false_positives: 0.0000e+00 - false_negatives: 209.0000\n",
      "Epoch 32/1000\n",
      "146/146 [==============================] - 1s 5ms/step - loss: 0.0295 - false_positives: 0.0000e+00 - false_negatives: 198.0000\n",
      "Epoch 33/1000\n",
      "146/146 [==============================] - 1s 5ms/step - loss: 0.0288 - false_positives: 0.0000e+00 - false_negatives: 188.0000\n",
      "Epoch 34/1000\n",
      "146/146 [==============================] - 1s 5ms/step - loss: 0.0277 - false_positives: 0.0000e+00 - false_negatives: 177.0000\n",
      "Epoch 35/1000\n",
      "146/146 [==============================] - 1s 5ms/step - loss: 0.0265 - false_positives: 0.0000e+00 - false_negatives: 179.0000\n",
      "Epoch 36/1000\n",
      "146/146 [==============================] - 1s 5ms/step - loss: 0.0260 - false_positives: 0.0000e+00 - false_negatives: 179.0000\n",
      "CPU times: user 39.2 s, sys: 2.38 s, total: 41.6 s\n",
      "Wall time: 29.6 s\n"
     ]
    },
    {
     "data": {
      "text/plain": [
       "<keras.callbacks.History at 0x7f2fb82b6730>"
      ]
     },
     "execution_count": 41,
     "metadata": {},
     "output_type": "execute_result"
    }
   ],
   "source": [
    "%%time\n",
    "fit_model(epochs=1000, callbacks=[tf.keras.callbacks.EarlyStopping(monitor='false_negatives', patience=2)])"
   ]
  },
  {
   "cell_type": "code",
   "execution_count": 42,
   "metadata": {
    "datalore": {
     "hide_input_from_viewers": false,
     "hide_output_from_viewers": false,
     "type": "CODE"
    },
    "pycharm": {
     "name": "#%%\n"
    }
   },
   "outputs": [
    {
     "name": "stdout",
     "output_type": "stream",
     "text": [
      "17/17 [==============================] - 0s 4ms/step - loss: 0.0604 - false_positives: 1.0000 - false_negatives: 22.0000\n",
      "{'false_positives': 1.0, 'false_negatives': 22.0}\n"
     ]
    },
    {
     "data": {
      "image/png": "[encoded data removed]",
      "text/plain": [
       "<Figure size 432x288 with 1 Axes>"
      ]
     },
     "metadata": {
      "needs_background": "dark"
     },
     "output_type": "display_data"
    }
   ],
   "source": [
    "results_neural_enhanced = evaluate_model()\n",
    "print(results_neural_enhanced)\n",
    "plot_results([results_bayes_intr_threshold_tuned, results_neural_enhanced], ['Bayesian best', 'Neural network enhanced'])"
   ]
  },
  {
   "attachments": {},
   "cell_type": "markdown",
   "metadata": {
    "datalore": {
     "hide_input_from_viewers": false,
     "hide_output_from_viewers": false,
     "type": "MD"
    },
    "pycharm": {
     "name": "#%% md\n"
    }
   },
   "source": [
    "With the enhanced neural network, we achieved an impressively low $4.26\\%$ false negative rate! But there are still $0.19\\%$ false positives, that is, one single email. Let's have a look at that:"
   ]
  },
  {
   "cell_type": "code",
   "execution_count": 43,
   "metadata": {
    "datalore": {
     "hide_input_from_viewers": false,
     "hide_output_from_viewers": false,
     "type": "CODE"
    },
    "pycharm": {
     "name": "#%%\n"
    }
   },
   "outputs": [
    {
     "name": "stdout",
     "output_type": "stream",
     "text": [
      "1/1 [==============================] - 0s 110ms/step\n",
      "1/1 [==============================] - 0s 34ms/step\n",
      "1/1 [==============================] - 0s 48ms/step\n",
      "1/1 [==============================] - 0s 35ms/step\n",
      "1/1 [==============================] - 0s 45ms/step\n",
      "1/1 [==============================] - 0s 98ms/step\n",
      "1/1 [==============================] - 0s 35ms/step\n",
      "1/1 [==============================] - 0s 49ms/step\n",
      "1/1 [==============================] - 0s 46ms/step\n",
      "1/1 [==============================] - 0s 46ms/step\n",
      "1/1 [==============================] - 0s 37ms/step\n",
      "1/1 [==============================] - 0s 39ms/step\n",
      "1/1 [==============================] - 0s 31ms/step\n",
      "1/1 [==============================] - 0s 31ms/step\n",
      "1/1 [==============================] - 0s 32ms/step\n",
      "1/1 [==============================] - 0s 35ms/step\n",
      "1/1 [==============================] - 0s 38ms/step\n",
      "1/1 [==============================] - 0s 33ms/step\n",
      "1/1 [==============================] - 0s 34ms/step\n",
      "1/1 [==============================] - 0s 36ms/step\n",
      "1/1 [==============================] - 0s 35ms/step\n",
      "1/1 [==============================] - 0s 33ms/step\n",
      "1/1 [==============================] - 0s 33ms/step\n",
      "1/1 [==============================] - 0s 47ms/step\n",
      "1/1 [==============================] - 0s 37ms/step\n",
      "1/1 [==============================] - 0s 44ms/step\n",
      "1/1 [==============================] - 0s 32ms/step\n",
      "1/1 [==============================] - 0s 40ms/step\n",
      "1/1 [==============================] - 0s 43ms/step\n",
      "1/1 [==============================] - 0s 30ms/step\n",
      "1/1 [==============================] - 0s 68ms/step\n",
      "1/1 [==============================] - 0s 37ms/step\n",
      "1/1 [==============================] - 0s 74ms/step\n",
      "1/1 [==============================] - 0s 31ms/step\n",
      "1/1 [==============================] - 0s 66ms/step\n",
      "1/1 [==============================] - 0s 62ms/step\n",
      "1/1 [==============================] - 0s 26ms/step\n",
      "1/1 [==============================] - 0s 29ms/step\n",
      "1/1 [==============================] - 0s 40ms/step\n",
      "1/1 [==============================] - 0s 75ms/step\n",
      "1/1 [==============================] - 0s 44ms/step\n",
      "1/1 [==============================] - 0s 28ms/step\n",
      "1/1 [==============================] - 0s 31ms/step\n",
      "1/1 [==============================] - 0s 26ms/step\n",
      "1/1 [==============================] - 0s 28ms/step\n",
      "1/1 [==============================] - 0s 45ms/step\n",
      "1/1 [==============================] - 0s 43ms/step\n",
      "1/1 [==============================] - 0s 35ms/step\n",
      "1/1 [==============================] - 0s 30ms/step\n",
      "1/1 [==============================] - 0s 103ms/step\n",
      "1/1 [==============================] - 0s 31ms/step\n",
      "1/1 [==============================] - 0s 25ms/step\n",
      "1/1 [==============================] - 0s 31ms/step\n",
      "1/1 [==============================] - 0s 28ms/step\n",
      "1/1 [==============================] - 0s 27ms/step\n",
      "1/1 [==============================] - 0s 52ms/step\n",
      "1/1 [==============================] - 0s 87ms/step\n",
      "1/1 [==============================] - 0s 37ms/step\n",
      "1/1 [==============================] - 0s 47ms/step\n",
      "Subject: digitize your memories with compaq scanners\r\n",
      "tired of searching for your photos or important files ?\r\n",
      "quit looking . we have a solution . we \u000f ' re offering a compaq tested and\r\n",
      "approved agfa ( tm ) snapscan touch usb scanner for just $ 99 .\r\n",
      "or for sharper photo reproduction , an epson ( tm ) perfection 1200 u\r\n",
      "usb scanner is available for just $ 199 .\r\n",
      "picture having all your photos on your hard drive , scanned in and\r\n",
      "ready to e - mail to friends and family or to store in cd libraries .\r\n",
      "you ' ll also be able to unclutter that office , allowing you to store\r\n",
      "documents as easily as placing the original on the scanner bed\r\n",
      "and clicking .\r\n",
      "not only will these scanners simplify your life , but these great\r\n",
      "values come with easy - to - use software , are usb compatible and are ready\r\n",
      "to go a few moments out of the box .\r\n",
      "so stop your search . everything you need is just a click away .\r\n",
      "to order the agfa snapscan , go to\r\n",
      "http : / / greatideas . compaq . com / cgi - bin 6 / flo ? y = ecp 20 bdtnxori 0 crxv .\r\n",
      "to order the epson perfection , go to\r\n",
      "http : / / greatideas . compaq . com / cgi - bin 6 / flo ? y = ecp 20 bdtnxori 0 cryw .\r\n",
      "if you would rather not receive e - mails about future contests and\r\n",
      "promotions , service updates , product enhancements , cool activities or\r\n",
      "new products , please e - mail\r\n",
      "to remove your name from our mailing list .\r\n",
      "- attl . htm\n",
      "Label: 0\n",
      "Prediction: 0.9993051886558533\n",
      "1/1 [==============================] - 0s 32ms/step\n",
      "1/1 [==============================] - 0s 49ms/step\n",
      "1/1 [==============================] - 0s 73ms/step\n",
      "1/1 [==============================] - 0s 44ms/step\n",
      "1/1 [==============================] - 0s 27ms/step\n",
      "1/1 [==============================] - 0s 33ms/step\n",
      "1/1 [==============================] - 0s 64ms/step\n",
      "1/1 [==============================] - 0s 49ms/step\n",
      "1/1 [==============================] - 0s 88ms/step\n",
      "1/1 [==============================] - 0s 43ms/step\n",
      "1/1 [==============================] - 0s 28ms/step\n",
      "1/1 [==============================] - 0s 84ms/step\n",
      "1/1 [==============================] - 0s 36ms/step\n",
      "1/1 [==============================] - 0s 56ms/step\n",
      "1/1 [==============================] - 0s 38ms/step\n",
      "1/1 [==============================] - 0s 35ms/step\n",
      "1/1 [==============================] - 0s 44ms/step\n",
      "1/1 [==============================] - 0s 35ms/step\n",
      "1/1 [==============================] - 0s 55ms/step\n",
      "1/1 [==============================] - 0s 49ms/step\n",
      "1/1 [==============================] - 0s 36ms/step\n",
      "1/1 [==============================] - 0s 34ms/step\n",
      "1/1 [==============================] - 0s 32ms/step\n",
      "1/1 [==============================] - 0s 42ms/step\n",
      "1/1 [==============================] - 0s 40ms/step\n",
      "1/1 [==============================] - 0s 36ms/step\n",
      "1/1 [==============================] - 0s 55ms/step\n",
      "1/1 [==============================] - 0s 43ms/step\n",
      "1/1 [==============================] - 0s 61ms/step\n",
      "1/1 [==============================] - 0s 33ms/step\n",
      "1/1 [==============================] - 0s 30ms/step\n",
      "1/1 [==============================] - 0s 35ms/step\n",
      "1/1 [==============================] - 0s 32ms/step\n",
      "1/1 [==============================] - 0s 45ms/step\n",
      "1/1 [==============================] - 0s 58ms/step\n",
      "1/1 [==============================] - 0s 48ms/step\n",
      "1/1 [==============================] - 0s 31ms/step\n",
      "1/1 [==============================] - 0s 80ms/step\n",
      "1/1 [==============================] - 0s 83ms/step\n",
      "1/1 [==============================] - 0s 49ms/step\n",
      "1/1 [==============================] - 0s 56ms/step\n",
      "1/1 [==============================] - 0s 108ms/step\n",
      "1/1 [==============================] - 0s 54ms/step\n",
      "1/1 [==============================] - 0s 59ms/step\n",
      "1/1 [==============================] - 0s 50ms/step\n",
      "1/1 [==============================] - 0s 43ms/step\n",
      "1/1 [==============================] - 0s 54ms/step\n",
      "1/1 [==============================] - 0s 43ms/step\n",
      "1/1 [==============================] - 0s 37ms/step\n",
      "1/1 [==============================] - 0s 34ms/step\n",
      "1/1 [==============================] - 0s 66ms/step\n",
      "1/1 [==============================] - 0s 64ms/step\n",
      "1/1 [==============================] - 0s 28ms/step\n",
      "1/1 [==============================] - 0s 41ms/step\n",
      "1/1 [==============================] - 0s 65ms/step\n",
      "1/1 [==============================] - 0s 34ms/step\n",
      "1/1 [==============================] - 0s 29ms/step\n",
      "1/1 [==============================] - 0s 70ms/step\n",
      "1/1 [==============================] - 0s 37ms/step\n",
      "1/1 [==============================] - 0s 46ms/step\n",
      "1/1 [==============================] - 0s 35ms/step\n",
      "1/1 [==============================] - 0s 72ms/step\n",
      "1/1 [==============================] - 0s 75ms/step\n",
      "1/1 [==============================] - 0s 46ms/step\n",
      "1/1 [==============================] - 0s 76ms/step\n",
      "1/1 [==============================] - 0s 73ms/step\n",
      "1/1 [==============================] - 0s 44ms/step\n",
      "1/1 [==============================] - 0s 39ms/step\n",
      "1/1 [==============================] - 0s 41ms/step\n",
      "1/1 [==============================] - 0s 39ms/step\n",
      "1/1 [==============================] - 0s 37ms/step\n",
      "1/1 [==============================] - 0s 33ms/step\n",
      "1/1 [==============================] - 0s 31ms/step\n",
      "1/1 [==============================] - 0s 96ms/step\n",
      "1/1 [==============================] - 0s 60ms/step\n",
      "1/1 [==============================] - 0s 29ms/step\n",
      "1/1 [==============================] - 0s 68ms/step\n",
      "1/1 [==============================] - 0s 39ms/step\n",
      "1/1 [==============================] - 0s 63ms/step\n",
      "1/1 [==============================] - 0s 31ms/step\n",
      "1/1 [==============================] - 0s 58ms/step\n",
      "1/1 [==============================] - 0s 27ms/step\n",
      "1/1 [==============================] - 0s 31ms/step\n",
      "1/1 [==============================] - 0s 30ms/step\n",
      "1/1 [==============================] - 0s 32ms/step\n",
      "1/1 [==============================] - 0s 48ms/step\n",
      "1/1 [==============================] - 0s 31ms/step\n",
      "1/1 [==============================] - 0s 33ms/step\n",
      "1/1 [==============================] - 0s 40ms/step\n",
      "1/1 [==============================] - 0s 40ms/step\n",
      "1/1 [==============================] - 0s 40ms/step\n",
      "1/1 [==============================] - 0s 31ms/step\n",
      "1/1 [==============================] - 0s 73ms/step\n",
      "1/1 [==============================] - 0s 41ms/step\n",
      "1/1 [==============================] - 0s 34ms/step\n",
      "1/1 [==============================] - 0s 32ms/step\n",
      "1/1 [==============================] - 0s 34ms/step\n",
      "1/1 [==============================] - 0s 36ms/step\n",
      "1/1 [==============================] - 0s 38ms/step\n",
      "1/1 [==============================] - 0s 35ms/step\n",
      "1/1 [==============================] - 0s 31ms/step\n",
      "1/1 [==============================] - 0s 44ms/step\n",
      "1/1 [==============================] - 0s 63ms/step\n",
      "1/1 [==============================] - 0s 34ms/step\n",
      "1/1 [==============================] - 0s 33ms/step\n",
      "1/1 [==============================] - 0s 74ms/step\n",
      "1/1 [==============================] - 0s 50ms/step\n",
      "1/1 [==============================] - 0s 32ms/step\n",
      "1/1 [==============================] - 0s 32ms/step\n",
      "1/1 [==============================] - 0s 30ms/step\n",
      "1/1 [==============================] - 0s 37ms/step\n",
      "1/1 [==============================] - 0s 31ms/step\n",
      "1/1 [==============================] - 0s 34ms/step\n",
      "1/1 [==============================] - 0s 72ms/step\n",
      "1/1 [==============================] - 0s 33ms/step\n",
      "1/1 [==============================] - 0s 59ms/step\n",
      "1/1 [==============================] - 0s 32ms/step\n",
      "1/1 [==============================] - 0s 36ms/step\n",
      "1/1 [==============================] - 0s 35ms/step\n",
      "1/1 [==============================] - 0s 35ms/step\n",
      "1/1 [==============================] - 0s 30ms/step\n",
      "1/1 [==============================] - 0s 32ms/step\n",
      "1/1 [==============================] - 0s 32ms/step\n",
      "1/1 [==============================] - 0s 47ms/step\n",
      "1/1 [==============================] - 0s 32ms/step\n",
      "1/1 [==============================] - 0s 33ms/step\n",
      "1/1 [==============================] - 0s 28ms/step\n",
      "1/1 [==============================] - 0s 31ms/step\n",
      "1/1 [==============================] - 0s 31ms/step\n",
      "1/1 [==============================] - 0s 33ms/step\n",
      "1/1 [==============================] - 0s 47ms/step\n",
      "1/1 [==============================] - 0s 33ms/step\n",
      "1/1 [==============================] - 0s 33ms/step\n",
      "1/1 [==============================] - 0s 34ms/step\n",
      "1/1 [==============================] - 0s 34ms/step\n",
      "1/1 [==============================] - 0s 33ms/step\n",
      "1/1 [==============================] - 0s 36ms/step\n",
      "1/1 [==============================] - 0s 34ms/step\n",
      "1/1 [==============================] - 0s 41ms/step\n",
      "1/1 [==============================] - 0s 34ms/step\n",
      "1/1 [==============================] - 0s 33ms/step\n",
      "1/1 [==============================] - 0s 26ms/step\n",
      "1/1 [==============================] - 0s 65ms/step\n",
      "1/1 [==============================] - 0s 37ms/step\n",
      "1/1 [==============================] - 0s 67ms/step\n",
      "1/1 [==============================] - 0s 27ms/step\n",
      "1/1 [==============================] - 0s 27ms/step\n",
      "1/1 [==============================] - 0s 63ms/step\n",
      "1/1 [==============================] - 0s 31ms/step\n",
      "1/1 [==============================] - 0s 49ms/step\n",
      "1/1 [==============================] - 0s 26ms/step\n",
      "1/1 [==============================] - 0s 31ms/step\n",
      "1/1 [==============================] - 0s 31ms/step\n",
      "1/1 [==============================] - 0s 27ms/step\n",
      "1/1 [==============================] - 0s 66ms/step\n",
      "1/1 [==============================] - 0s 33ms/step\n",
      "1/1 [==============================] - 0s 34ms/step\n",
      "1/1 [==============================] - 0s 27ms/step\n",
      "1/1 [==============================] - 0s 27ms/step\n",
      "1/1 [==============================] - 0s 29ms/step\n",
      "1/1 [==============================] - 0s 28ms/step\n",
      "1/1 [==============================] - 0s 33ms/step\n",
      "1/1 [==============================] - 0s 33ms/step\n",
      "1/1 [==============================] - 0s 30ms/step\n",
      "1/1 [==============================] - 0s 33ms/step\n",
      "1/1 [==============================] - 0s 54ms/step\n",
      "1/1 [==============================] - 0s 33ms/step\n",
      "1/1 [==============================] - 0s 38ms/step\n",
      "1/1 [==============================] - 0s 37ms/step\n",
      "1/1 [==============================] - 0s 34ms/step\n",
      "1/1 [==============================] - 0s 32ms/step\n",
      "1/1 [==============================] - 0s 32ms/step\n",
      "1/1 [==============================] - 0s 35ms/step\n",
      "1/1 [==============================] - 0s 58ms/step\n",
      "1/1 [==============================] - 0s 28ms/step\n",
      "1/1 [==============================] - 0s 29ms/step\n",
      "1/1 [==============================] - 0s 29ms/step\n",
      "1/1 [==============================] - 0s 30ms/step\n",
      "1/1 [==============================] - 0s 28ms/step\n",
      "1/1 [==============================] - 0s 34ms/step\n",
      "1/1 [==============================] - 0s 56ms/step\n",
      "1/1 [==============================] - 0s 30ms/step\n",
      "1/1 [==============================] - 0s 31ms/step\n",
      "1/1 [==============================] - 0s 76ms/step\n",
      "1/1 [==============================] - 0s 31ms/step\n",
      "1/1 [==============================] - 0s 40ms/step\n",
      "1/1 [==============================] - 0s 71ms/step\n",
      "1/1 [==============================] - 0s 29ms/step\n",
      "1/1 [==============================] - 0s 26ms/step\n",
      "1/1 [==============================] - 0s 61ms/step\n",
      "1/1 [==============================] - 0s 34ms/step\n",
      "1/1 [==============================] - 0s 51ms/step\n",
      "1/1 [==============================] - 0s 61ms/step\n",
      "1/1 [==============================] - 0s 31ms/step\n",
      "1/1 [==============================] - 0s 26ms/step\n",
      "1/1 [==============================] - 0s 31ms/step\n",
      "1/1 [==============================] - 0s 28ms/step\n",
      "1/1 [==============================] - 0s 30ms/step\n",
      "1/1 [==============================] - 0s 29ms/step\n",
      "1/1 [==============================] - 0s 39ms/step\n",
      "1/1 [==============================] - 0s 30ms/step\n",
      "1/1 [==============================] - 0s 32ms/step\n",
      "1/1 [==============================] - 0s 31ms/step\n",
      "1/1 [==============================] - 0s 36ms/step\n",
      "1/1 [==============================] - 0s 34ms/step\n",
      "1/1 [==============================] - 0s 34ms/step\n",
      "1/1 [==============================] - 0s 60ms/step\n",
      "1/1 [==============================] - 0s 31ms/step\n",
      "1/1 [==============================] - 0s 34ms/step\n",
      "1/1 [==============================] - 0s 32ms/step\n",
      "1/1 [==============================] - 0s 34ms/step\n",
      "1/1 [==============================] - 0s 35ms/step\n",
      "1/1 [==============================] - 0s 33ms/step\n",
      "1/1 [==============================] - 0s 85ms/step\n",
      "1/1 [==============================] - 0s 27ms/step\n",
      "1/1 [==============================] - 0s 26ms/step\n",
      "1/1 [==============================] - 0s 31ms/step\n",
      "1/1 [==============================] - 0s 32ms/step\n",
      "1/1 [==============================] - 0s 60ms/step\n",
      "1/1 [==============================] - 0s 31ms/step\n",
      "1/1 [==============================] - 0s 37ms/step\n",
      "1/1 [==============================] - 0s 60ms/step\n",
      "1/1 [==============================] - 0s 34ms/step\n",
      "1/1 [==============================] - 0s 36ms/step\n",
      "1/1 [==============================] - 0s 29ms/step\n",
      "1/1 [==============================] - 0s 28ms/step\n",
      "1/1 [==============================] - 0s 89ms/step\n",
      "1/1 [==============================] - 0s 39ms/step\n",
      "1/1 [==============================] - 0s 38ms/step\n",
      "1/1 [==============================] - 0s 60ms/step\n",
      "1/1 [==============================] - 0s 36ms/step\n",
      "1/1 [==============================] - 0s 54ms/step\n",
      "1/1 [==============================] - 0s 52ms/step\n",
      "1/1 [==============================] - 0s 38ms/step\n",
      "1/1 [==============================] - 0s 31ms/step\n",
      "1/1 [==============================] - 0s 36ms/step\n",
      "1/1 [==============================] - 0s 27ms/step\n",
      "1/1 [==============================] - 0s 30ms/step\n",
      "1/1 [==============================] - 0s 39ms/step\n",
      "1/1 [==============================] - 0s 31ms/step\n",
      "1/1 [==============================] - 0s 66ms/step\n",
      "1/1 [==============================] - 0s 33ms/step\n",
      "1/1 [==============================] - 0s 84ms/step\n",
      "1/1 [==============================] - 0s 43ms/step\n",
      "1/1 [==============================] - 0s 35ms/step\n",
      "1/1 [==============================] - 0s 32ms/step\n",
      "1/1 [==============================] - 0s 30ms/step\n",
      "1/1 [==============================] - 0s 31ms/step\n",
      "1/1 [==============================] - 0s 32ms/step\n",
      "1/1 [==============================] - 0s 32ms/step\n",
      "1/1 [==============================] - 0s 33ms/step\n",
      "1/1 [==============================] - 0s 61ms/step\n",
      "1/1 [==============================] - 0s 60ms/step\n",
      "1/1 [==============================] - 0s 32ms/step\n",
      "1/1 [==============================] - 0s 33ms/step\n",
      "1/1 [==============================] - 0s 31ms/step\n",
      "1/1 [==============================] - 0s 34ms/step\n",
      "1/1 [==============================] - 0s 33ms/step\n",
      "1/1 [==============================] - 0s 41ms/step\n",
      "1/1 [==============================] - 0s 44ms/step\n",
      "1/1 [==============================] - 0s 38ms/step\n",
      "1/1 [==============================] - 0s 32ms/step\n",
      "1/1 [==============================] - 0s 62ms/step\n",
      "1/1 [==============================] - 0s 38ms/step\n",
      "1/1 [==============================] - 0s 76ms/step\n",
      "1/1 [==============================] - 0s 26ms/step\n",
      "1/1 [==============================] - 0s 33ms/step\n",
      "1/1 [==============================] - 0s 61ms/step\n",
      "1/1 [==============================] - 0s 60ms/step\n",
      "1/1 [==============================] - 0s 34ms/step\n",
      "1/1 [==============================] - 0s 36ms/step\n",
      "1/1 [==============================] - 0s 35ms/step\n",
      "1/1 [==============================] - 0s 31ms/step\n",
      "1/1 [==============================] - 0s 30ms/step\n",
      "1/1 [==============================] - 0s 40ms/step\n",
      "1/1 [==============================] - 0s 27ms/step\n",
      "1/1 [==============================] - 0s 66ms/step\n",
      "1/1 [==============================] - 0s 36ms/step\n",
      "1/1 [==============================] - 0s 39ms/step\n",
      "1/1 [==============================] - 0s 71ms/step\n",
      "1/1 [==============================] - 0s 31ms/step\n",
      "1/1 [==============================] - 0s 64ms/step\n",
      "1/1 [==============================] - 0s 33ms/step\n",
      "1/1 [==============================] - 0s 31ms/step\n",
      "1/1 [==============================] - 0s 35ms/step\n",
      "1/1 [==============================] - 0s 34ms/step\n",
      "1/1 [==============================] - 0s 37ms/step\n",
      "1/1 [==============================] - 0s 38ms/step\n",
      "1/1 [==============================] - 0s 36ms/step\n",
      "1/1 [==============================] - 0s 54ms/step\n",
      "1/1 [==============================] - 0s 28ms/step\n",
      "1/1 [==============================] - 0s 31ms/step\n",
      "1/1 [==============================] - 0s 30ms/step\n",
      "1/1 [==============================] - 0s 62ms/step\n",
      "1/1 [==============================] - 0s 38ms/step\n",
      "1/1 [==============================] - 0s 35ms/step\n",
      "1/1 [==============================] - 0s 41ms/step\n",
      "1/1 [==============================] - 0s 30ms/step\n",
      "1/1 [==============================] - 0s 31ms/step\n",
      "1/1 [==============================] - 0s 26ms/step\n",
      "1/1 [==============================] - 0s 31ms/step\n",
      "1/1 [==============================] - 0s 30ms/step\n",
      "1/1 [==============================] - 0s 35ms/step\n",
      "1/1 [==============================] - 0s 31ms/step\n",
      "1/1 [==============================] - 0s 33ms/step\n",
      "1/1 [==============================] - 0s 26ms/step\n",
      "1/1 [==============================] - 0s 29ms/step\n",
      "1/1 [==============================] - 0s 30ms/step\n",
      "1/1 [==============================] - 0s 27ms/step\n",
      "1/1 [==============================] - 0s 31ms/step\n",
      "1/1 [==============================] - 0s 32ms/step\n",
      "1/1 [==============================] - 0s 42ms/step\n",
      "1/1 [==============================] - 0s 32ms/step\n",
      "1/1 [==============================] - 0s 31ms/step\n",
      "1/1 [==============================] - 0s 37ms/step\n",
      "1/1 [==============================] - 0s 29ms/step\n",
      "1/1 [==============================] - 0s 28ms/step\n",
      "1/1 [==============================] - 0s 32ms/step\n",
      "1/1 [==============================] - 0s 73ms/step\n",
      "1/1 [==============================] - 0s 29ms/step\n",
      "1/1 [==============================] - 0s 29ms/step\n",
      "1/1 [==============================] - 0s 35ms/step\n",
      "1/1 [==============================] - 0s 28ms/step\n",
      "1/1 [==============================] - 0s 35ms/step\n",
      "1/1 [==============================] - 0s 32ms/step\n",
      "1/1 [==============================] - 0s 34ms/step\n",
      "1/1 [==============================] - 0s 33ms/step\n",
      "1/1 [==============================] - 0s 32ms/step\n",
      "1/1 [==============================] - 0s 61ms/step\n",
      "1/1 [==============================] - 0s 30ms/step\n",
      "1/1 [==============================] - 0s 66ms/step\n",
      "1/1 [==============================] - 0s 33ms/step\n",
      "1/1 [==============================] - 0s 39ms/step\n",
      "1/1 [==============================] - 0s 37ms/step\n",
      "1/1 [==============================] - 0s 28ms/step\n",
      "1/1 [==============================] - 0s 32ms/step\n",
      "1/1 [==============================] - 0s 66ms/step\n",
      "1/1 [==============================] - 0s 33ms/step\n",
      "1/1 [==============================] - 0s 31ms/step\n",
      "1/1 [==============================] - 0s 35ms/step\n",
      "1/1 [==============================] - 0s 27ms/step\n",
      "1/1 [==============================] - 0s 32ms/step\n",
      "1/1 [==============================] - 0s 61ms/step\n",
      "1/1 [==============================] - 0s 48ms/step\n",
      "1/1 [==============================] - 0s 31ms/step\n",
      "1/1 [==============================] - 0s 30ms/step\n",
      "1/1 [==============================] - 0s 33ms/step\n",
      "1/1 [==============================] - 0s 32ms/step\n",
      "1/1 [==============================] - 0s 36ms/step\n",
      "1/1 [==============================] - 0s 30ms/step\n",
      "1/1 [==============================] - 0s 32ms/step\n",
      "1/1 [==============================] - 0s 33ms/step\n",
      "1/1 [==============================] - 0s 30ms/step\n",
      "1/1 [==============================] - 0s 29ms/step\n",
      "1/1 [==============================] - 0s 43ms/step\n",
      "1/1 [==============================] - 0s 31ms/step\n",
      "1/1 [==============================] - 0s 37ms/step\n",
      "1/1 [==============================] - 0s 31ms/step\n",
      "1/1 [==============================] - 0s 30ms/step\n",
      "1/1 [==============================] - 0s 36ms/step\n",
      "1/1 [==============================] - 0s 29ms/step\n",
      "1/1 [==============================] - 0s 35ms/step\n",
      "1/1 [==============================] - 0s 35ms/step\n",
      "1/1 [==============================] - 0s 30ms/step\n",
      "1/1 [==============================] - 0s 56ms/step\n",
      "1/1 [==============================] - 0s 30ms/step\n",
      "1/1 [==============================] - 0s 64ms/step\n",
      "1/1 [==============================] - 0s 73ms/step\n",
      "1/1 [==============================] - 0s 34ms/step\n",
      "1/1 [==============================] - 0s 70ms/step\n",
      "1/1 [==============================] - 0s 27ms/step\n",
      "1/1 [==============================] - 0s 31ms/step\n",
      "1/1 [==============================] - 0s 29ms/step\n",
      "1/1 [==============================] - 0s 35ms/step\n",
      "1/1 [==============================] - 0s 26ms/step\n",
      "1/1 [==============================] - 0s 72ms/step\n",
      "1/1 [==============================] - 0s 52ms/step\n",
      "1/1 [==============================] - 0s 32ms/step\n",
      "1/1 [==============================] - 0s 91ms/step\n",
      "1/1 [==============================] - 0s 29ms/step\n",
      "1/1 [==============================] - 0s 35ms/step\n",
      "1/1 [==============================] - 0s 61ms/step\n",
      "1/1 [==============================] - 0s 43ms/step\n",
      "1/1 [==============================] - 0s 60ms/step\n",
      "1/1 [==============================] - 0s 29ms/step\n",
      "1/1 [==============================] - 0s 31ms/step\n",
      "1/1 [==============================] - 0s 63ms/step\n",
      "1/1 [==============================] - 0s 27ms/step\n",
      "1/1 [==============================] - 0s 67ms/step\n",
      "1/1 [==============================] - 0s 39ms/step\n",
      "1/1 [==============================] - 0s 66ms/step\n",
      "1/1 [==============================] - 0s 28ms/step\n",
      "1/1 [==============================] - 0s 29ms/step\n",
      "1/1 [==============================] - 0s 28ms/step\n",
      "1/1 [==============================] - 0s 28ms/step\n",
      "1/1 [==============================] - 0s 32ms/step\n",
      "1/1 [==============================] - 0s 30ms/step\n",
      "1/1 [==============================] - 0s 63ms/step\n",
      "1/1 [==============================] - 0s 37ms/step\n",
      "1/1 [==============================] - 0s 37ms/step\n",
      "1/1 [==============================] - 0s 33ms/step\n",
      "1/1 [==============================] - 0s 66ms/step\n",
      "1/1 [==============================] - 0s 44ms/step\n",
      "1/1 [==============================] - 0s 35ms/step\n",
      "1/1 [==============================] - 0s 37ms/step\n",
      "1/1 [==============================] - 0s 39ms/step\n",
      "1/1 [==============================] - 0s 36ms/step\n",
      "1/1 [==============================] - 0s 38ms/step\n",
      "1/1 [==============================] - 0s 47ms/step\n",
      "1/1 [==============================] - 0s 35ms/step\n",
      "1/1 [==============================] - 0s 36ms/step\n",
      "1/1 [==============================] - 0s 36ms/step\n",
      "1/1 [==============================] - 0s 38ms/step\n",
      "1/1 [==============================] - 0s 51ms/step\n",
      "1/1 [==============================] - 0s 33ms/step\n",
      "1/1 [==============================] - 0s 35ms/step\n",
      "1/1 [==============================] - 0s 57ms/step\n",
      "1/1 [==============================] - 0s 31ms/step\n",
      "1/1 [==============================] - 0s 33ms/step\n",
      "1/1 [==============================] - 0s 30ms/step\n",
      "1/1 [==============================] - 0s 33ms/step\n",
      "1/1 [==============================] - 0s 33ms/step\n",
      "1/1 [==============================] - 0s 35ms/step\n",
      "1/1 [==============================] - 0s 36ms/step\n",
      "1/1 [==============================] - 0s 37ms/step\n",
      "1/1 [==============================] - 0s 49ms/step\n",
      "1/1 [==============================] - 0s 38ms/step\n",
      "1/1 [==============================] - 0s 43ms/step\n",
      "1/1 [==============================] - 0s 36ms/step\n",
      "1/1 [==============================] - 0s 34ms/step\n",
      "1/1 [==============================] - 0s 33ms/step\n",
      "1/1 [==============================] - 0s 52ms/step\n",
      "1/1 [==============================] - 0s 36ms/step\n",
      "1/1 [==============================] - 0s 37ms/step\n",
      "1/1 [==============================] - 0s 34ms/step\n",
      "1/1 [==============================] - 0s 36ms/step\n",
      "1/1 [==============================] - 0s 36ms/step\n",
      "1/1 [==============================] - 0s 31ms/step\n",
      "1/1 [==============================] - 0s 40ms/step\n",
      "1/1 [==============================] - 0s 31ms/step\n",
      "1/1 [==============================] - 0s 59ms/step\n",
      "1/1 [==============================] - 0s 31ms/step\n",
      "1/1 [==============================] - 0s 34ms/step\n",
      "1/1 [==============================] - 0s 60ms/step\n",
      "1/1 [==============================] - 0s 28ms/step\n",
      "1/1 [==============================] - 0s 28ms/step\n",
      "1/1 [==============================] - 0s 31ms/step\n",
      "1/1 [==============================] - 0s 31ms/step\n",
      "1/1 [==============================] - 0s 30ms/step\n",
      "1/1 [==============================] - 0s 30ms/step\n",
      "1/1 [==============================] - 0s 47ms/step\n",
      "1/1 [==============================] - 0s 69ms/step\n",
      "1/1 [==============================] - 0s 34ms/step\n",
      "1/1 [==============================] - 0s 71ms/step\n",
      "1/1 [==============================] - 0s 26ms/step\n",
      "1/1 [==============================] - 0s 67ms/step\n",
      "1/1 [==============================] - 0s 36ms/step\n",
      "1/1 [==============================] - 0s 63ms/step\n"
     ]
    }
   ],
   "source": [
    "for email, label in ds_test.unbatch():\n",
    "    email_str = email.numpy().decode(encoding)\n",
    "    label_int = label.numpy()\n",
    "    prediction_float = model.predict([email_str])[0][0]\n",
    "    if label_int == 0 and prediction_float > prob_threshold:\n",
    "        print(email_str)\n",
    "        print(f'Label: {label_int}')\n",
    "        print(f'Prediction: {prediction_float}')"
   ]
  },
  {
   "attachments": {},
   "cell_type": "markdown",
   "metadata": {
    "datalore": {
     "hide_input_from_viewers": false,
     "hide_output_from_viewers": false,
     "type": "MD"
    },
    "pycharm": {
     "name": "#%% md\n"
    }
   },
   "source": [
    "It's a Compaq advertisement, arguably spam. So the situation here seems more like AI has been smarter than human intelligence."
   ]
  },
  {
   "attachments": {},
   "cell_type": "markdown",
   "metadata": {
    "datalore": {
     "hide_input_from_viewers": false,
     "hide_output_from_viewers": false,
     "type": "MD"
    },
    "pycharm": {
     "name": "#%% md\n"
    }
   },
   "source": [
    "To sum up, Bayesian filters on the `Enron1` dataset proved to be better than a naive text classification neural network, but an enhanced neural network can exceed them. However, this comes at a significant computational cost: on an [AWS T2](https://aws.amazon.com/ec2/instance-types/t2/) medium instance with 2 CPUs and 4 GiB memory, even the naive neural network's training took about 10 seconds, the enhanced one's took about a half minute, whereas in the Bayesian filtering, calculating the word probabilities (the single computationally expensive part of the algorithm; comparable to training in neural networks) only required about 2 seconds. On a machine with an Intel Core i5-6440HQ processor and 24 GiB memory, similar times were measured."
   ]
  },
  {
   "cell_type": "markdown",
   "metadata": {},
   "source": [
    "This technical result provides an [application-driven argument](https://plato.stanford.edu/archives/sum2024/entries/epistemology-bayesian/#AlteFoun) \n",
    "for Bayesian epistemology: Bayesianism seems to strike the best balance between accuracy and simplicity."
   ]
  },
  {
   "cell_type": "markdown",
   "metadata": {
    "id": "9eBiwQbud7dk"
   },
   "source": [
    "## Large language models\n",
    "\n",
    "Let's evaluate large language models (LLMs). We'll start with Google's Gemini. We will use Gemini 1.5 Flash, \n",
    "the default model in [Google AI Studio](https://aistudio.google.com) as of September 2024."
   ]
  },
  {
   "cell_type": "markdown",
   "metadata": {},
   "source": [
    "Let's try one prompt first:"
   ]
  },
  {
   "cell_type": "markdown",
   "metadata": {},
   "source": [
    "Prompt:\n",
    "\n",
    "> Is this a spam email? \"Subject: meter variances - ua 4 clean - up\\r\\ndaren / vance -\\r\\nthe two meters below are new and have unallocatable flow . . . . . . . i will need a\\r\\npurchase for each of them . please respond with a deal number , or further\\r\\nsuggestions for resolution so that i can clear this up as soon as possible .\\r\\nmary\\r\\nenron on 09 / 19 / 2000 08 : 44 am - - - - - - - - - - - - - - - - - - - - - - - - - - -\\r\\nkatherine benedict @ ect\\r\\n09 / 18 / 2000 04 : 53 pm\\r\\nto : mary poorman / na / enron @ enron , fred boas / hou / ect @ ect , aimee\\r\\nlannou / hou / ect @ ect\\r\\ncc :\\r\\nsubject : meter variances - ua 4 clean - up\\r\\nhi guys ,\\r\\nplease take a look at the following meters which are showing up with\\r\\nvariances on my ua 4 report . once the variance has been cleared , please send\\r\\nme an e - mail . please try to clear these within the next couple of days .\\r\\nthanks ,\\r\\nkathy benedict\\r\\nmeter number : 9851\\r\\nvariance : 11 , 204\\r\\nmeter type : daily swing\\r\\nproduction month : august 2000\\r\\nlogistics contact : none\\r\\nvolume mgmt contact : anita luong\\r\\nmeter number : 9852\\r\\nvariance 568\\r\\nmeter type : daily swing\\r\\nproduction month : august 2000\\r\\nlogistics contact : none\\r\\nvolume mgmt contact : anita luong\""
   ]
  },
  {
   "cell_type": "markdown",
   "metadata": {},
   "source": [
    "Response:\n",
    "\n",
    "> This email is not spam. It's an internal communication from an Enron employee, likely related to their energy trading business.  \n",
    "> \n",
    "> Here's why:\n",
    "> \n",
    "> * **Context:** The email refers to \"meter variances,\" \"ua 4 report,\" and \"production month,\" indicating a business context related to energy production and billing.\n",
    "> * **Sender and Recipient:**  The email includes names like \"Mary Poorman,\" \"Fred Boas,\" and \"Aimee Lannou,\" all associated with Enron. \n",
    "> * **Specific Details:** The email includes detailed information about specific meters, variances, and contact persons. This level of detail is typical of internal business communications.\n",
    "> * **No Promotion or External Links:** There is no attempt to sell anything or direct the reader to external websites.\n",
    "> \n",
    "> **However, it's important to note:** \n",
    "> \n",
    "> * **Enron's History:**  Enron was a company involved in a massive financial scandal in the early 2000s. This email is dated 2000, so it could potentially be related to their unethical practices.\n",
    "> * **Privacy:** This email may contain sensitive company information, and it's not appropriate to share publicly.\n",
    "> \n",
    "> **If you found this email, you should be careful about sharing it or using the information it contains.** \n"
   ]
  },
  {
   "cell_type": "markdown",
   "metadata": {},
   "source": [
    "Now let's add the system instruction\n",
    "\n",
    "> Answer in one term (spam or not spam)."
   ]
  },
  {
   "cell_type": "markdown",
   "metadata": {},
   "source": [
    "Response:\n",
    "\n",
    "> not spam \n"
   ]
  },
  {
   "cell_type": "markdown",
   "metadata": {},
   "source": [
    "Now let's try to evaluate Gemini on our full test dataset.\n",
    "\n",
    "For this, we'll make use of the Gemini API Python SDK:"
   ]
  },
  {
   "cell_type": "code",
   "execution_count": null,
   "metadata": {},
   "outputs": [],
   "source": [
    "genai.configure(api_key=os.environ[\"GEMINI_API_KEY\"])"
   ]
  },
  {
   "cell_type": "markdown",
   "metadata": {},
   "source": [
    "Instantiate the Gemini model, with disabled safety settings (necessary for analyzing e.g. sexually explicit spam). \n",
    "Also, we set the temperature parameter to 0, in order to avoid more detailed responses."
   ]
  },
  {
   "cell_type": "code",
   "execution_count": 208,
   "metadata": {
    "id": "fkBbj62heAmG"
   },
   "outputs": [],
   "source": [
    "model = genai.GenerativeModel(\n",
    "  model_name=\"gemini-1.5-flash\",\n",
    "  generation_config={\n",
    "    \"temperature\": 0,\n",
    "  },\n",
    "  safety_settings={\n",
    "      HarmCategory.HARM_CATEGORY_HATE_SPEECH: HarmBlockThreshold.BLOCK_NONE,\n",
    "      HarmCategory.HARM_CATEGORY_HARASSMENT: HarmBlockThreshold.BLOCK_NONE,\n",
    "      HarmCategory.HARM_CATEGORY_DANGEROUS_CONTENT: HarmBlockThreshold.BLOCK_NONE,\n",
    "      HarmCategory.HARM_CATEGORY_SEXUALLY_EXPLICIT: HarmBlockThreshold.BLOCK_NONE,\n",
    "  },\n",
    "  system_instruction=\"Answer in one term (spam or not spam).\",\n",
    ")"
   ]
  },
  {
   "cell_type": "code",
   "execution_count": 209,
   "metadata": {
    "colab": {
     "base_uri": "https://localhost:8080/",
     "height": 52
    },
    "id": "257zT8Z_fr-t",
    "outputId": "374f48dd-bcfe-4142-e19f-eb891287bb43"
   },
   "outputs": [
    {
     "name": "stdout",
     "output_type": "stream",
     "text": [
      "spam \n",
      "\n"
     ]
    }
   ],
   "source": [
    "response = model.generate_content(\"Is this a spam email? \\\"Subject: Viagra\\\"\")\n",
    "\n",
    "print(response.text)"
   ]
  },
  {
   "cell_type": "markdown",
   "metadata": {},
   "source": [
    "Next comes our evaluation code. The Gemini API quota is 2 requests per second and 240 requests per day, which unfortunately isn't enough for evaluating in one go, so we will go in chunks."
   ]
  },
  {
   "cell_type": "code",
   "execution_count": 201,
   "metadata": {
    "id": "8RjiULbUhWwZ"
   },
   "outputs": [],
   "source": [
    "def evaluate_gemini(test_start, test_end):\n",
    "    def print_details(e, l, p):\n",
    "        print(e)\n",
    "        print(f'Label: {l}')\n",
    "        print(p)\n",
    "\n",
    "    for email, label in list(ds_test.unbatch())[test_start:test_end]:\n",
    "        email_str = email.numpy().decode(encoding)\n",
    "        label_int = label.numpy()\n",
    "        prediction = model.generate_content(f'Is this a spam email? \"{email_str}\"').text\n",
    "        if re.match(r'^spam\\s*$', prediction):\n",
    "          if label_int == 0:\n",
    "            print_details(email_str, label_int, prediction)\n",
    "        elif re.match(r'^not spam\\s*$', prediction):\n",
    "          if label_int == 1:\n",
    "            print_details(email_str, label_int, prediction)\n",
    "        else:\n",
    "          print_details(email_str, label_int, prediction)\n",
    "        time.sleep(.5)  # Gemini API quota is 2 requests per second"
   ]
  },
  {
   "cell_type": "code",
   "execution_count": null,
   "metadata": {
    "colab": {
     "base_uri": "https://localhost:8080/",
     "height": 582
    },
    "id": "PKEEOG2WEWqC",
    "outputId": "f3fdf624-959b-4d69-a4b6-c07dbf91e0b8"
   },
   "outputs": [],
   "source": [
    "evaluate_gemini(0, 10)"
   ]
  },
  {
   "cell_type": "markdown",
   "metadata": {},
   "source": [
    "```\n",
    "Subject: re : noms / actual flow for 03 / 14\n",
    "we agree\n",
    "\" eileen ponton \" on 03 / 15 / 2001 09 : 47 : 26 am\n",
    "to : david avila / lsp / enserch / us @ tu , charlie stone / texas utilities @ tu , melissa\n",
    "jones / texas utilities @ tu , hpl . scheduling @ enron . com , liz . bellamy @ enron . com\n",
    "cc :\n",
    "subject : noms / actual flow for 03 / 14\n",
    "date nom flow - mcf flow - mmbtu\n",
    "3 / 14 23 , 750 23 , 112 23 , 736\n",
    "btu = 1 . 027\n",
    "Label: 0\n",
    "spam \n",
    "\n",
    "Subject: ces - duke en field services\n",
    "the purchase and sale is at felmont # 1 ( point sale ) . we will be terminating\n",
    "the agreement . feb should be the last month .\n",
    "Label: 0\n",
    "Spam \n",
    "\n",
    "Subject: hpl noms for april 27 , 2001\n",
    "( see attached file : hplno 427 . xls )\n",
    "- hplno 427 . xls\n",
    "Label: 0\n",
    "spam \n",
    "\n",
    "Subject: enron actuals for june 26 , 2000\n",
    "teco tap 20 . 000 / enron ; 5 . 833 / hpl iferc ; 94 . 167 / hpl gas daily\n",
    "ls hpl lsk ic 30 . 000 / enron\n",
    "Label: 0\n",
    "spam \n",
    "\n",
    "Subject: enron / hpl actuals for july 6 , 2000\n",
    "teco tap 10 . 000 / enron ; 90 . 000 / hpl iferc\n",
    "ls hpl lsk ic 30 . 000 / enron\n",
    "Label: 0\n",
    "spam \n",
    "\n",
    "```"
   ]
  },
  {
   "cell_type": "markdown",
   "metadata": {},
   "source": [
    "It looks like Gemini on its own is not trained enough for this dataset."
   ]
  },
  {
   "cell_type": "markdown",
   "metadata": {},
   "source": [
    "Fine-tuning the [Gemini embeddings](https://ai.google.dev/gemini-api/tutorials/text_classifier_embeddings) \n",
    "promises a better, task-specific training:"
   ]
  },
  {
   "cell_type": "code",
   "execution_count": null,
   "metadata": {},
   "outputs": [],
   "source": [
    "from google.api_core import retry\n",
    "\n",
    "@retry.Retry(timeout=300.0)\n",
    "def embed(text: str) -> list[float]:\n",
    "  embedding = genai.embed_content(model='models/embedding-001',\n",
    "                                  content=text[:1000],  # Prevent too long Gemini API requests.\n",
    "                                  task_type=\"classification\")\n",
    "  return embedding['embedding']"
   ]
  },
  {
   "cell_type": "code",
   "execution_count": null,
   "metadata": {},
   "outputs": [],
   "source": [
    "def create_embeddings_and_labels(ds, embed_fn=embed):\n",
    "    embeddings = []\n",
    "    labels = []\n",
    "    for email, label in ds.unbatch():\n",
    "        email_str = email.numpy().decode(encoding)\n",
    "        label_int = label.numpy()\n",
    "        embeddings.append(embed_fn(email_str))\n",
    "        labels.append(label_int)\n",
    "        print(f'{len(embeddings)} emails processed')\n",
    "    return np.stack(embeddings), np.array(labels)"
   ]
  },
  {
   "cell_type": "code",
   "execution_count": null,
   "metadata": {},
   "outputs": [],
   "source": [
    "%time gemini_test, gemini_test_labels = create_embeddings_and_labels(ds_test)"
   ]
  },
  {
   "cell_type": "code",
   "execution_count": null,
   "metadata": {},
   "outputs": [],
   "source": [
    "num_batch_train_gemini = 30  # Use about 1000 emails only, for a reasonable number of requests.\n",
    "\n",
    "ds_train_gemini = ds_train_neural.take(num_batch_train_gemini)\n",
    "ds_val_gemini = ds_train_neural.skip(num_batch_train_gemini).take(num_batch_train_gemini // 10)"
   ]
  },
  {
   "cell_type": "code",
   "execution_count": null,
   "metadata": {},
   "outputs": [],
   "source": [
    "%time gemini_val, gemini_val_labels = create_embeddings_and_labels(ds_val_gemini)"
   ]
  },
  {
   "cell_type": "code",
   "execution_count": null,
   "metadata": {},
   "outputs": [],
   "source": [
    "%time gemini_train, gemini_train_labels = create_embeddings_and_labels(ds_train_gemini)"
   ]
  },
  {
   "cell_type": "code",
   "execution_count": null,
   "metadata": {},
   "outputs": [],
   "source": [
    "inputs = tf.keras.Input((768,))\n",
    "hidden = tf.keras.layers.Dense(768, activation='relu')(inputs)\n",
    "outputs = tf.keras.layers.Dense(1, activation='sigmoid')(hidden)\n",
    "gemini_embedding_model = tf.keras.Model(inputs, outputs)\n",
    "\n",
    "gemini_embedding_model.summary()"
   ]
  },
  {
   "cell_type": "code",
   "execution_count": null,
   "metadata": {},
   "outputs": [],
   "source": [
    "gemini_embedding_model.compile(loss=tf.keras.losses.BinaryCrossentropy(),\n",
    "                               optimizer='adam',\n",
    "                               metrics=[tf.metrics.FalsePositives(thresholds=prob_threshold, name='gemini_false_positives'),\n",
    "                                        tf.metrics.FalseNegatives(thresholds=prob_threshold, name='gemini_false_negatives')])"
   ]
  },
  {
   "cell_type": "code",
   "execution_count": null,
   "metadata": {},
   "outputs": [],
   "source": [
    "gemini_embedding_model.fit(x=gemini_train,\n",
    "                           y=gemini_train_labels,\n",
    "                           validation_data=(\n",
    "                               gemini_val, \n",
    "                               gemini_val_labels),\n",
    "                           callbacks=[tf.keras.callbacks.EarlyStopping(\n",
    "                               monitor='val_gemini_false_negatives',\n",
    "                               mode='min', \n",
    "                               patience=5)],  # 5 has performed best.\n",
    "                           batch_size=32,\n",
    "                           epochs=20,)"
   ]
  },
  {
   "cell_type": "markdown",
   "metadata": {},
   "source": [
    "```\n",
    "Epoch 1/20\n",
    "30/30 ━━━━━━━━━━━━━━━━━━━━ 2s 21ms/step - gemini_false_negatives: 141.4194 - gemini_false_positives: 0.0000e+00 - loss: 0.4598 - val_gemini_false_negatives: 12.0000 - val_gemini_false_positives: 0.0000e+00 - val_loss: 0.1497\n",
    "Epoch 2/20\n",
    "30/30 ━━━━━━━━━━━━━━━━━━━━ 1s 10ms/step - gemini_false_negatives: 59.0645 - gemini_false_positives: 0.0000e+00 - loss: 0.0979 - val_gemini_false_negatives: 4.0000 - val_gemini_false_positives: 0.0000e+00 - val_loss: 0.0933\n",
    "Epoch 3/20\n",
    "30/30 ━━━━━━━━━━━━━━━━━━━━ 1s 11ms/step - gemini_false_negatives: 24.2903 - gemini_false_positives: 1.6774 - loss: 0.0534 - val_gemini_false_negatives: 2.0000 - val_gemini_false_positives: 0.0000e+00 - val_loss: 0.0694\n",
    "Epoch 4/20\n",
    "30/30 ━━━━━━━━━━━━━━━━━━━━ 1s 11ms/step - gemini_false_negatives: 18.7742 - gemini_false_positives: 0.0000e+00 - loss: 0.0366 - val_gemini_false_negatives: 2.0000 - val_gemini_false_positives: 0.0000e+00 - val_loss: 0.0566\n",
    "Epoch 5/20\n",
    "30/30 ━━━━━━━━━━━━━━━━━━━━ 1s 10ms/step - gemini_false_negatives: 11.6452 - gemini_false_positives: 0.0000e+00 - loss: 0.0268 - val_gemini_false_negatives: 1.0000 - val_gemini_false_positives: 0.0000e+00 - val_loss: 0.0482\n",
    "Epoch 6/20\n",
    "30/30 ━━━━━━━━━━━━━━━━━━━━ 1s 11ms/step - gemini_false_negatives: 6.9032 - gemini_false_positives: 0.0000e+00 - loss: 0.0204 - val_gemini_false_negatives: 1.0000 - val_gemini_false_positives: 0.0000e+00 - val_loss: 0.0408\n",
    "Epoch 7/20\n",
    "30/30 ━━━━━━━━━━━━━━━━━━━━ 1s 14ms/step - gemini_false_negatives: 3.7097 - gemini_false_positives: 0.0000e+00 - loss: 0.0157 - val_gemini_false_negatives: 1.0000 - val_gemini_false_positives: 0.0000e+00 - val_loss: 0.0335\n",
    "Epoch 8/20\n",
    "30/30 ━━━━━━━━━━━━━━━━━━━━ 1s 16ms/step - gemini_false_negatives: 3.7097 - gemini_false_positives: 0.0000e+00 - loss: 0.0119 - val_gemini_false_negatives: 1.0000 - val_gemini_false_positives: 0.0000e+00 - val_loss: 0.0270\n",
    "Epoch 9/20\n",
    "30/30 ━━━━━━━━━━━━━━━━━━━━ 1s 22ms/step - gemini_false_negatives: 1.9677 - gemini_false_positives: 0.0000e+00 - loss: 0.0089 - val_gemini_false_negatives: 1.0000 - val_gemini_false_positives: 0.0000e+00 - val_loss: 0.0224\n",
    "Epoch 10/20\n",
    "30/30 ━━━━━━━━━━━━━━━━━━━━ 1s 22ms/step - gemini_false_negatives: 1.0000 - gemini_false_positives: 0.0000e+00 - loss: 0.0067 - val_gemini_false_negatives: 1.0000 - val_gemini_false_positives: 0.0000e+00 - val_loss: 0.0200\n",
    "\n",
    "<keras.src.callbacks.history.History at 0x784031c75660>\n",
    "```"
   ]
  },
  {
   "cell_type": "code",
   "execution_count": null,
   "metadata": {},
   "outputs": [],
   "source": [
    "gemini_embedding_model.evaluate(gemini_test, gemini_test_labels, return_dict=True)"
   ]
  },
  {
   "cell_type": "markdown",
   "metadata": {},
   "source": [
    "```\n",
    "17/17 ━━━━━━━━━━━━━━━━━━━━ 0s 4ms/step - gemini_false_negatives: 8.5000 - gemini_false_positives: 0.0000e+00 - loss: 0.0386\n",
    "\n",
    "{'gemini_false_negatives': 15.0,\n",
    " 'gemini_false_positives': 0.0,\n",
    " 'loss': 0.042361751198768616}\n",
    "\n",
    "```"
   ]
  },
  {
   "cell_type": "markdown",
   "metadata": {},
   "source": [
    "This is the best performance we got so far, but the time of the Gemini API requests is very long. \n",
    "Can we speed it up with some open source embeddings model? After trying out some models from \n",
    "the [MTEB Leaderboard](https://huggingface.co/spaces/mteb/leaderboard) at Hugging Face, \n",
    "[GIST-large-Embedding-v0](https://huggingface.co/avsolatorio/GIST-large-Embedding-v0) proved to \n",
    "be the best:"
   ]
  },
  {
   "cell_type": "code",
   "execution_count": null,
   "metadata": {},
   "outputs": [],
   "source": [
    "!pip install sentence-transformers"
   ]
  },
  {
   "cell_type": "code",
   "execution_count": null,
   "metadata": {},
   "outputs": [],
   "source": [
    "from sentence_transformers import SentenceTransformer\n",
    "\n",
    "st_model = SentenceTransformer(\"avsolatorio/GIST-large-Embedding-v0\")"
   ]
  },
  {
   "cell_type": "code",
   "execution_count": null,
   "metadata": {},
   "outputs": [],
   "source": [
    "st_emb_dim = st_model.encode('Subject: enron / hpl actuals for july 6 , 2000').shape[0]\n",
    "print(st_emb_dim)"
   ]
  },
  {
   "cell_type": "code",
   "execution_count": null,
   "metadata": {},
   "outputs": [],
   "source": [
    "%time embs_test_st, labels_test_st = create_embeddings_and_labels(ds_test, st_model.encode)"
   ]
  },
  {
   "cell_type": "code",
   "execution_count": null,
   "metadata": {},
   "outputs": [],
   "source": [
    "%time embs_train_st, labels_train_st = create_embeddings_and_labels(ds_train_neural, st_model.encode)  # FIXME: batch division in current TF"
   ]
  },
  {
   "cell_type": "markdown",
   "metadata": {},
   "source": [
    "```\n",
    "...\n",
    "4128 emails processed\n",
    "CPU times: user 3min 40s, sys: 1.19 s, total: 3min 41s\n",
    "Wall time: 3min 45s\n",
    "```"
   ]
  },
  {
   "cell_type": "code",
   "execution_count": null,
   "metadata": {},
   "outputs": [],
   "source": [
    "%time embs_val_st, labels_val_st = create_embeddings_and_labels(ds_val_neural, st_model.encode)"
   ]
  },
  {
   "cell_type": "code",
   "execution_count": null,
   "metadata": {},
   "outputs": [],
   "source": [
    "inputs = tf.keras.Input((st_emb_dim,))\n",
    "hidden = tf.keras.layers.Dense(st_emb_dim, activation='relu')(inputs)\n",
    "outputs = tf.keras.layers.Dense(1, activation='sigmoid')(hidden)\n",
    "model = tf.keras.Model(inputs, outputs)\n",
    "\n",
    "model.summary()"
   ]
  },
  {
   "cell_type": "code",
   "execution_count": null,
   "metadata": {},
   "outputs": [],
   "source": [
    "model.compile(loss=tf.keras.losses.BinaryCrossentropy(),\n",
    "              optimizer='adam',\n",
    "              metrics=[tf.metrics.FalsePositives(thresholds=prob_threshold, name='false_positives'),\n",
    "                       tf.metrics.FalseNegatives(thresholds=prob_threshold, name='false_negatives')])"
   ]
  },
  {
   "cell_type": "code",
   "execution_count": null,
   "metadata": {},
   "outputs": [],
   "source": [
    "model.fit(x=embs_train_st,\n",
    "          y=labels_train_st,\n",
    "          validation_data=(embs_val_st, labels_val_st),\n",
    "          callbacks=[tf.keras.callbacks.EarlyStopping(\n",
    "              monitor='val_false_negatives',\n",
    "              mode='min',\n",
    "             patience=2)],\n",
    "          batch_size=32,\n",
    "          epochs=100,)"
   ]
  },
  {
   "cell_type": "code",
   "execution_count": null,
   "metadata": {},
   "outputs": [],
   "source": [
    "model.evaluate(embs_test_st, labels_test_st, return_dict=True)"
   ]
  },
  {
   "cell_type": "markdown",
   "metadata": {},
   "source": [
    "```\n",
    "17/17 ━━━━━━━━━━━━━━━━━━━━ 0s 11ms/step - loss: 0.0446 - st_false_negatives: 7.6111 - st_false_positives: 0.0000e+00\n",
    "\n",
    "{'loss': 0.06037163734436035,\n",
    " 'st_false_negatives': 15.0,\n",
    " 'st_false_positives': 0.0}\n",
    "\n",
    "```"
   ]
  },
  {
   "cell_type": "markdown",
   "metadata": {},
   "source": [
    "This is the same performance we got with the Gemini embeddings, but faster. \n",
    "The main part of calculating the embeddings of the training dataset took \n",
    "3 minutes and 45 seconds on a T4 GPU machine provided by Google Colab."
   ]
  },
  {
   "cell_type": "markdown",
   "metadata": {},
   "source": [
    "So our evaluation shows that the performance of the text classification neural networks using LLM embeddings is even more impressive than \n",
    "that of the one using self-trained embeddings, but comes at an even higher computational cost. The following table \n",
    "summarizes our results:\n",
    "\n",
    "| Model | False positives | False negatives | Training time |\n",
    "| ----- | -------------- | --------------- | ------------- |\n",
    "| Bayesian | 0%  | 10% | 2s   |\n",
    "| Basic NN | 0%* | 4%  | 30s  |\n",
    "| LLM      | 0%  | 3%  | 225s |\n",
    "\n",
    "\\* After manual correction."
   ]
  },
  {
   "cell_type": "markdown",
   "metadata": {},
   "source": [
    "These results strengthen the epistemological implication of the previous section: arguably, the Bayesian model \n",
    "balances the best between accuracy and simplicity."
   ]
  },
  {
   "cell_type": "markdown",
   "metadata": {},
   "source": [
    "## Epistemological conclusion\n",
    "\n",
    "We have seen that on the `Enron1` spam dataset, the Bayesian text classifier performs better than its originally specified biased version, and has a good enough performance compared to its more recently proposed machine learning alternatives, considering their complexity. This is in line with the conclusion of Earman's book [*Bayes or Bust?*](https://mitpress.mit.edu/9780262519007/bayes-or-bust/) – in our spam filtering examination, too, Bayesianism has provided the most epistemologically promising method."
   ]
  }
 ],
 "metadata": {
  "datalore": {
   "base_environment": "default",
   "computation_mode": "JUPYTER",
   "package_manager": "pip",
   "packages": [
    {
     "name": "tensorflow",
     "source": "PIP",
     "version": "2.7.0"
    },
    {
     "name": "mock",
     "source": "PIP",
     "version": "4.0.3"
    }
   ],
   "version": 1
  },
  "kernelspec": {
   "display_name": "Python 3",
   "language": "python",
   "name": "python3"
  },
  "language_info": {
   "codemirror_mode": {
    "name": "ipython",
    "version": 2
   },
   "file_extension": ".py",
   "mimetype": "text/x-python",
   "name": "python",
   "nbconvert_exporter": "python",
   "pygments_lexer": "ipython2",
   "version": "2.7.6"
  }
 },
 "nbformat": 4,
 "nbformat_minor": 4
}
